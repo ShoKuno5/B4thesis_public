{
 "cells": [
  {
   "cell_type": "code",
   "execution_count": 7,
   "metadata": {},
   "outputs": [
    {
     "name": "stdout",
     "output_type": "stream",
     "text": [
      "CPU times: user 10 µs, sys: 1 µs, total: 11 µs\n",
      "Wall time: 23.8 µs\n"
     ]
    }
   ],
   "source": [
    "#必要なパッケージのインポート\n",
    "\n",
    "import numpy as np\n",
    "\n",
    "import matplotlib\n",
    "import matplotlib.pyplot as plt\n",
    "\n",
    "import reservoirpy as rpy\n",
    "\n",
    "from scipy.integrate import solve_ivp\n",
    "import pandas as pd\n",
    "from reservoirpy.observables import nrmse, rsquare\n",
    "\n",
    "import matplotlib.pyplot as plt\n",
    "from mpl_toolkits.mplot3d import Axes3D\n",
    "\n",
    "import os\n",
    "\n",
    "rpy.verbosity(0)\n",
    "\n",
    "from reservoirpy.nodes import Reservoir, Ridge\n",
    "from reservoirpy.datasets import mackey_glass\n",
    "\n",
    "# just a little tweak to center the plots, nothing to worry about\n",
    "from IPython.core.display import HTML\n",
    "HTML(\"\"\"\n",
    "<style>\n",
    ".img-center {\n",
    "    display: block;\n",
    "    margin-left: auto;\n",
    "    margin-right: auto;\n",
    "    }\n",
    ".output_png {\n",
    "    display: table-cell;\n",
    "    text-align: center;\n",
    "    vertical-align: middle;\n",
    "    }\n",
    "</style>\n",
    "\"\"\")\n",
    "\n",
    "rpy.set_seed(42)\n",
    "\n",
    "%time\n"
   ]
  },
  {
   "cell_type": "code",
   "execution_count": 8,
   "metadata": {},
   "outputs": [],
   "source": [
    "def phase_shift(t, shift_hour):\n",
    "    # 2πは1日に対応します。8時間は(8/24)*2πに対応します。\n",
    "    shift_value = (shift_hour/24)*2*np.pi\n",
    "    # 4日ごとに位相をシフトします。\n",
    "    number_of_shifts = int(t / (4*2*np.pi))\n",
    "    return number_of_shifts * shift_value\n"
   ]
  },
  {
   "cell_type": "code",
   "execution_count": 9,
   "metadata": {},
   "outputs": [],
   "source": [
    "def rossler_system_with_shifted_force(t, state, a, b, c, A, shift_hour):\n",
    "    x, y, z = state\n",
    "    dxdt = -y - z + A * np.sin(t + phase_shift(t, shift_hour))  # X項に外力P(t)を加える（位相シフト付き）\n",
    "    dydt = x + a * y\n",
    "    dzdt = b + z * (x - c)\n",
    "    return [dxdt, dydt, dzdt]\n"
   ]
  },
  {
   "cell_type": "code",
   "execution_count": 10,
   "metadata": {},
   "outputs": [],
   "source": [
    "# 外力P(t)の振幅Aをパラメータとして追加します。\n",
    "A = 1.0  # 外力の振幅を設定します。この値を変更することで、外力の強さを変えられます。\n",
    "\n",
    "# パラメータ\n",
    "a = 0.2\n",
    "b = 0.2\n",
    "c = 5.7\n",
    "\n",
    "# 初期条件\n",
    "initial_state = [1.0, 1.0, 1.0]\n",
    "\n",
    "# 時間の設定\n",
    "t_span = [0, 4510]  # 開始時刻と終了時刻\n",
    "t_eval = np.linspace(t_span[0], t_span[1], 45100)  # 評価する時間点\n"
   ]
  },
  {
   "cell_type": "code",
   "execution_count": 11,
   "metadata": {},
   "outputs": [],
   "source": [
    "# 位相のシフトする時間を定める．\n",
    "shift_hours = range(-12, 13)\n"
   ]
  },
  {
   "cell_type": "code",
   "execution_count": 12,
   "metadata": {},
   "outputs": [
    {
     "ename": "KeyboardInterrupt",
     "evalue": "",
     "output_type": "error",
     "traceback": [
      "\u001b[0;31m---------------------------------------------------------------------------\u001b[0m",
      "\u001b[0;31mKeyboardInterrupt\u001b[0m                         Traceback (most recent call last)",
      "\u001b[1;32m/Users/manqueenmannequin/mygit/B4thesis_public/mywork/program/中間発表用/create_rossler_data.ipynb セル 6\u001b[0m line \u001b[0;36m7\n\u001b[1;32m      <a href='vscode-notebook-cell:/Users/manqueenmannequin/mygit/B4thesis_public/mywork/program/%E4%B8%AD%E9%96%93%E7%99%BA%E8%A1%A8%E7%94%A8/create_rossler_data.ipynb#W5sZmlsZQ%3D%3D?line=3'>4</a>\u001b[0m os\u001b[39m.\u001b[39mmakedirs(dir_name, exist_ok\u001b[39m=\u001b[39m\u001b[39mTrue\u001b[39;00m)\n\u001b[1;32m      <a href='vscode-notebook-cell:/Users/manqueenmannequin/mygit/B4thesis_public/mywork/program/%E4%B8%AD%E9%96%93%E7%99%BA%E8%A1%A8%E7%94%A8/create_rossler_data.ipynb#W5sZmlsZQ%3D%3D?line=5'>6</a>\u001b[0m \u001b[39m# 微分方程式の数値解を求める\u001b[39;00m\n\u001b[0;32m----> <a href='vscode-notebook-cell:/Users/manqueenmannequin/mygit/B4thesis_public/mywork/program/%E4%B8%AD%E9%96%93%E7%99%BA%E8%A1%A8%E7%94%A8/create_rossler_data.ipynb#W5sZmlsZQ%3D%3D?line=6'>7</a>\u001b[0m solution_with_shifted_force \u001b[39m=\u001b[39m solve_ivp(\n\u001b[1;32m      <a href='vscode-notebook-cell:/Users/manqueenmannequin/mygit/B4thesis_public/mywork/program/%E4%B8%AD%E9%96%93%E7%99%BA%E8%A1%A8%E7%94%A8/create_rossler_data.ipynb#W5sZmlsZQ%3D%3D?line=7'>8</a>\u001b[0m     rossler_system_with_shifted_force, t_span, initial_state,\n\u001b[1;32m      <a href='vscode-notebook-cell:/Users/manqueenmannequin/mygit/B4thesis_public/mywork/program/%E4%B8%AD%E9%96%93%E7%99%BA%E8%A1%A8%E7%94%A8/create_rossler_data.ipynb#W5sZmlsZQ%3D%3D?line=8'>9</a>\u001b[0m     args\u001b[39m=\u001b[39;49m(a, b, c, A, shift_hour), t_eval\u001b[39m=\u001b[39;49mt_eval, max_step\u001b[39m=\u001b[39;49m\u001b[39m0.01\u001b[39;49m\n\u001b[1;32m     <a href='vscode-notebook-cell:/Users/manqueenmannequin/mygit/B4thesis_public/mywork/program/%E4%B8%AD%E9%96%93%E7%99%BA%E8%A1%A8%E7%94%A8/create_rossler_data.ipynb#W5sZmlsZQ%3D%3D?line=9'>10</a>\u001b[0m )\n\u001b[1;32m     <a href='vscode-notebook-cell:/Users/manqueenmannequin/mygit/B4thesis_public/mywork/program/%E4%B8%AD%E9%96%93%E7%99%BA%E8%A1%A8%E7%94%A8/create_rossler_data.ipynb#W5sZmlsZQ%3D%3D?line=11'>12</a>\u001b[0m \u001b[39m# 外力P(t)の計算（位相シフト付き）\u001b[39;00m\n\u001b[1;32m     <a href='vscode-notebook-cell:/Users/manqueenmannequin/mygit/B4thesis_public/mywork/program/%E4%B8%AD%E9%96%93%E7%99%BA%E8%A1%A8%E7%94%A8/create_rossler_data.ipynb#W5sZmlsZQ%3D%3D?line=12'>13</a>\u001b[0m P_shifted \u001b[39m=\u001b[39m A \u001b[39m*\u001b[39m np\u001b[39m.\u001b[39msin(solution_with_shifted_force\u001b[39m.\u001b[39mt \u001b[39m+\u001b[39m np\u001b[39m.\u001b[39marray([phase_shift(ti, shift_hour) \u001b[39mfor\u001b[39;00m ti \u001b[39min\u001b[39;00m solution_with_shifted_force\u001b[39m.\u001b[39mt]))\n",
      "File \u001b[0;32m~/my_project/venv/lib/python3.8/site-packages/scipy/integrate/_ivp/ivp.py:576\u001b[0m, in \u001b[0;36msolve_ivp\u001b[0;34m(fun, t_span, y0, method, t_eval, dense_output, events, vectorized, args, **options)\u001b[0m\n\u001b[1;32m    574\u001b[0m status \u001b[39m=\u001b[39m \u001b[39mNone\u001b[39;00m\n\u001b[1;32m    575\u001b[0m \u001b[39mwhile\u001b[39;00m status \u001b[39mis\u001b[39;00m \u001b[39mNone\u001b[39;00m:\n\u001b[0;32m--> 576\u001b[0m     message \u001b[39m=\u001b[39m solver\u001b[39m.\u001b[39;49mstep()\n\u001b[1;32m    578\u001b[0m     \u001b[39mif\u001b[39;00m solver\u001b[39m.\u001b[39mstatus \u001b[39m==\u001b[39m \u001b[39m'\u001b[39m\u001b[39mfinished\u001b[39m\u001b[39m'\u001b[39m:\n\u001b[1;32m    579\u001b[0m         status \u001b[39m=\u001b[39m \u001b[39m0\u001b[39m\n",
      "File \u001b[0;32m~/my_project/venv/lib/python3.8/site-packages/scipy/integrate/_ivp/base.py:181\u001b[0m, in \u001b[0;36mOdeSolver.step\u001b[0;34m(self)\u001b[0m\n\u001b[1;32m    179\u001b[0m \u001b[39melse\u001b[39;00m:\n\u001b[1;32m    180\u001b[0m     t \u001b[39m=\u001b[39m \u001b[39mself\u001b[39m\u001b[39m.\u001b[39mt\n\u001b[0;32m--> 181\u001b[0m     success, message \u001b[39m=\u001b[39m \u001b[39mself\u001b[39;49m\u001b[39m.\u001b[39;49m_step_impl()\n\u001b[1;32m    183\u001b[0m     \u001b[39mif\u001b[39;00m \u001b[39mnot\u001b[39;00m success:\n\u001b[1;32m    184\u001b[0m         \u001b[39mself\u001b[39m\u001b[39m.\u001b[39mstatus \u001b[39m=\u001b[39m \u001b[39m'\u001b[39m\u001b[39mfailed\u001b[39m\u001b[39m'\u001b[39m\n",
      "File \u001b[0;32m~/my_project/venv/lib/python3.8/site-packages/scipy/integrate/_ivp/rk.py:119\u001b[0m, in \u001b[0;36mRungeKutta._step_impl\u001b[0;34m(self)\u001b[0m\n\u001b[1;32m    116\u001b[0m rtol \u001b[39m=\u001b[39m \u001b[39mself\u001b[39m\u001b[39m.\u001b[39mrtol\n\u001b[1;32m    117\u001b[0m atol \u001b[39m=\u001b[39m \u001b[39mself\u001b[39m\u001b[39m.\u001b[39matol\n\u001b[0;32m--> 119\u001b[0m min_step \u001b[39m=\u001b[39m \u001b[39m10\u001b[39m \u001b[39m*\u001b[39m np\u001b[39m.\u001b[39mabs(np\u001b[39m.\u001b[39;49mnextafter(t, \u001b[39mself\u001b[39;49m\u001b[39m.\u001b[39;49mdirection \u001b[39m*\u001b[39;49m np\u001b[39m.\u001b[39;49minf) \u001b[39m-\u001b[39m t)\n\u001b[1;32m    121\u001b[0m \u001b[39mif\u001b[39;00m \u001b[39mself\u001b[39m\u001b[39m.\u001b[39mh_abs \u001b[39m>\u001b[39m max_step:\n\u001b[1;32m    122\u001b[0m     h_abs \u001b[39m=\u001b[39m max_step\n",
      "\u001b[0;31mKeyboardInterrupt\u001b[0m: "
     ]
    }
   ],
   "source": [
    "for shift_hour in shift_hours:\n",
    "    # 新しいディレクトリを作成\n",
    "    dir_name = f\"rossler_data_with_shifted_force_{shift_hour}\"\n",
    "    os.makedirs(dir_name, exist_ok=True)\n",
    "    \n",
    "    # 微分方程式の数値解を求める\n",
    "    solution_with_shifted_force = solve_ivp(\n",
    "        rossler_system_with_shifted_force, t_span, initial_state,\n",
    "        args=(a, b, c, A, shift_hour), t_eval=t_eval, max_step=0.01\n",
    "    )\n",
    "\n",
    "    # 外力P(t)の計算（位相シフト付き）\n",
    "    P_shifted = A * np.sin(solution_with_shifted_force.t + np.array([phase_shift(ti, shift_hour) for ti in solution_with_shifted_force.t]))\n",
    "\n",
    "    # DataFrameの作成\n",
    "    data_frame_with_shifted_force = pd.DataFrame({\n",
    "        'time': solution_with_shifted_force.t,\n",
    "        'x': solution_with_shifted_force.y[0],\n",
    "        'y': solution_with_shifted_force.y[1],\n",
    "        'z': solution_with_shifted_force.y[2],\n",
    "        'P_shifted': P_shifted  # 位相シフトされた外力P(t)の列を追加\n",
    "    })\n",
    "\n",
    "    # CSVファイル名の設定\n",
    "    filename_with_force = f\"{dir_name}/rossler_data_with_shifted_force_{shift_hour}.csv\"\n",
    "\n",
    "    # CSVファイルにデータを保存\n",
    "    data_frame_with_shifted_force.to_csv(filename_with_force, index=False)\n"
   ]
  },
  {
   "cell_type": "code",
   "execution_count": null,
   "metadata": {},
   "outputs": [],
   "source": [
    "shift_hour = 8\n",
    "\n",
    "filename_with_force = f\"rossler_data_with_shifted_force{shift_hour}.csv\"\n",
    "\n",
    "\n",
    "# CSVファイルを読み込む\n",
    "data_loaded_with_force = pd.read_csv(filename_with_force)\n",
    "\n",
    "    # CSVから値を抽出してNumpy配列に格納\n",
    "X = data_loaded_with_force[['x', 'y', 'P_shifted']].values\n"
   ]
  }
 ],
 "metadata": {
  "kernelspec": {
   "display_name": "python38gen2",
   "language": "python",
   "name": "python3"
  },
  "language_info": {
   "codemirror_mode": {
    "name": "ipython",
    "version": 3
   },
   "file_extension": ".py",
   "mimetype": "text/x-python",
   "name": "python",
   "nbconvert_exporter": "python",
   "pygments_lexer": "ipython3",
   "version": "3.8.17"
  }
 },
 "nbformat": 4,
 "nbformat_minor": 2
}
