{
 "cells": [
  {
   "cell_type": "markdown",
   "metadata": {},
   "source": [
    "# レスラー方程式：外力のない場合\n",
    "\n",
    "外力のない場合のレスラー方程式について，hyperoptを用いてesn_chaos_prediction関数（generative modelの関数）を用いて未来予測を行う．\n",
    "\n",
    "特に，hyperoptが正しく作動しているかを確認する．"
   ]
  },
  {
   "cell_type": "markdown",
   "metadata": {},
   "source": [
    "### 0. 必要なパッケージのインストール"
   ]
  },
  {
   "cell_type": "code",
   "execution_count": null,
   "metadata": {},
   "outputs": [],
   "source": [
    "#必要なパッケージのインポート\n",
    "\n",
    "import numpy as np\n",
    "\n",
    "import matplotlib\n",
    "import matplotlib.pyplot as plt\n",
    "\n",
    "import reservoirpy as rpy\n",
    "\n",
    "from scipy.integrate import solve_ivp\n",
    "import pandas as pd\n",
    "from reservoirpy.observables import nrmse, rsquare\n",
    "\n",
    "import matplotlib.pyplot as plt\n",
    "from mpl_toolkits.mplot3d import Axes3D\n",
    "\n",
    "\n",
    "rpy.verbosity(0)\n",
    "\n",
    "from reservoirpy.nodes import Reservoir, Ridge\n",
    "from reservoirpy.datasets import mackey_glass\n",
    "\n",
    "# just a little tweak to center the plots, nothing to worry about\n",
    "from IPython.core.display import HTML\n",
    "HTML(\"\"\"\n",
    "<style>\n",
    ".img-center {\n",
    "    display: block;\n",
    "    margin-left: auto;\n",
    "    margin-right: auto;\n",
    "    }\n",
    ".output_png {\n",
    "    display: table-cell;\n",
    "    text-align: center;\n",
    "    vertical-align: middle;\n",
    "    }\n",
    "</style>\n",
    "\"\"\")\n",
    "\n",
    "rpy.set_seed(42)\n",
    "\n",
    "%time"
   ]
  },
  {
   "cell_type": "markdown",
   "metadata": {},
   "source": [
    "### 1. レスラー方程式のモデリング "
   ]
  },
  {
   "cell_type": "code",
   "execution_count": null,
   "metadata": {},
   "outputs": [],
   "source": [
    "import numpy as np\n",
    "from scipy.integrate import solve_ivp\n",
    "import pandas as pd\n",
    "\n",
    "# レスラー方程式の定義\n",
    "def rossler_system(t, state, a, b, c):\n",
    "    x, y, z = state\n",
    "    dxdt = -y - z\n",
    "    dydt = x + a * y\n",
    "    dzdt = b + z * (x - c)\n",
    "    return [dxdt, dydt, dzdt]\n",
    "\n",
    "# パラメータ\n",
    "a = 0.2\n",
    "b = 0.2\n",
    "c = 5.7\n",
    "\n",
    "# 初期条件\n",
    "initial_state = [1.0, 0.0, 0.0]\n",
    "\n",
    "# 時間の設定\n",
    "t_span = [0, 100]  # 開始時刻と終了時刻\n",
    "t_eval = np.linspace(t_span[0], t_span[1], 10000)  # 評価する時間点\n",
    "\n",
    "# 微分方程式の数値解を求める\n",
    "solution = solve_ivp(rossler_system, t_span, initial_state, args=(a, b, c), t_eval=t_eval, max_step=0.01)\n",
    "\n",
    "# CSVファイルにデータを保存するためのDataFrameを作成\n",
    "data_frame = pd.DataFrame({\n",
    "    'time': solution.t,\n",
    "    'x': solution.y[0],\n",
    "    'y': solution.y[1],\n",
    "    'z': solution.y[2]\n",
    "})\n",
    "\n",
    "# CSVファイルにデータを保存\n",
    "filename = 'rossler_data.csv'\n",
    "data_frame.to_csv(filename, index=False)\n",
    "\n",
    "# CSVファイルを読み込む\n",
    "data_loaded = pd.read_csv(filename)\n",
    "\n",
    "# CSVから値を抽出してNumpy配列に格納\n",
    "X = data_loaded[['x', 'y']].values\n",
    "\n",
    "print(X)\n"
   ]
  },
  {
   "cell_type": "code",
   "execution_count": null,
   "metadata": {},
   "outputs": [],
   "source": [
    "# XYZの三次元グラフをプロット\n",
    "fig = plt.figure(figsize=(8, 6))\n",
    "ax = fig.add_subplot(111, projection='3d')\n",
    "ax.plot(data_frame['x'], data_frame['y'], data_frame['z'])\n",
    "ax.set_xlabel('x')\n",
    "ax.set_ylabel('y')\n",
    "ax.set_zlabel('z')\n",
    "ax.set_title('Rössler Attractor')\n",
    "plt.show()\n",
    "\n",
    "# 時間ごとのx, y, zそれぞれのグラフ\n",
    "fig, axs = plt.subplots(3, 1, figsize=(10, 8), sharex=True)\n",
    "axs[0].plot(data_frame['time'], data_frame['x'], label='x')\n",
    "axs[0].set_ylabel('x')\n",
    "axs[0].legend(loc='upper right')\n",
    "\n",
    "axs[1].plot(data_frame['time'], data_frame['y'], label='y', color='orange')\n",
    "axs[1].set_ylabel('y')\n",
    "axs[1].legend(loc='upper right')\n",
    "\n",
    "axs[2].plot(data_frame['time'], data_frame['z'], label='z', color='green')\n",
    "axs[2].set_ylabel('z')\n",
    "axs[2].set_xlabel('Time')\n",
    "axs[2].legend(loc='upper right')\n",
    "\n",
    "plt.suptitle('Time Evolution of the Rössler System')\n",
    "plt.show()\n"
   ]
  },
  {
   "cell_type": "markdown",
   "metadata": {},
   "source": [
    "ここまで，正しくシミュレーションが出来た．\n",
    "\n",
    "実際にESNを用いる際に扱うデータはXであるが，これはレスラー方程式のx, y項のみを含む二次元の配列である．"
   ]
  },
  {
   "cell_type": "code",
   "execution_count": null,
   "metadata": {},
   "outputs": [],
   "source": [
    "X.shape"
   ]
  },
  {
   "cell_type": "markdown",
   "metadata": {},
   "source": [
    "### 2. hyperoptを用いたESNのパラメータの最適化\n",
    "\n",
    "ESNを用いる際に決定しなければならないhyperparameterの初期値をhyperoptを用いて最適化する．\n",
    "\n",
    "注．quniformの使い方に慣れていないが，ここでは自分で整数に丸めて使うことにする．"
   ]
  },
  {
   "cell_type": "code",
   "execution_count": null,
   "metadata": {},
   "outputs": [],
   "source": [
    "from hyperopt import hp, tpe, Trials, fmin"
   ]
  },
  {
   "cell_type": "code",
   "execution_count": null,
   "metadata": {},
   "outputs": [],
   "source": [
    "# Objective functions accepted by ReservoirPy must respect some conventions:\n",
    "#  - dataset and config arguments are mandatory, like the empty '*' expression.\n",
    "#  - all parameters that will be used during the search must be placed after the *.\n",
    "#  - the function must return a dict with at least a 'loss' key containing the result\n",
    "# of the loss function. You can add any additional metrics or information with other \n",
    "# keys in the dict. See hyperopt documentation for more informations.\n",
    "def objective(dataset, config, *, iss, N, sr, lr, ridge, seed):\n",
    "    \n",
    "    # This step may vary depending on what you put inside 'dataset'\n",
    "    train_data, validation_data = dataset\n",
    "    X_train, y_train = train_data\n",
    "    X_val, y_val = validation_data\n",
    "    \n",
    "    # You can access anything you put in the config \n",
    "    # file from the 'config' parameter.\n",
    "    instances = config[\"instances_per_trial\"]\n",
    "    \n",
    "    # The seed should be changed across the instances, \n",
    "    # to be sure there is no bias in the results \n",
    "    # due to initialization.\n",
    "    variable_seed = seed \n",
    "    \n",
    "    losses = []; r2s = [];\n",
    "    for n in range(instances):\n",
    "        # Build your model given the input parameters\n",
    "        reservoir = Reservoir(N, \n",
    "                              sr=sr, \n",
    "                              lr=lr, \n",
    "                              input_scaling=iss, \n",
    "                              seed=variable_seed)\n",
    "        \n",
    "        readout = Ridge(ridge=ridge)\n",
    "\n",
    "        model = reservoir >> readout\n",
    "\n",
    "\n",
    "        # Train your model and test your model.\n",
    "        prediction = model.fit(X_train, y_train) \\\n",
    "                           .run(X_test)\n",
    "        \n",
    "        loss = nrmse(y_test, prediction, norm_value=np.ptp(X_train))\n",
    "        r2 = rsquare(y_test, prediction)\n",
    "        \n",
    "        # Change the seed between instances\n",
    "        variable_seed += 1\n",
    "        \n",
    "        losses.append(loss)\n",
    "        r2s.append(r2)\n",
    "\n",
    "    # Return a dictionnary of metrics. The 'loss' key is mandatory when\n",
    "    # using hyperopt.\n",
    "    return {'loss': np.mean(losses),\n",
    "            'r2': np.mean(r2s)}"
   ]
  },
  {
   "cell_type": "code",
   "execution_count": null,
   "metadata": {},
   "outputs": [],
   "source": [
    "hyperopt_config = {\n",
    "    \"exp\": f\"hyperopt-rossler\", # the experimentation name\n",
    "    \"hp_max_evals\": 200,             # the number of differents sets of parameters hyperopt has to try\n",
    "    \"hp_method\": \"random\",           # the method used by hyperopt to chose those sets (see below)\n",
    "    \"seed\": 42,                      # the random state seed, to ensure reproducibility\n",
    "    \"instances_per_trial\": 3,        # how many random ESN will be tried with each sets of parameters\n",
    "    \"hp_space\": {                    # what are the ranges of parameters explored\n",
    "        \"N\": [\"choice\", 500],             # the number of neurons is fixed to 500\n",
    "        \"sr\": [\"loguniform\", 1e-2, 10],   # the spectral radius is log-uniformly distributed between 1e-2 and 10\n",
    "        \"lr\": [\"loguniform\", 1e-3, 1],  # idem with the leaking rate, from 1e-3 to 1\n",
    "        \"iss\": [\"uniform\", 0, 1],           # the input scaling uniformly distributed between 0 and 1\n",
    "        \"ridge\": [\"loguniform\", 1e-9, 1e-2],        # and so is the regularization parameter.\n",
    "        \"seed\": [\"choice\", 1234]          # an other random seed for the ESN initialization\n",
    "    }\n",
    "}\n",
    "\n",
    "\n",
    "import json\n",
    "\n",
    "# we precautionously save the configuration in a JSON file\n",
    "# each file will begin with a number corresponding to the current experimentation run number.\n",
    "with open(f\"{hyperopt_config['exp']}.config.json\", \"w+\") as f:\n",
    "    json.dump(hyperopt_config, f)\n"
   ]
  },
  {
   "cell_type": "code",
   "execution_count": null,
   "metadata": {},
   "outputs": [],
   "source": [
    "from reservoirpy.datasets import to_forecasting\n",
    "\n",
    "train_len = 5000\n",
    "test_len = 5000\n",
    "\n",
    "x, y = to_forecasting(X, forecast=1)\n",
    "X_train, y_train = x[:train_len], y[:train_len]\n",
    "X_test, y_test = x[train_len:train_len+test_len], y[train_len:train_len+test_len]\n",
    "\n",
    "dataset = ((X_train, y_train), (X_test, y_test))"
   ]
  },
  {
   "cell_type": "code",
   "execution_count": null,
   "metadata": {},
   "outputs": [],
   "source": [
    "from reservoirpy.hyper import research\n",
    "\n",
    "best = research(objective, dataset, f\"{hyperopt_config['exp']}.config.json\", \".\")"
   ]
  },
  {
   "cell_type": "code",
   "execution_count": null,
   "metadata": {},
   "outputs": [],
   "source": [
    "# `best`タプルの最初の要素には最適化されたハイパーパラメータが直接含まれています\n",
    "best_params = best[0]\n",
    "\n",
    "# numpy int64型をPythonのint型に変換するための関数\n",
    "def convert(o):\n",
    "    if isinstance(o, np.int64): return int(o)\n",
    "    raise TypeError\n",
    "\n",
    "# 最適なハイパーパラメータをJSONファイルに保存\n",
    "with open(f\"{hyperopt_config['exp']}_best_params.json\", 'w') as f:\n",
    "    json.dump(best_params, f, default=convert)"
   ]
  },
  {
   "cell_type": "markdown",
   "metadata": {},
   "source": [
    "最適化が完了したので，このパラメータを用いて未来予測を行ってみる．"
   ]
  },
  {
   "cell_type": "markdown",
   "metadata": {},
   "source": [
    "### 1.0 終わり"
   ]
  }
 ],
 "metadata": {
  "kernelspec": {
   "display_name": "python38gen2",
   "language": "python",
   "name": "python3"
  },
  "language_info": {
   "codemirror_mode": {
    "name": "ipython",
    "version": 3
   },
   "file_extension": ".py",
   "mimetype": "text/x-python",
   "name": "python",
   "nbconvert_exporter": "python",
   "pygments_lexer": "ipython3",
   "version": "3.8.17"
  }
 },
 "nbformat": 4,
 "nbformat_minor": 2
}
