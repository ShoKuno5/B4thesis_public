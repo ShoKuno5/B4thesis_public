{
 "cells": [
  {
   "cell_type": "code",
   "execution_count": 1,
   "metadata": {},
   "outputs": [
    {
     "name": "stderr",
     "output_type": "stream",
     "text": [
      "<frozen importlib._bootstrap>:219: RuntimeWarning: scipy._lib.messagestream.MessageStream size changed, may indicate binary incompatibility. Expected 56 from C header, got 64 from PyObject\n"
     ]
    },
    {
     "name": "stdout",
     "output_type": "stream",
     "text": [
      "CPU times: user 1 µs, sys: 0 ns, total: 1 µs\n",
      "Wall time: 2.15 µs\n"
     ]
    }
   ],
   "source": [
    "#必要なパッケージのインポート\n",
    "\n",
    "import numpy as np\n",
    "\n",
    "import matplotlib\n",
    "import matplotlib.pyplot as plt\n",
    "\n",
    "import reservoirpy as rpy\n",
    "\n",
    "from scipy.integrate import solve_ivp\n",
    "import pandas as pd\n",
    "from reservoirpy.observables import nrmse, rsquare\n",
    "\n",
    "import matplotlib.pyplot as plt\n",
    "from mpl_toolkits.mplot3d import Axes3D\n",
    "\n",
    "\n",
    "rpy.verbosity(0)\n",
    "\n",
    "from reservoirpy.nodes import Reservoir, Ridge\n",
    "from reservoirpy.datasets import mackey_glass\n",
    "\n",
    "# just a little tweak to center the plots, nothing to worry about\n",
    "from IPython.core.display import HTML\n",
    "HTML(\"\"\"\n",
    "<style>\n",
    ".img-center {\n",
    "    display: block;\n",
    "    margin-left: auto;\n",
    "    margin-right: auto;\n",
    "    }\n",
    ".output_png {\n",
    "    display: table-cell;\n",
    "    text-align: center;\n",
    "    vertical-align: middle;\n",
    "    }\n",
    "</style>\n",
    "\"\"\")\n",
    "\n",
    "rpy.set_seed(42)\n",
    "\n",
    "%time"
   ]
  },
  {
   "cell_type": "code",
   "execution_count": 2,
   "metadata": {},
   "outputs": [],
   "source": [
    "import numpy as np\n",
    "from scipy.integrate import solve_ivp\n",
    "import matplotlib.pyplot as plt\n",
    "\n",
    "# パラメータ\n",
    "n = 4\n",
    "vm = 0.505\n",
    "vd = 1.4\n",
    "ks = 0.5\n",
    "k1 = 0.5\n",
    "k2 = 0.6\n",
    "Km = 0.5\n",
    "Kd = 0.13\n",
    "KI = 1\n",
    "vs_min = 1.6\n",
    "\n",
    "# vs_max の値とそれに対応する A の計算\n",
    "vs_max_values = [1.6, 2.25, 3.1, 4.2]\n",
    "A_values = [(vs_max / vs_min) - 1 for vs_max in vs_max_values]\n",
    "\n",
    "# vs を時間 t に対する関数として計算する関数\n",
    "def vs_function(t, A):\n",
    "    return vs_min * (1 + A * np.sin(t))\n",
    "\n",
    "# 微分方程式\n",
    "def model(t, y, A):\n",
    "    M, FC, FN = y\n",
    "    vs = vs_function(t, A)  # vs の値を時間 t に応じて計算\n",
    "    dMdt = vs * (KI**n / (KI**n + FN**n)) - vm * (M / (Km + M))\n",
    "    dFCdt = ks * M - vd * (FC / (Kd + FC)) - k1 * FC + k2 * FN\n",
    "    dFNdt = k1 * FC - k2 * FN\n",
    "    return [dMdt, dFCdt, dFNdt]\n",
    "\n",
    "# 初期値と時間設定\n",
    "y0 = [0.5, 0.5, 0.5]\n",
    "t_span = [0, 2510]\n",
    "t_eval = np.linspace(t_span[0], t_span[1], 25100)\n",
    "\n",
    "# 最初の vs_max の値についてのみシミュレーションとプロット\n",
    "i = 2\n",
    "A = A_values[i]\n",
    "sol = solve_ivp(model, t_span, y0, t_eval=t_eval, args=(A,), max_step=0.01)"
   ]
  },
  {
   "cell_type": "code",
   "execution_count": 3,
   "metadata": {},
   "outputs": [],
   "source": [
    "# CSVファイルにデータを保存するためのDataFrameを作成\n",
    "vs_values = vs_function(sol.t, A)  # 外力Ap(t)としてvsを計算\n",
    "data_frame = pd.DataFrame({\n",
    "    'time': sol.t,\n",
    "    'M': sol.y[0],\n",
    "    'FC': sol.y[1],\n",
    "    'FN': sol.y[2],\n",
    "    'vs': vs_values  # 外力Ap(t)としての列\n",
    "})\n",
    "\n",
    "# CSVファイルにデータを保存\n",
    "filename = 'LD_cycle1.1.csv'\n",
    "data_frame.to_csv(filename, index=False)\n",
    "\n",
    "# CSVファイルを読み込む\n",
    "data_loaded = pd.read_csv(filename)\n",
    "\n",
    "# CSVから値を抽出してNumpy配列に格納\n",
    "X = data_loaded[['M', 'FC', 'vs']].values  "
   ]
  },
  {
   "cell_type": "code",
   "execution_count": 4,
   "metadata": {},
   "outputs": [
    {
     "data": {
      "text/plain": [
       "(25100, 3)"
      ]
     },
     "execution_count": 4,
     "metadata": {},
     "output_type": "execute_result"
    }
   ],
   "source": [
    "X.shape"
   ]
  },
  {
   "cell_type": "code",
   "execution_count": 5,
   "metadata": {},
   "outputs": [],
   "source": [
    "from hyperopt import hp, tpe, Trials, fmin"
   ]
  },
  {
   "cell_type": "code",
   "execution_count": 6,
   "metadata": {},
   "outputs": [],
   "source": [
    "# Objective functions accepted by ReservoirPy must respect some conventions:\n",
    "#  - dataset and config arguments are mandatory, like the empty '*' expression.\n",
    "#  - all parameters that will be used during the search must be placed after the *.\n",
    "#  - the function must return a dict with at least a 'loss' key containing the result\n",
    "# of the loss function. You can add any additional metrics or information with other \n",
    "# keys in the dict. See hyperopt documentation for more informations.\n",
    "def objective(dataset, config, *, iss, N, sr, lr, ridge, seed):\n",
    "    \n",
    "    # This step may vary depending on what you put inside 'dataset'\n",
    "    train_data, validation_data = dataset\n",
    "    X_train, y_train = train_data\n",
    "    X_val, y_val = validation_data\n",
    "    \n",
    "    # You can access anything you put in the config \n",
    "    # file from the 'config' parameter.\n",
    "    instances = config[\"instances_per_trial\"]\n",
    "    \n",
    "    # The seed should be changed across the instances, \n",
    "    # to be sure there is no bias in the results \n",
    "    # due to initialization.\n",
    "    variable_seed = seed \n",
    "    \n",
    "    N_value = int(N)  # Nを整数に変換    \n",
    "\n",
    "    \n",
    "    losses = []; r2s = [];\n",
    "    for n in range(instances):\n",
    "        # Build your model given the input parameters\n",
    "        reservoir = Reservoir(N_value, \n",
    "                              sr=sr, \n",
    "                              lr=lr, \n",
    "                              input_scaling=iss, \n",
    "                              seed=variable_seed)\n",
    "        \n",
    "        readout = Ridge(ridge=ridge)\n",
    "\n",
    "        model = reservoir >> readout\n",
    "\n",
    "\n",
    "        # Train your model and test your model.\n",
    "        prediction = model.fit(X_train, y_train) \\\n",
    "                           .run(X_test)\n",
    "        \n",
    "        loss = nrmse(y_test, prediction, norm_value=np.ptp(X_train))\n",
    "        r2 = rsquare(y_test, prediction)\n",
    "        \n",
    "        # Change the seed between instances\n",
    "        variable_seed += 1\n",
    "        \n",
    "        losses.append(loss)\n",
    "        r2s.append(r2)\n",
    "\n",
    "    # Return a dictionnary of metrics. The 'loss' key is mandatory when\n",
    "    # using hyperopt.\n",
    "    return {'loss': np.mean(losses),\n",
    "            'r2': np.mean(r2s)}"
   ]
  },
  {
   "cell_type": "code",
   "execution_count": 7,
   "metadata": {},
   "outputs": [],
   "source": [
    "hyperopt_config = {\n",
    "    \"exp\": f\"hyperopt-LD_cycle2.1\", # the experimentation name\n",
    "    \"hp_max_evals\": 300,             # the number of differents sets of parameters hyperopt has to try\n",
    "    \"hp_method\": \"tpe\",           # the method used by hyperopt to chose those sets (see below)\n",
    "    \"seed\": 42,                      # the random state seed, to ensure reproducibility\n",
    "    \"instances_per_trial\": 3,        # how many random ESN will be tried with each sets of parameters\n",
    "    \"hp_space\": {                    # what are the ranges of parameters explored\n",
    "        \"N\": [\"quniform\", 500, 5000, 1],  # the number of neurons is fixed to 500\n",
    "        \"sr\": [\"loguniform\", 1e-2, 10],   # the spectral radius is log-uniformly distributed between 1e-2 and 10\n",
    "        \"lr\": [\"loguniform\", 1e-3, 1],  # idem with the leaking rate, from 1e-3 to 1\n",
    "        \"iss\": [\"uniform\", 0, 1],           # the input scaling uniformly distributed between 0 and 1\n",
    "        \"ridge\": [\"loguniform\", 1e-9, 1e-2],        # and so is the regularization parameter.\n",
    "        \"seed\": [\"choice\", 5555]          # an other random seed for the ESN initialization\n",
    "    }\n",
    "}\n",
    "\n",
    "\n",
    "import json\n",
    "\n",
    "# we precautionously save the configuration in a JSON file\n",
    "# each file will begin with a number corresponding to the current experimentation run number.\n",
    "with open(f\"{hyperopt_config['exp']}.config.json\", \"w+\") as f:\n",
    "    json.dump(hyperopt_config, f)\n"
   ]
  },
  {
   "cell_type": "code",
   "execution_count": 8,
   "metadata": {},
   "outputs": [],
   "source": [
    "from reservoirpy.datasets import to_forecasting\n",
    "\n",
    "train_len = 10000\n",
    "test_len = 10000\n",
    "\n",
    "x, y = to_forecasting(X, forecast=1)\n",
    "X_train, y_train = x[:train_len], y[:train_len]\n",
    "X_test, y_test = x[train_len:train_len+test_len], y[train_len:train_len+test_len]\n",
    "\n",
    "dataset = ((X_train, y_train), (X_test, y_test))"
   ]
  },
  {
   "cell_type": "code",
   "execution_count": 9,
   "metadata": {},
   "outputs": [
    {
     "name": "stdout",
     "output_type": "stream",
     "text": [
      "  0%|          | 0/300 [00:00<?, ?trial/s, best loss=?]"
     ]
    },
    {
     "name": "stdout",
     "output_type": "stream",
     "text": [
      "  1%|          | 2/300 [05:23<13:32:43, 163.64s/trial, best loss: 0.0002608745841776886]"
     ]
    },
    {
     "name": "stderr",
     "output_type": "stream",
     "text": [
      "/Users/manqueenmannequin/miniforge3/envs/python38gen2/lib/python3.8/site-packages/reservoirpy/nodes/readouts/ridge.py:17: LinAlgWarning: Ill-conditioned matrix (rcond=7.24038e-17): result may not be accurate.\n",
      "  return linalg.solve(XXT + ridge, YXT.T, assume_a=\"sym\")\n",
      "\n",
      "/Users/manqueenmannequin/miniforge3/envs/python38gen2/lib/python3.8/site-packages/reservoirpy/nodes/readouts/ridge.py:17: LinAlgWarning: Ill-conditioned matrix (rcond=6.55945e-17): result may not be accurate.\n",
      "  return linalg.solve(XXT + ridge, YXT.T, assume_a=\"sym\")\n",
      "\n",
      "/Users/manqueenmannequin/miniforge3/envs/python38gen2/lib/python3.8/site-packages/reservoirpy/nodes/readouts/ridge.py:17: LinAlgWarning: Ill-conditioned matrix (rcond=7.33254e-17): result may not be accurate.\n",
      "  return linalg.solve(XXT + ridge, YXT.T, assume_a=\"sym\")\n",
      "\n"
     ]
    },
    {
     "name": "stdout",
     "output_type": "stream",
     "text": [
      "  1%|▏         | 4/300 [06:53<6:32:10, 79.50s/trial, best loss: 0.00016485203055257474]  "
     ]
    },
    {
     "name": "stderr",
     "output_type": "stream",
     "text": [
      "/Users/manqueenmannequin/miniforge3/envs/python38gen2/lib/python3.8/site-packages/reservoirpy/nodes/readouts/ridge.py:17: LinAlgWarning: Ill-conditioned matrix (rcond=8.6476e-17): result may not be accurate.\n",
      "  return linalg.solve(XXT + ridge, YXT.T, assume_a=\"sym\")\n",
      "\n",
      "/Users/manqueenmannequin/miniforge3/envs/python38gen2/lib/python3.8/site-packages/reservoirpy/nodes/readouts/ridge.py:17: LinAlgWarning: Ill-conditioned matrix (rcond=1.10009e-16): result may not be accurate.\n",
      "  return linalg.solve(XXT + ridge, YXT.T, assume_a=\"sym\")\n",
      "\n",
      "/Users/manqueenmannequin/miniforge3/envs/python38gen2/lib/python3.8/site-packages/reservoirpy/nodes/readouts/ridge.py:17: LinAlgWarning: Ill-conditioned matrix (rcond=8.84675e-17): result may not be accurate.\n",
      "  return linalg.solve(XXT + ridge, YXT.T, assume_a=\"sym\")\n",
      "\n"
     ]
    },
    {
     "name": "stdout",
     "output_type": "stream",
     "text": [
      "  2%|▏         | 5/300 [07:23<5:03:31, 61.73s/trial, best loss: 0.00016327245871148913]"
     ]
    },
    {
     "name": "stderr",
     "output_type": "stream",
     "text": [
      "/Users/manqueenmannequin/miniforge3/envs/python38gen2/lib/python3.8/site-packages/reservoirpy/nodes/readouts/ridge.py:17: LinAlgWarning: Ill-conditioned matrix (rcond=2.248e-17): result may not be accurate.\n",
      "  return linalg.solve(XXT + ridge, YXT.T, assume_a=\"sym\")\n",
      "\n",
      "/Users/manqueenmannequin/miniforge3/envs/python38gen2/lib/python3.8/site-packages/reservoirpy/nodes/readouts/ridge.py:17: LinAlgWarning: Ill-conditioned matrix (rcond=2.15523e-17): result may not be accurate.\n",
      "  return linalg.solve(XXT + ridge, YXT.T, assume_a=\"sym\")\n",
      "\n",
      "/Users/manqueenmannequin/miniforge3/envs/python38gen2/lib/python3.8/site-packages/reservoirpy/nodes/readouts/ridge.py:17: LinAlgWarning: Ill-conditioned matrix (rcond=2.10754e-17): result may not be accurate.\n",
      "  return linalg.solve(XXT + ridge, YXT.T, assume_a=\"sym\")\n",
      "\n"
     ]
    },
    {
     "name": "stdout",
     "output_type": "stream",
     "text": [
      "  3%|▎         | 10/300 [17:15<8:55:14, 110.74s/trial, best loss: 0.00016327245871148913]"
     ]
    },
    {
     "name": "stderr",
     "output_type": "stream",
     "text": [
      "/Users/manqueenmannequin/miniforge3/envs/python38gen2/lib/python3.8/site-packages/reservoirpy/nodes/readouts/ridge.py:17: LinAlgWarning: Ill-conditioned matrix (rcond=1.99889e-17): result may not be accurate.\n",
      "  return linalg.solve(XXT + ridge, YXT.T, assume_a=\"sym\")\n",
      "\n",
      "/Users/manqueenmannequin/miniforge3/envs/python38gen2/lib/python3.8/site-packages/reservoirpy/nodes/readouts/ridge.py:17: LinAlgWarning: Ill-conditioned matrix (rcond=1.79176e-17): result may not be accurate.\n",
      "  return linalg.solve(XXT + ridge, YXT.T, assume_a=\"sym\")\n",
      "\n",
      "/Users/manqueenmannequin/miniforge3/envs/python38gen2/lib/python3.8/site-packages/reservoirpy/nodes/readouts/ridge.py:17: LinAlgWarning: Ill-conditioned matrix (rcond=2.56955e-17): result may not be accurate.\n",
      "  return linalg.solve(XXT + ridge, YXT.T, assume_a=\"sym\")\n",
      "\n"
     ]
    },
    {
     "name": "stdout",
     "output_type": "stream",
     "text": [
      "  8%|▊         | 25/300 [39:30<7:06:32, 93.06s/trial, best loss: 0.00010792441831081083]  "
     ]
    },
    {
     "name": "stderr",
     "output_type": "stream",
     "text": [
      "/Users/manqueenmannequin/miniforge3/envs/python38gen2/lib/python3.8/site-packages/reservoirpy/nodes/readouts/ridge.py:17: LinAlgWarning: Ill-conditioned matrix (rcond=8.59851e-17): result may not be accurate.\n",
      "  return linalg.solve(XXT + ridge, YXT.T, assume_a=\"sym\")\n",
      "\n",
      "/Users/manqueenmannequin/miniforge3/envs/python38gen2/lib/python3.8/site-packages/reservoirpy/nodes/readouts/ridge.py:17: LinAlgWarning: Ill-conditioned matrix (rcond=7.20655e-17): result may not be accurate.\n",
      "  return linalg.solve(XXT + ridge, YXT.T, assume_a=\"sym\")\n",
      "\n",
      "/Users/manqueenmannequin/miniforge3/envs/python38gen2/lib/python3.8/site-packages/reservoirpy/nodes/readouts/ridge.py:17: LinAlgWarning: Ill-conditioned matrix (rcond=8.69796e-17): result may not be accurate.\n",
      "  return linalg.solve(XXT + ridge, YXT.T, assume_a=\"sym\")\n",
      "\n"
     ]
    },
    {
     "name": "stdout",
     "output_type": "stream",
     "text": [
      " 21%|██▏       | 64/300 [2:18:54<10:21:10, 157.93s/trial, best loss: 1.0647933489409722e-05]"
     ]
    },
    {
     "name": "stderr",
     "output_type": "stream",
     "text": [
      "/Users/manqueenmannequin/miniforge3/envs/python38gen2/lib/python3.8/site-packages/reservoirpy/nodes/readouts/ridge.py:17: LinAlgWarning: Ill-conditioned matrix (rcond=1.71429e-17): result may not be accurate.\n",
      "  return linalg.solve(XXT + ridge, YXT.T, assume_a=\"sym\")\n",
      "\n",
      "/Users/manqueenmannequin/miniforge3/envs/python38gen2/lib/python3.8/site-packages/reservoirpy/nodes/readouts/ridge.py:17: LinAlgWarning: Ill-conditioned matrix (rcond=1.68484e-17): result may not be accurate.\n",
      "  return linalg.solve(XXT + ridge, YXT.T, assume_a=\"sym\")\n",
      "\n",
      "/Users/manqueenmannequin/miniforge3/envs/python38gen2/lib/python3.8/site-packages/reservoirpy/nodes/readouts/ridge.py:17: LinAlgWarning: Ill-conditioned matrix (rcond=1.86422e-17): result may not be accurate.\n",
      "  return linalg.solve(XXT + ridge, YXT.T, assume_a=\"sym\")\n",
      "\n"
     ]
    },
    {
     "name": "stdout",
     "output_type": "stream",
     "text": [
      " 23%|██▎       | 69/300 [2:32:35<10:18:16, 160.59s/trial, best loss: 1.0647933489409722e-05]"
     ]
    },
    {
     "name": "stderr",
     "output_type": "stream",
     "text": [
      "/Users/manqueenmannequin/miniforge3/envs/python38gen2/lib/python3.8/site-packages/reservoirpy/nodes/readouts/ridge.py:17: LinAlgWarning: Ill-conditioned matrix (rcond=1.18458e-17): result may not be accurate.\n",
      "  return linalg.solve(XXT + ridge, YXT.T, assume_a=\"sym\")\n",
      "\n",
      "/Users/manqueenmannequin/miniforge3/envs/python38gen2/lib/python3.8/site-packages/reservoirpy/nodes/readouts/ridge.py:17: LinAlgWarning: Ill-conditioned matrix (rcond=1.12838e-17): result may not be accurate.\n",
      "  return linalg.solve(XXT + ridge, YXT.T, assume_a=\"sym\")\n",
      "\n",
      "/Users/manqueenmannequin/miniforge3/envs/python38gen2/lib/python3.8/site-packages/reservoirpy/nodes/readouts/ridge.py:17: LinAlgWarning: Ill-conditioned matrix (rcond=1.17887e-17): result may not be accurate.\n",
      "  return linalg.solve(XXT + ridge, YXT.T, assume_a=\"sym\")\n",
      "\n"
     ]
    },
    {
     "name": "stdout",
     "output_type": "stream",
     "text": [
      " 23%|██▎       | 70/300 [2:34:35<9:28:25, 148.28s/trial, best loss: 1.0647933489409722e-05] "
     ]
    },
    {
     "name": "stderr",
     "output_type": "stream",
     "text": [
      "/Users/manqueenmannequin/miniforge3/envs/python38gen2/lib/python3.8/site-packages/reservoirpy/nodes/readouts/ridge.py:17: LinAlgWarning: Ill-conditioned matrix (rcond=1.79668e-17): result may not be accurate.\n",
      "  return linalg.solve(XXT + ridge, YXT.T, assume_a=\"sym\")\n",
      "\n",
      "/Users/manqueenmannequin/miniforge3/envs/python38gen2/lib/python3.8/site-packages/reservoirpy/nodes/readouts/ridge.py:17: LinAlgWarning: Ill-conditioned matrix (rcond=1.1684e-17): result may not be accurate.\n",
      "  return linalg.solve(XXT + ridge, YXT.T, assume_a=\"sym\")\n",
      "\n",
      "/Users/manqueenmannequin/miniforge3/envs/python38gen2/lib/python3.8/site-packages/reservoirpy/nodes/readouts/ridge.py:17: LinAlgWarning: Ill-conditioned matrix (rcond=1.23957e-17): result may not be accurate.\n",
      "  return linalg.solve(XXT + ridge, YXT.T, assume_a=\"sym\")\n",
      "\n"
     ]
    },
    {
     "name": "stdout",
     "output_type": "stream",
     "text": [
      " 24%|██▎       | 71/300 [2:36:56<9:18:12, 146.25s/trial, best loss: 1.0647933489409722e-05]"
     ]
    },
    {
     "name": "stderr",
     "output_type": "stream",
     "text": [
      "/Users/manqueenmannequin/miniforge3/envs/python38gen2/lib/python3.8/site-packages/reservoirpy/nodes/readouts/ridge.py:17: LinAlgWarning: Ill-conditioned matrix (rcond=4.66465e-18): result may not be accurate.\n",
      "  return linalg.solve(XXT + ridge, YXT.T, assume_a=\"sym\")\n",
      "\n",
      "/Users/manqueenmannequin/miniforge3/envs/python38gen2/lib/python3.8/site-packages/reservoirpy/nodes/readouts/ridge.py:17: LinAlgWarning: Ill-conditioned matrix (rcond=5.29981e-18): result may not be accurate.\n",
      "  return linalg.solve(XXT + ridge, YXT.T, assume_a=\"sym\")\n",
      "\n",
      "/Users/manqueenmannequin/miniforge3/envs/python38gen2/lib/python3.8/site-packages/reservoirpy/nodes/readouts/ridge.py:17: LinAlgWarning: Ill-conditioned matrix (rcond=5.07941e-18): result may not be accurate.\n",
      "  return linalg.solve(XXT + ridge, YXT.T, assume_a=\"sym\")\n",
      "\n"
     ]
    },
    {
     "name": "stdout",
     "output_type": "stream",
     "text": [
      " 24%|██▍       | 72/300 [2:38:48<8:36:19, 135.88s/trial, best loss: 1.0647933489409722e-05]"
     ]
    },
    {
     "name": "stderr",
     "output_type": "stream",
     "text": [
      "/Users/manqueenmannequin/miniforge3/envs/python38gen2/lib/python3.8/site-packages/reservoirpy/nodes/readouts/ridge.py:17: LinAlgWarning: Ill-conditioned matrix (rcond=1.05277e-16): result may not be accurate.\n",
      "  return linalg.solve(XXT + ridge, YXT.T, assume_a=\"sym\")\n",
      "\n"
     ]
    },
    {
     "name": "stdout",
     "output_type": "stream",
     "text": [
      " 25%|██▌       | 75/300 [2:46:22<9:34:59, 153.33s/trial, best loss: 1.0647933489409722e-05]"
     ]
    },
    {
     "name": "stderr",
     "output_type": "stream",
     "text": [
      "/Users/manqueenmannequin/miniforge3/envs/python38gen2/lib/python3.8/site-packages/reservoirpy/nodes/readouts/ridge.py:17: LinAlgWarning: Ill-conditioned matrix (rcond=4.08741e-18): result may not be accurate.\n",
      "  return linalg.solve(XXT + ridge, YXT.T, assume_a=\"sym\")\n",
      "\n",
      "/Users/manqueenmannequin/miniforge3/envs/python38gen2/lib/python3.8/site-packages/reservoirpy/nodes/readouts/ridge.py:17: LinAlgWarning: Ill-conditioned matrix (rcond=4.75165e-18): result may not be accurate.\n",
      "  return linalg.solve(XXT + ridge, YXT.T, assume_a=\"sym\")\n",
      "\n",
      "/Users/manqueenmannequin/miniforge3/envs/python38gen2/lib/python3.8/site-packages/reservoirpy/nodes/readouts/ridge.py:17: LinAlgWarning: Ill-conditioned matrix (rcond=4.01291e-18): result may not be accurate.\n",
      "  return linalg.solve(XXT + ridge, YXT.T, assume_a=\"sym\")\n",
      "\n"
     ]
    },
    {
     "name": "stdout",
     "output_type": "stream",
     "text": [
      " 25%|██▌       | 76/300 [2:49:33<10:14:46, 164.67s/trial, best loss: 6.733800322103888e-06]"
     ]
    },
    {
     "name": "stderr",
     "output_type": "stream",
     "text": [
      "/Users/manqueenmannequin/miniforge3/envs/python38gen2/lib/python3.8/site-packages/reservoirpy/nodes/readouts/ridge.py:17: LinAlgWarning: Ill-conditioned matrix (rcond=6.1624e-18): result may not be accurate.\n",
      "  return linalg.solve(XXT + ridge, YXT.T, assume_a=\"sym\")\n",
      "\n",
      "/Users/manqueenmannequin/miniforge3/envs/python38gen2/lib/python3.8/site-packages/reservoirpy/nodes/readouts/ridge.py:17: LinAlgWarning: Ill-conditioned matrix (rcond=7.18808e-18): result may not be accurate.\n",
      "  return linalg.solve(XXT + ridge, YXT.T, assume_a=\"sym\")\n",
      "\n",
      "/Users/manqueenmannequin/miniforge3/envs/python38gen2/lib/python3.8/site-packages/reservoirpy/nodes/readouts/ridge.py:17: LinAlgWarning: Ill-conditioned matrix (rcond=5.79239e-18): result may not be accurate.\n",
      "  return linalg.solve(XXT + ridge, YXT.T, assume_a=\"sym\")\n",
      "\n"
     ]
    },
    {
     "name": "stdout",
     "output_type": "stream",
     "text": [
      " 26%|██▌       | 77/300 [2:53:34<11:36:29, 187.40s/trial, best loss: 6.733800322103888e-06]"
     ]
    },
    {
     "name": "stderr",
     "output_type": "stream",
     "text": [
      "/Users/manqueenmannequin/miniforge3/envs/python38gen2/lib/python3.8/site-packages/reservoirpy/nodes/readouts/ridge.py:17: LinAlgWarning: Ill-conditioned matrix (rcond=3.94886e-17): result may not be accurate.\n",
      "  return linalg.solve(XXT + ridge, YXT.T, assume_a=\"sym\")\n",
      "\n",
      "/Users/manqueenmannequin/miniforge3/envs/python38gen2/lib/python3.8/site-packages/reservoirpy/nodes/readouts/ridge.py:17: LinAlgWarning: Ill-conditioned matrix (rcond=5.98863e-17): result may not be accurate.\n",
      "  return linalg.solve(XXT + ridge, YXT.T, assume_a=\"sym\")\n",
      "\n",
      "/Users/manqueenmannequin/miniforge3/envs/python38gen2/lib/python3.8/site-packages/reservoirpy/nodes/readouts/ridge.py:17: LinAlgWarning: Ill-conditioned matrix (rcond=5.84098e-17): result may not be accurate.\n",
      "  return linalg.solve(XXT + ridge, YXT.T, assume_a=\"sym\")\n",
      "\n"
     ]
    },
    {
     "name": "stdout",
     "output_type": "stream",
     "text": [
      " 26%|██▌       | 78/300 [3:01:20<16:42:36, 270.98s/trial, best loss: 6.733800322103888e-06]"
     ]
    },
    {
     "name": "stderr",
     "output_type": "stream",
     "text": [
      "/Users/manqueenmannequin/miniforge3/envs/python38gen2/lib/python3.8/site-packages/reservoirpy/nodes/readouts/ridge.py:17: LinAlgWarning: Ill-conditioned matrix (rcond=4.10854e-17): result may not be accurate.\n",
      "  return linalg.solve(XXT + ridge, YXT.T, assume_a=\"sym\")\n",
      "\n",
      "/Users/manqueenmannequin/miniforge3/envs/python38gen2/lib/python3.8/site-packages/reservoirpy/nodes/readouts/ridge.py:17: LinAlgWarning: Ill-conditioned matrix (rcond=3.66964e-17): result may not be accurate.\n",
      "  return linalg.solve(XXT + ridge, YXT.T, assume_a=\"sym\")\n",
      "\n",
      "/Users/manqueenmannequin/miniforge3/envs/python38gen2/lib/python3.8/site-packages/reservoirpy/nodes/readouts/ridge.py:17: LinAlgWarning: Ill-conditioned matrix (rcond=4.29337e-17): result may not be accurate.\n",
      "  return linalg.solve(XXT + ridge, YXT.T, assume_a=\"sym\")\n",
      "\n"
     ]
    },
    {
     "name": "stdout",
     "output_type": "stream",
     "text": [
      " 26%|██▋       | 79/300 [3:01:40<12:01:07, 195.78s/trial, best loss: 6.733800322103888e-06]"
     ]
    },
    {
     "name": "stderr",
     "output_type": "stream",
     "text": [
      "/Users/manqueenmannequin/miniforge3/envs/python38gen2/lib/python3.8/site-packages/reservoirpy/nodes/readouts/ridge.py:17: LinAlgWarning: Ill-conditioned matrix (rcond=4.48301e-17): result may not be accurate.\n",
      "  return linalg.solve(XXT + ridge, YXT.T, assume_a=\"sym\")\n",
      "\n",
      "/Users/manqueenmannequin/miniforge3/envs/python38gen2/lib/python3.8/site-packages/reservoirpy/nodes/readouts/ridge.py:17: LinAlgWarning: Ill-conditioned matrix (rcond=4.7049e-17): result may not be accurate.\n",
      "  return linalg.solve(XXT + ridge, YXT.T, assume_a=\"sym\")\n",
      "\n",
      "/Users/manqueenmannequin/miniforge3/envs/python38gen2/lib/python3.8/site-packages/reservoirpy/nodes/readouts/ridge.py:17: LinAlgWarning: Ill-conditioned matrix (rcond=4.03662e-17): result may not be accurate.\n",
      "  return linalg.solve(XXT + ridge, YXT.T, assume_a=\"sym\")\n",
      "\n"
     ]
    },
    {
     "name": "stdout",
     "output_type": "stream",
     "text": [
      " 27%|██▋       | 81/300 [3:02:45<6:48:46, 111.99s/trial, best loss: 6.733800322103888e-06] "
     ]
    },
    {
     "name": "stderr",
     "output_type": "stream",
     "text": [
      "/Users/manqueenmannequin/miniforge3/envs/python38gen2/lib/python3.8/site-packages/reservoirpy/nodes/readouts/ridge.py:17: LinAlgWarning: Ill-conditioned matrix (rcond=2.05652e-17): result may not be accurate.\n",
      "  return linalg.solve(XXT + ridge, YXT.T, assume_a=\"sym\")\n",
      "\n",
      "/Users/manqueenmannequin/miniforge3/envs/python38gen2/lib/python3.8/site-packages/reservoirpy/nodes/readouts/ridge.py:17: LinAlgWarning: Ill-conditioned matrix (rcond=2.59851e-17): result may not be accurate.\n",
      "  return linalg.solve(XXT + ridge, YXT.T, assume_a=\"sym\")\n",
      "\n",
      "/Users/manqueenmannequin/miniforge3/envs/python38gen2/lib/python3.8/site-packages/reservoirpy/nodes/readouts/ridge.py:17: LinAlgWarning: Ill-conditioned matrix (rcond=2.84458e-17): result may not be accurate.\n",
      "  return linalg.solve(XXT + ridge, YXT.T, assume_a=\"sym\")\n",
      "\n"
     ]
    },
    {
     "name": "stdout",
     "output_type": "stream",
     "text": [
      " 28%|██▊       | 83/300 [3:09:16<9:42:58, 161.19s/trial, best loss: 6.733800322103888e-06]"
     ]
    },
    {
     "name": "stderr",
     "output_type": "stream",
     "text": [
      "/Users/manqueenmannequin/miniforge3/envs/python38gen2/lib/python3.8/site-packages/reservoirpy/nodes/readouts/ridge.py:17: LinAlgWarning: Ill-conditioned matrix (rcond=1.27169e-17): result may not be accurate.\n",
      "  return linalg.solve(XXT + ridge, YXT.T, assume_a=\"sym\")\n",
      "\n",
      "/Users/manqueenmannequin/miniforge3/envs/python38gen2/lib/python3.8/site-packages/reservoirpy/nodes/readouts/ridge.py:17: LinAlgWarning: Ill-conditioned matrix (rcond=1.15082e-17): result may not be accurate.\n",
      "  return linalg.solve(XXT + ridge, YXT.T, assume_a=\"sym\")\n",
      "\n",
      "/Users/manqueenmannequin/miniforge3/envs/python38gen2/lib/python3.8/site-packages/reservoirpy/nodes/readouts/ridge.py:17: LinAlgWarning: Ill-conditioned matrix (rcond=1.22018e-17): result may not be accurate.\n",
      "  return linalg.solve(XXT + ridge, YXT.T, assume_a=\"sym\")\n",
      "\n"
     ]
    },
    {
     "name": "stdout",
     "output_type": "stream",
     "text": [
      " 28%|██▊       | 84/300 [3:11:24<9:04:15, 151.18s/trial, best loss: 9.18180174567573e-08] "
     ]
    },
    {
     "name": "stderr",
     "output_type": "stream",
     "text": [
      "/Users/manqueenmannequin/miniforge3/envs/python38gen2/lib/python3.8/site-packages/reservoirpy/nodes/readouts/ridge.py:17: LinAlgWarning: Ill-conditioned matrix (rcond=2.5604e-18): result may not be accurate.\n",
      "  return linalg.solve(XXT + ridge, YXT.T, assume_a=\"sym\")\n",
      "\n",
      "/Users/manqueenmannequin/miniforge3/envs/python38gen2/lib/python3.8/site-packages/reservoirpy/nodes/readouts/ridge.py:17: LinAlgWarning: Ill-conditioned matrix (rcond=2.56854e-18): result may not be accurate.\n",
      "  return linalg.solve(XXT + ridge, YXT.T, assume_a=\"sym\")\n",
      "\n",
      "/Users/manqueenmannequin/miniforge3/envs/python38gen2/lib/python3.8/site-packages/reservoirpy/nodes/readouts/ridge.py:17: LinAlgWarning: Ill-conditioned matrix (rcond=2.72423e-18): result may not be accurate.\n",
      "  return linalg.solve(XXT + ridge, YXT.T, assume_a=\"sym\")\n",
      "\n"
     ]
    },
    {
     "name": "stdout",
     "output_type": "stream",
     "text": [
      " 28%|██▊       | 85/300 [3:13:57<9:03:54, 151.79s/trial, best loss: 6.038071516914533e-08]"
     ]
    },
    {
     "name": "stderr",
     "output_type": "stream",
     "text": [
      "/Users/manqueenmannequin/miniforge3/envs/python38gen2/lib/python3.8/site-packages/reservoirpy/nodes/readouts/ridge.py:17: LinAlgWarning: Ill-conditioned matrix (rcond=5.88305e-18): result may not be accurate.\n",
      "  return linalg.solve(XXT + ridge, YXT.T, assume_a=\"sym\")\n",
      "\n",
      "/Users/manqueenmannequin/miniforge3/envs/python38gen2/lib/python3.8/site-packages/reservoirpy/nodes/readouts/ridge.py:17: LinAlgWarning: Ill-conditioned matrix (rcond=6.04739e-18): result may not be accurate.\n",
      "  return linalg.solve(XXT + ridge, YXT.T, assume_a=\"sym\")\n",
      "\n",
      "/Users/manqueenmannequin/miniforge3/envs/python38gen2/lib/python3.8/site-packages/reservoirpy/nodes/readouts/ridge.py:17: LinAlgWarning: Ill-conditioned matrix (rcond=6.26681e-18): result may not be accurate.\n",
      "  return linalg.solve(XXT + ridge, YXT.T, assume_a=\"sym\")\n",
      "\n"
     ]
    },
    {
     "name": "stdout",
     "output_type": "stream",
     "text": [
      " 29%|██▉       | 87/300 [3:15:49<6:03:28, 102.39s/trial, best loss: 6.038071516914533e-08]"
     ]
    },
    {
     "name": "stderr",
     "output_type": "stream",
     "text": [
      "/Users/manqueenmannequin/miniforge3/envs/python38gen2/lib/python3.8/site-packages/reservoirpy/nodes/readouts/ridge.py:17: LinAlgWarning: Ill-conditioned matrix (rcond=6.7768e-18): result may not be accurate.\n",
      "  return linalg.solve(XXT + ridge, YXT.T, assume_a=\"sym\")\n",
      "\n",
      "/Users/manqueenmannequin/miniforge3/envs/python38gen2/lib/python3.8/site-packages/reservoirpy/nodes/readouts/ridge.py:17: LinAlgWarning: Ill-conditioned matrix (rcond=7.19294e-18): result may not be accurate.\n",
      "  return linalg.solve(XXT + ridge, YXT.T, assume_a=\"sym\")\n",
      "\n",
      "/Users/manqueenmannequin/miniforge3/envs/python38gen2/lib/python3.8/site-packages/reservoirpy/nodes/readouts/ridge.py:17: LinAlgWarning: Ill-conditioned matrix (rcond=6.48505e-18): result may not be accurate.\n",
      "  return linalg.solve(XXT + ridge, YXT.T, assume_a=\"sym\")\n",
      "\n"
     ]
    },
    {
     "name": "stdout",
     "output_type": "stream",
     "text": [
      " 31%|███       | 93/300 [3:20:33<2:40:01, 46.39s/trial, best loss: 6.038071516914533e-08] "
     ]
    },
    {
     "name": "stderr",
     "output_type": "stream",
     "text": [
      "/Users/manqueenmannequin/miniforge3/envs/python38gen2/lib/python3.8/site-packages/reservoirpy/nodes/readouts/ridge.py:17: LinAlgWarning: Ill-conditioned matrix (rcond=4.31526e-18): result may not be accurate.\n",
      "  return linalg.solve(XXT + ridge, YXT.T, assume_a=\"sym\")\n",
      "\n",
      "/Users/manqueenmannequin/miniforge3/envs/python38gen2/lib/python3.8/site-packages/reservoirpy/nodes/readouts/ridge.py:17: LinAlgWarning: Ill-conditioned matrix (rcond=4.42371e-18): result may not be accurate.\n",
      "  return linalg.solve(XXT + ridge, YXT.T, assume_a=\"sym\")\n",
      "\n",
      "/Users/manqueenmannequin/miniforge3/envs/python38gen2/lib/python3.8/site-packages/reservoirpy/nodes/readouts/ridge.py:17: LinAlgWarning: Ill-conditioned matrix (rcond=4.31324e-18): result may not be accurate.\n",
      "  return linalg.solve(XXT + ridge, YXT.T, assume_a=\"sym\")\n",
      "\n"
     ]
    },
    {
     "name": "stdout",
     "output_type": "stream",
     "text": [
      " 32%|███▏      | 96/300 [3:23:29<3:01:20, 53.34s/trial, best loss: 6.038071516914533e-08]"
     ]
    },
    {
     "name": "stderr",
     "output_type": "stream",
     "text": [
      "/Users/manqueenmannequin/miniforge3/envs/python38gen2/lib/python3.8/site-packages/reservoirpy/nodes/readouts/ridge.py:17: LinAlgWarning: Ill-conditioned matrix (rcond=2.01113e-17): result may not be accurate.\n",
      "  return linalg.solve(XXT + ridge, YXT.T, assume_a=\"sym\")\n",
      "\n",
      "/Users/manqueenmannequin/miniforge3/envs/python38gen2/lib/python3.8/site-packages/reservoirpy/nodes/readouts/ridge.py:17: LinAlgWarning: Ill-conditioned matrix (rcond=1.71212e-17): result may not be accurate.\n",
      "  return linalg.solve(XXT + ridge, YXT.T, assume_a=\"sym\")\n",
      "\n",
      "/Users/manqueenmannequin/miniforge3/envs/python38gen2/lib/python3.8/site-packages/reservoirpy/nodes/readouts/ridge.py:17: LinAlgWarning: Ill-conditioned matrix (rcond=1.86249e-17): result may not be accurate.\n",
      "  return linalg.solve(XXT + ridge, YXT.T, assume_a=\"sym\")\n",
      "\n"
     ]
    },
    {
     "name": "stdout",
     "output_type": "stream",
     "text": [
      " 33%|███▎      | 98/300 [3:25:16<2:48:58, 50.19s/trial, best loss: 6.038071516914533e-08]"
     ]
    },
    {
     "name": "stderr",
     "output_type": "stream",
     "text": [
      "/Users/manqueenmannequin/miniforge3/envs/python38gen2/lib/python3.8/site-packages/reservoirpy/nodes/readouts/ridge.py:17: LinAlgWarning: Ill-conditioned matrix (rcond=1.02438e-16): result may not be accurate.\n",
      "  return linalg.solve(XXT + ridge, YXT.T, assume_a=\"sym\")\n",
      "\n",
      "/Users/manqueenmannequin/miniforge3/envs/python38gen2/lib/python3.8/site-packages/reservoirpy/nodes/readouts/ridge.py:17: LinAlgWarning: Ill-conditioned matrix (rcond=1.02116e-16): result may not be accurate.\n",
      "  return linalg.solve(XXT + ridge, YXT.T, assume_a=\"sym\")\n",
      "\n",
      "/Users/manqueenmannequin/miniforge3/envs/python38gen2/lib/python3.8/site-packages/reservoirpy/nodes/readouts/ridge.py:17: LinAlgWarning: Ill-conditioned matrix (rcond=9.22359e-17): result may not be accurate.\n",
      "  return linalg.solve(XXT + ridge, YXT.T, assume_a=\"sym\")\n",
      "\n"
     ]
    },
    {
     "name": "stdout",
     "output_type": "stream",
     "text": [
      " 33%|███▎      | 99/300 [3:26:00<2:41:48, 48.30s/trial, best loss: 6.038071516914533e-08]"
     ]
    },
    {
     "name": "stderr",
     "output_type": "stream",
     "text": [
      "/Users/manqueenmannequin/miniforge3/envs/python38gen2/lib/python3.8/site-packages/reservoirpy/nodes/readouts/ridge.py:17: LinAlgWarning: Ill-conditioned matrix (rcond=5.98071e-18): result may not be accurate.\n",
      "  return linalg.solve(XXT + ridge, YXT.T, assume_a=\"sym\")\n",
      "\n",
      "/Users/manqueenmannequin/miniforge3/envs/python38gen2/lib/python3.8/site-packages/reservoirpy/nodes/readouts/ridge.py:17: LinAlgWarning: Ill-conditioned matrix (rcond=7.96504e-18): result may not be accurate.\n",
      "  return linalg.solve(XXT + ridge, YXT.T, assume_a=\"sym\")\n",
      "\n",
      "/Users/manqueenmannequin/miniforge3/envs/python38gen2/lib/python3.8/site-packages/reservoirpy/nodes/readouts/ridge.py:17: LinAlgWarning: Ill-conditioned matrix (rcond=6.24603e-18): result may not be accurate.\n",
      "  return linalg.solve(XXT + ridge, YXT.T, assume_a=\"sym\")\n",
      "\n"
     ]
    },
    {
     "name": "stdout",
     "output_type": "stream",
     "text": [
      " 34%|███▍      | 102/300 [3:30:49<4:04:57, 74.23s/trial, best loss: 6.038071516914533e-08]"
     ]
    },
    {
     "name": "stderr",
     "output_type": "stream",
     "text": [
      "/Users/manqueenmannequin/miniforge3/envs/python38gen2/lib/python3.8/site-packages/reservoirpy/nodes/readouts/ridge.py:17: LinAlgWarning: Ill-conditioned matrix (rcond=5.05644e-18): result may not be accurate.\n",
      "  return linalg.solve(XXT + ridge, YXT.T, assume_a=\"sym\")\n",
      "\n",
      "/Users/manqueenmannequin/miniforge3/envs/python38gen2/lib/python3.8/site-packages/reservoirpy/nodes/readouts/ridge.py:17: LinAlgWarning: Ill-conditioned matrix (rcond=5.56728e-18): result may not be accurate.\n",
      "  return linalg.solve(XXT + ridge, YXT.T, assume_a=\"sym\")\n",
      "\n",
      "/Users/manqueenmannequin/miniforge3/envs/python38gen2/lib/python3.8/site-packages/reservoirpy/nodes/readouts/ridge.py:17: LinAlgWarning: Ill-conditioned matrix (rcond=5.42678e-18): result may not be accurate.\n",
      "  return linalg.solve(XXT + ridge, YXT.T, assume_a=\"sym\")\n",
      "\n"
     ]
    },
    {
     "name": "stdout",
     "output_type": "stream",
     "text": [
      " 35%|███▌      | 105/300 [3:34:23<3:43:54, 68.90s/trial, best loss: 6.038071516914533e-08]"
     ]
    },
    {
     "name": "stderr",
     "output_type": "stream",
     "text": [
      "/Users/manqueenmannequin/miniforge3/envs/python38gen2/lib/python3.8/site-packages/reservoirpy/nodes/readouts/ridge.py:17: LinAlgWarning: Ill-conditioned matrix (rcond=1.48932e-17): result may not be accurate.\n",
      "  return linalg.solve(XXT + ridge, YXT.T, assume_a=\"sym\")\n",
      "\n",
      "/Users/manqueenmannequin/miniforge3/envs/python38gen2/lib/python3.8/site-packages/reservoirpy/nodes/readouts/ridge.py:17: LinAlgWarning: Ill-conditioned matrix (rcond=1.23158e-17): result may not be accurate.\n",
      "  return linalg.solve(XXT + ridge, YXT.T, assume_a=\"sym\")\n",
      "\n",
      "/Users/manqueenmannequin/miniforge3/envs/python38gen2/lib/python3.8/site-packages/reservoirpy/nodes/readouts/ridge.py:17: LinAlgWarning: Ill-conditioned matrix (rcond=1.5439e-17): result may not be accurate.\n",
      "  return linalg.solve(XXT + ridge, YXT.T, assume_a=\"sym\")\n",
      "\n"
     ]
    },
    {
     "name": "stdout",
     "output_type": "stream",
     "text": [
      " 36%|███▌      | 107/300 [3:39:38<6:21:40, 118.65s/trial, best loss: 6.038071516914533e-08]"
     ]
    },
    {
     "name": "stderr",
     "output_type": "stream",
     "text": [
      "/Users/manqueenmannequin/miniforge3/envs/python38gen2/lib/python3.8/site-packages/reservoirpy/nodes/readouts/ridge.py:17: LinAlgWarning: Ill-conditioned matrix (rcond=3.05062e-17): result may not be accurate.\n",
      "  return linalg.solve(XXT + ridge, YXT.T, assume_a=\"sym\")\n",
      "\n",
      "/Users/manqueenmannequin/miniforge3/envs/python38gen2/lib/python3.8/site-packages/reservoirpy/nodes/readouts/ridge.py:17: LinAlgWarning: Ill-conditioned matrix (rcond=3.06603e-17): result may not be accurate.\n",
      "  return linalg.solve(XXT + ridge, YXT.T, assume_a=\"sym\")\n",
      "\n",
      "/Users/manqueenmannequin/miniforge3/envs/python38gen2/lib/python3.8/site-packages/reservoirpy/nodes/readouts/ridge.py:17: LinAlgWarning: Ill-conditioned matrix (rcond=3.22079e-17): result may not be accurate.\n",
      "  return linalg.solve(XXT + ridge, YXT.T, assume_a=\"sym\")\n",
      "\n"
     ]
    },
    {
     "name": "stdout",
     "output_type": "stream",
     "text": [
      " 37%|███▋      | 110/300 [3:42:25<3:59:27, 75.62s/trial, best loss: 6.038071516914533e-08] "
     ]
    },
    {
     "name": "stderr",
     "output_type": "stream",
     "text": [
      "/Users/manqueenmannequin/miniforge3/envs/python38gen2/lib/python3.8/site-packages/reservoirpy/nodes/readouts/ridge.py:17: LinAlgWarning: Ill-conditioned matrix (rcond=3.24548e-17): result may not be accurate.\n",
      "  return linalg.solve(XXT + ridge, YXT.T, assume_a=\"sym\")\n",
      "\n",
      "/Users/manqueenmannequin/miniforge3/envs/python38gen2/lib/python3.8/site-packages/reservoirpy/nodes/readouts/ridge.py:17: LinAlgWarning: Ill-conditioned matrix (rcond=3.40566e-17): result may not be accurate.\n",
      "  return linalg.solve(XXT + ridge, YXT.T, assume_a=\"sym\")\n",
      "\n",
      "/Users/manqueenmannequin/miniforge3/envs/python38gen2/lib/python3.8/site-packages/reservoirpy/nodes/readouts/ridge.py:17: LinAlgWarning: Ill-conditioned matrix (rcond=3.01948e-17): result may not be accurate.\n",
      "  return linalg.solve(XXT + ridge, YXT.T, assume_a=\"sym\")\n",
      "\n"
     ]
    },
    {
     "name": "stdout",
     "output_type": "stream",
     "text": [
      " 38%|███▊      | 115/300 [3:48:01<3:47:16, 73.71s/trial, best loss: 6.038071516914533e-08]"
     ]
    },
    {
     "name": "stderr",
     "output_type": "stream",
     "text": [
      "/Users/manqueenmannequin/miniforge3/envs/python38gen2/lib/python3.8/site-packages/reservoirpy/nodes/readouts/ridge.py:17: LinAlgWarning: Ill-conditioned matrix (rcond=2.9517e-17): result may not be accurate.\n",
      "  return linalg.solve(XXT + ridge, YXT.T, assume_a=\"sym\")\n",
      "\n",
      "/Users/manqueenmannequin/miniforge3/envs/python38gen2/lib/python3.8/site-packages/reservoirpy/nodes/readouts/ridge.py:17: LinAlgWarning: Ill-conditioned matrix (rcond=3.13394e-17): result may not be accurate.\n",
      "  return linalg.solve(XXT + ridge, YXT.T, assume_a=\"sym\")\n",
      "\n",
      "/Users/manqueenmannequin/miniforge3/envs/python38gen2/lib/python3.8/site-packages/reservoirpy/nodes/readouts/ridge.py:17: LinAlgWarning: Ill-conditioned matrix (rcond=2.71248e-17): result may not be accurate.\n",
      "  return linalg.solve(XXT + ridge, YXT.T, assume_a=\"sym\")\n",
      "\n"
     ]
    },
    {
     "name": "stdout",
     "output_type": "stream",
     "text": [
      " 39%|███▊      | 116/300 [3:49:06<3:37:35, 70.96s/trial, best loss: 6.038071516914533e-08]"
     ]
    },
    {
     "name": "stderr",
     "output_type": "stream",
     "text": [
      "/Users/manqueenmannequin/miniforge3/envs/python38gen2/lib/python3.8/site-packages/reservoirpy/nodes/readouts/ridge.py:17: LinAlgWarning: Ill-conditioned matrix (rcond=4.16427e-18): result may not be accurate.\n",
      "  return linalg.solve(XXT + ridge, YXT.T, assume_a=\"sym\")\n",
      "\n",
      "/Users/manqueenmannequin/miniforge3/envs/python38gen2/lib/python3.8/site-packages/reservoirpy/nodes/readouts/ridge.py:17: LinAlgWarning: Ill-conditioned matrix (rcond=4.40455e-18): result may not be accurate.\n",
      "  return linalg.solve(XXT + ridge, YXT.T, assume_a=\"sym\")\n",
      "\n",
      "/Users/manqueenmannequin/miniforge3/envs/python38gen2/lib/python3.8/site-packages/reservoirpy/nodes/readouts/ridge.py:17: LinAlgWarning: Ill-conditioned matrix (rcond=4.16294e-18): result may not be accurate.\n",
      "  return linalg.solve(XXT + ridge, YXT.T, assume_a=\"sym\")\n",
      "\n"
     ]
    },
    {
     "name": "stdout",
     "output_type": "stream",
     "text": [
      " 40%|████      | 120/300 [3:57:29<4:43:20, 94.45s/trial, best loss: 6.038071516914533e-08] "
     ]
    },
    {
     "name": "stderr",
     "output_type": "stream",
     "text": [
      "/Users/manqueenmannequin/miniforge3/envs/python38gen2/lib/python3.8/site-packages/reservoirpy/nodes/readouts/ridge.py:17: LinAlgWarning: Ill-conditioned matrix (rcond=8.17349e-17): result may not be accurate.\n",
      "  return linalg.solve(XXT + ridge, YXT.T, assume_a=\"sym\")\n",
      "\n",
      "/Users/manqueenmannequin/miniforge3/envs/python38gen2/lib/python3.8/site-packages/reservoirpy/nodes/readouts/ridge.py:17: LinAlgWarning: Ill-conditioned matrix (rcond=9.30393e-17): result may not be accurate.\n",
      "  return linalg.solve(XXT + ridge, YXT.T, assume_a=\"sym\")\n",
      "\n",
      "/Users/manqueenmannequin/miniforge3/envs/python38gen2/lib/python3.8/site-packages/reservoirpy/nodes/readouts/ridge.py:17: LinAlgWarning: Ill-conditioned matrix (rcond=8.63962e-17): result may not be accurate.\n",
      "  return linalg.solve(XXT + ridge, YXT.T, assume_a=\"sym\")\n",
      "\n"
     ]
    },
    {
     "name": "stdout",
     "output_type": "stream",
     "text": [
      " 40%|████      | 121/300 [3:58:39<4:20:26, 87.30s/trial, best loss: 6.038071516914533e-08]"
     ]
    },
    {
     "name": "stderr",
     "output_type": "stream",
     "text": [
      "/Users/manqueenmannequin/miniforge3/envs/python38gen2/lib/python3.8/site-packages/reservoirpy/nodes/readouts/ridge.py:17: LinAlgWarning: Ill-conditioned matrix (rcond=1.6253e-17): result may not be accurate.\n",
      "  return linalg.solve(XXT + ridge, YXT.T, assume_a=\"sym\")\n",
      "\n",
      "/Users/manqueenmannequin/miniforge3/envs/python38gen2/lib/python3.8/site-packages/reservoirpy/nodes/readouts/ridge.py:17: LinAlgWarning: Ill-conditioned matrix (rcond=1.56311e-17): result may not be accurate.\n",
      "  return linalg.solve(XXT + ridge, YXT.T, assume_a=\"sym\")\n",
      "\n",
      "/Users/manqueenmannequin/miniforge3/envs/python38gen2/lib/python3.8/site-packages/reservoirpy/nodes/readouts/ridge.py:17: LinAlgWarning: Ill-conditioned matrix (rcond=1.7069e-17): result may not be accurate.\n",
      "  return linalg.solve(XXT + ridge, YXT.T, assume_a=\"sym\")\n",
      "\n"
     ]
    },
    {
     "name": "stdout",
     "output_type": "stream",
     "text": [
      " 41%|████▏     | 124/300 [4:05:56<6:18:38, 129.08s/trial, best loss: 6.038071516914533e-08]"
     ]
    },
    {
     "name": "stderr",
     "output_type": "stream",
     "text": [
      "/Users/manqueenmannequin/miniforge3/envs/python38gen2/lib/python3.8/site-packages/reservoirpy/nodes/readouts/ridge.py:17: LinAlgWarning: Ill-conditioned matrix (rcond=1.99028e-17): result may not be accurate.\n",
      "  return linalg.solve(XXT + ridge, YXT.T, assume_a=\"sym\")\n",
      "\n",
      "/Users/manqueenmannequin/miniforge3/envs/python38gen2/lib/python3.8/site-packages/reservoirpy/nodes/readouts/ridge.py:17: LinAlgWarning: Ill-conditioned matrix (rcond=2.01794e-17): result may not be accurate.\n",
      "  return linalg.solve(XXT + ridge, YXT.T, assume_a=\"sym\")\n",
      "\n",
      "/Users/manqueenmannequin/miniforge3/envs/python38gen2/lib/python3.8/site-packages/reservoirpy/nodes/readouts/ridge.py:17: LinAlgWarning: Ill-conditioned matrix (rcond=1.96401e-17): result may not be accurate.\n",
      "  return linalg.solve(XXT + ridge, YXT.T, assume_a=\"sym\")\n",
      "\n"
     ]
    },
    {
     "name": "stdout",
     "output_type": "stream",
     "text": [
      " 42%|████▏     | 127/300 [4:13:54<7:17:17, 151.66s/trial, best loss: 6.038071516914533e-08]"
     ]
    },
    {
     "name": "stderr",
     "output_type": "stream",
     "text": [
      "/Users/manqueenmannequin/miniforge3/envs/python38gen2/lib/python3.8/site-packages/reservoirpy/nodes/readouts/ridge.py:17: LinAlgWarning: Ill-conditioned matrix (rcond=3.18466e-17): result may not be accurate.\n",
      "  return linalg.solve(XXT + ridge, YXT.T, assume_a=\"sym\")\n",
      "\n",
      "/Users/manqueenmannequin/miniforge3/envs/python38gen2/lib/python3.8/site-packages/reservoirpy/nodes/readouts/ridge.py:17: LinAlgWarning: Ill-conditioned matrix (rcond=3.29794e-17): result may not be accurate.\n",
      "  return linalg.solve(XXT + ridge, YXT.T, assume_a=\"sym\")\n",
      "\n",
      "/Users/manqueenmannequin/miniforge3/envs/python38gen2/lib/python3.8/site-packages/reservoirpy/nodes/readouts/ridge.py:17: LinAlgWarning: Ill-conditioned matrix (rcond=3.38278e-17): result may not be accurate.\n",
      "  return linalg.solve(XXT + ridge, YXT.T, assume_a=\"sym\")\n",
      "\n"
     ]
    },
    {
     "name": "stdout",
     "output_type": "stream",
     "text": [
      " 47%|████▋     | 142/300 [5:02:22<7:12:32, 164.25s/trial, best loss: 6.038071516914533e-08] "
     ]
    },
    {
     "name": "stderr",
     "output_type": "stream",
     "text": [
      "/Users/manqueenmannequin/miniforge3/envs/python38gen2/lib/python3.8/site-packages/reservoirpy/nodes/readouts/ridge.py:17: LinAlgWarning: Ill-conditioned matrix (rcond=3.31769e-18): result may not be accurate.\n",
      "  return linalg.solve(XXT + ridge, YXT.T, assume_a=\"sym\")\n",
      "\n",
      "/Users/manqueenmannequin/miniforge3/envs/python38gen2/lib/python3.8/site-packages/reservoirpy/nodes/readouts/ridge.py:17: LinAlgWarning: Ill-conditioned matrix (rcond=2.46488e-18): result may not be accurate.\n",
      "  return linalg.solve(XXT + ridge, YXT.T, assume_a=\"sym\")\n",
      "\n",
      "/Users/manqueenmannequin/miniforge3/envs/python38gen2/lib/python3.8/site-packages/reservoirpy/nodes/readouts/ridge.py:17: LinAlgWarning: Ill-conditioned matrix (rcond=2.93648e-18): result may not be accurate.\n",
      "  return linalg.solve(XXT + ridge, YXT.T, assume_a=\"sym\")\n",
      "\n"
     ]
    },
    {
     "name": "stdout",
     "output_type": "stream",
     "text": [
      " 48%|████▊     | 144/300 [5:07:23<6:46:28, 156.34s/trial, best loss: 6.038071516914533e-08]"
     ]
    },
    {
     "name": "stderr",
     "output_type": "stream",
     "text": [
      "/Users/manqueenmannequin/miniforge3/envs/python38gen2/lib/python3.8/site-packages/reservoirpy/nodes/readouts/ridge.py:17: LinAlgWarning: Ill-conditioned matrix (rcond=9.29239e-17): result may not be accurate.\n",
      "  return linalg.solve(XXT + ridge, YXT.T, assume_a=\"sym\")\n",
      "\n",
      "/Users/manqueenmannequin/miniforge3/envs/python38gen2/lib/python3.8/site-packages/reservoirpy/nodes/readouts/ridge.py:17: LinAlgWarning: Ill-conditioned matrix (rcond=6.83679e-17): result may not be accurate.\n",
      "  return linalg.solve(XXT + ridge, YXT.T, assume_a=\"sym\")\n",
      "\n",
      "/Users/manqueenmannequin/miniforge3/envs/python38gen2/lib/python3.8/site-packages/reservoirpy/nodes/readouts/ridge.py:17: LinAlgWarning: Ill-conditioned matrix (rcond=5.53031e-17): result may not be accurate.\n",
      "  return linalg.solve(XXT + ridge, YXT.T, assume_a=\"sym\")\n",
      "\n"
     ]
    },
    {
     "name": "stdout",
     "output_type": "stream",
     "text": [
      " 48%|████▊     | 145/300 [5:10:18<6:57:57, 161.79s/trial, best loss: 6.038071516914533e-08]"
     ]
    },
    {
     "name": "stderr",
     "output_type": "stream",
     "text": [
      "/Users/manqueenmannequin/miniforge3/envs/python38gen2/lib/python3.8/site-packages/reservoirpy/nodes/readouts/ridge.py:17: LinAlgWarning: Ill-conditioned matrix (rcond=5.14067e-18): result may not be accurate.\n",
      "  return linalg.solve(XXT + ridge, YXT.T, assume_a=\"sym\")\n",
      "\n",
      "/Users/manqueenmannequin/miniforge3/envs/python38gen2/lib/python3.8/site-packages/reservoirpy/nodes/readouts/ridge.py:17: LinAlgWarning: Ill-conditioned matrix (rcond=4.76692e-18): result may not be accurate.\n",
      "  return linalg.solve(XXT + ridge, YXT.T, assume_a=\"sym\")\n",
      "\n",
      "/Users/manqueenmannequin/miniforge3/envs/python38gen2/lib/python3.8/site-packages/reservoirpy/nodes/readouts/ridge.py:17: LinAlgWarning: Ill-conditioned matrix (rcond=4.97578e-18): result may not be accurate.\n",
      "  return linalg.solve(XXT + ridge, YXT.T, assume_a=\"sym\")\n",
      "\n"
     ]
    },
    {
     "name": "stdout",
     "output_type": "stream",
     "text": [
      " 49%|████▊     | 146/300 [5:11:31<5:46:56, 135.17s/trial, best loss: 6.038071516914533e-08]"
     ]
    },
    {
     "name": "stderr",
     "output_type": "stream",
     "text": [
      "/Users/manqueenmannequin/miniforge3/envs/python38gen2/lib/python3.8/site-packages/reservoirpy/nodes/readouts/ridge.py:17: LinAlgWarning: Ill-conditioned matrix (rcond=3.92855e-17): result may not be accurate.\n",
      "  return linalg.solve(XXT + ridge, YXT.T, assume_a=\"sym\")\n",
      "\n",
      "/Users/manqueenmannequin/miniforge3/envs/python38gen2/lib/python3.8/site-packages/reservoirpy/nodes/readouts/ridge.py:17: LinAlgWarning: Ill-conditioned matrix (rcond=4.14423e-17): result may not be accurate.\n",
      "  return linalg.solve(XXT + ridge, YXT.T, assume_a=\"sym\")\n",
      "\n",
      "/Users/manqueenmannequin/miniforge3/envs/python38gen2/lib/python3.8/site-packages/reservoirpy/nodes/readouts/ridge.py:17: LinAlgWarning: Ill-conditioned matrix (rcond=3.39222e-17): result may not be accurate.\n",
      "  return linalg.solve(XXT + ridge, YXT.T, assume_a=\"sym\")\n",
      "\n"
     ]
    },
    {
     "name": "stdout",
     "output_type": "stream",
     "text": [
      " 49%|████▉     | 148/300 [5:15:05<5:15:16, 124.45s/trial, best loss: 6.038071516914533e-08]"
     ]
    },
    {
     "name": "stderr",
     "output_type": "stream",
     "text": [
      "/Users/manqueenmannequin/miniforge3/envs/python38gen2/lib/python3.8/site-packages/reservoirpy/nodes/readouts/ridge.py:17: LinAlgWarning: Ill-conditioned matrix (rcond=3.24588e-18): result may not be accurate.\n",
      "  return linalg.solve(XXT + ridge, YXT.T, assume_a=\"sym\")\n",
      "\n",
      "/Users/manqueenmannequin/miniforge3/envs/python38gen2/lib/python3.8/site-packages/reservoirpy/nodes/readouts/ridge.py:17: LinAlgWarning: Ill-conditioned matrix (rcond=2.98437e-18): result may not be accurate.\n",
      "  return linalg.solve(XXT + ridge, YXT.T, assume_a=\"sym\")\n",
      "\n",
      "/Users/manqueenmannequin/miniforge3/envs/python38gen2/lib/python3.8/site-packages/reservoirpy/nodes/readouts/ridge.py:17: LinAlgWarning: Ill-conditioned matrix (rcond=3.27e-18): result may not be accurate.\n",
      "  return linalg.solve(XXT + ridge, YXT.T, assume_a=\"sym\")\n",
      "\n"
     ]
    },
    {
     "name": "stdout",
     "output_type": "stream",
     "text": [
      " 50%|████▉     | 149/300 [5:17:42<5:37:47, 134.22s/trial, best loss: 6.038071516914533e-08]"
     ]
    },
    {
     "name": "stderr",
     "output_type": "stream",
     "text": [
      "/Users/manqueenmannequin/miniforge3/envs/python38gen2/lib/python3.8/site-packages/reservoirpy/nodes/readouts/ridge.py:17: LinAlgWarning: Ill-conditioned matrix (rcond=4.53619e-17): result may not be accurate.\n",
      "  return linalg.solve(XXT + ridge, YXT.T, assume_a=\"sym\")\n",
      "\n",
      "/Users/manqueenmannequin/miniforge3/envs/python38gen2/lib/python3.8/site-packages/reservoirpy/nodes/readouts/ridge.py:17: LinAlgWarning: Ill-conditioned matrix (rcond=4.84093e-17): result may not be accurate.\n",
      "  return linalg.solve(XXT + ridge, YXT.T, assume_a=\"sym\")\n",
      "\n",
      "/Users/manqueenmannequin/miniforge3/envs/python38gen2/lib/python3.8/site-packages/reservoirpy/nodes/readouts/ridge.py:17: LinAlgWarning: Ill-conditioned matrix (rcond=6.1831e-17): result may not be accurate.\n",
      "  return linalg.solve(XXT + ridge, YXT.T, assume_a=\"sym\")\n",
      "\n"
     ]
    },
    {
     "name": "stdout",
     "output_type": "stream",
     "text": [
      " 50%|█████     | 150/300 [5:25:40<9:53:29, 237.39s/trial, best loss: 6.038071516914533e-08]"
     ]
    },
    {
     "name": "stderr",
     "output_type": "stream",
     "text": [
      "/Users/manqueenmannequin/miniforge3/envs/python38gen2/lib/python3.8/site-packages/reservoirpy/nodes/readouts/ridge.py:17: LinAlgWarning: Ill-conditioned matrix (rcond=1.50986e-17): result may not be accurate.\n",
      "  return linalg.solve(XXT + ridge, YXT.T, assume_a=\"sym\")\n",
      "\n",
      "/Users/manqueenmannequin/miniforge3/envs/python38gen2/lib/python3.8/site-packages/reservoirpy/nodes/readouts/ridge.py:17: LinAlgWarning: Ill-conditioned matrix (rcond=1.5188e-17): result may not be accurate.\n",
      "  return linalg.solve(XXT + ridge, YXT.T, assume_a=\"sym\")\n",
      "\n",
      "/Users/manqueenmannequin/miniforge3/envs/python38gen2/lib/python3.8/site-packages/reservoirpy/nodes/readouts/ridge.py:17: LinAlgWarning: Ill-conditioned matrix (rcond=1.56508e-17): result may not be accurate.\n",
      "  return linalg.solve(XXT + ridge, YXT.T, assume_a=\"sym\")\n",
      "\n"
     ]
    },
    {
     "name": "stdout",
     "output_type": "stream",
     "text": [
      " 50%|█████     | 151/300 [5:29:45<9:54:44, 239.49s/trial, best loss: 6.038071516914533e-08]"
     ]
    },
    {
     "name": "stderr",
     "output_type": "stream",
     "text": [
      "/Users/manqueenmannequin/miniforge3/envs/python38gen2/lib/python3.8/site-packages/reservoirpy/nodes/readouts/ridge.py:17: LinAlgWarning: Ill-conditioned matrix (rcond=4.9606e-18): result may not be accurate.\n",
      "  return linalg.solve(XXT + ridge, YXT.T, assume_a=\"sym\")\n",
      "\n",
      "/Users/manqueenmannequin/miniforge3/envs/python38gen2/lib/python3.8/site-packages/reservoirpy/nodes/readouts/ridge.py:17: LinAlgWarning: Ill-conditioned matrix (rcond=4.79932e-18): result may not be accurate.\n",
      "  return linalg.solve(XXT + ridge, YXT.T, assume_a=\"sym\")\n",
      "\n",
      "/Users/manqueenmannequin/miniforge3/envs/python38gen2/lib/python3.8/site-packages/reservoirpy/nodes/readouts/ridge.py:17: LinAlgWarning: Ill-conditioned matrix (rcond=5.11555e-18): result may not be accurate.\n",
      "  return linalg.solve(XXT + ridge, YXT.T, assume_a=\"sym\")\n",
      "\n"
     ]
    },
    {
     "name": "stdout",
     "output_type": "stream",
     "text": [
      " 51%|█████     | 152/300 [5:31:26<8:08:45, 198.15s/trial, best loss: 6.038071516914533e-08]"
     ]
    },
    {
     "name": "stderr",
     "output_type": "stream",
     "text": [
      "/Users/manqueenmannequin/miniforge3/envs/python38gen2/lib/python3.8/site-packages/reservoirpy/nodes/readouts/ridge.py:17: LinAlgWarning: Ill-conditioned matrix (rcond=1.64349e-17): result may not be accurate.\n",
      "  return linalg.solve(XXT + ridge, YXT.T, assume_a=\"sym\")\n",
      "\n",
      "/Users/manqueenmannequin/miniforge3/envs/python38gen2/lib/python3.8/site-packages/reservoirpy/nodes/readouts/ridge.py:17: LinAlgWarning: Ill-conditioned matrix (rcond=1.64318e-17): result may not be accurate.\n",
      "  return linalg.solve(XXT + ridge, YXT.T, assume_a=\"sym\")\n",
      "\n",
      "/Users/manqueenmannequin/miniforge3/envs/python38gen2/lib/python3.8/site-packages/reservoirpy/nodes/readouts/ridge.py:17: LinAlgWarning: Ill-conditioned matrix (rcond=1.83877e-17): result may not be accurate.\n",
      "  return linalg.solve(XXT + ridge, YXT.T, assume_a=\"sym\")\n",
      "\n"
     ]
    },
    {
     "name": "stdout",
     "output_type": "stream",
     "text": [
      " 51%|█████     | 153/300 [5:34:10<7:39:51, 187.70s/trial, best loss: 6.038071516914533e-08]"
     ]
    },
    {
     "name": "stderr",
     "output_type": "stream",
     "text": [
      "/Users/manqueenmannequin/miniforge3/envs/python38gen2/lib/python3.8/site-packages/reservoirpy/nodes/readouts/ridge.py:17: LinAlgWarning: Ill-conditioned matrix (rcond=9.70366e-18): result may not be accurate.\n",
      "  return linalg.solve(XXT + ridge, YXT.T, assume_a=\"sym\")\n",
      "\n",
      "/Users/manqueenmannequin/miniforge3/envs/python38gen2/lib/python3.8/site-packages/reservoirpy/nodes/readouts/ridge.py:17: LinAlgWarning: Ill-conditioned matrix (rcond=1.14857e-17): result may not be accurate.\n",
      "  return linalg.solve(XXT + ridge, YXT.T, assume_a=\"sym\")\n",
      "\n",
      "/Users/manqueenmannequin/miniforge3/envs/python38gen2/lib/python3.8/site-packages/reservoirpy/nodes/readouts/ridge.py:17: LinAlgWarning: Ill-conditioned matrix (rcond=1.10821e-17): result may not be accurate.\n",
      "  return linalg.solve(XXT + ridge, YXT.T, assume_a=\"sym\")\n",
      "\n"
     ]
    },
    {
     "name": "stdout",
     "output_type": "stream",
     "text": [
      " 52%|█████▏    | 155/300 [5:40:10<7:12:00, 178.77s/trial, best loss: 6.038071516914533e-08]"
     ]
    },
    {
     "name": "stderr",
     "output_type": "stream",
     "text": [
      "/Users/manqueenmannequin/miniforge3/envs/python38gen2/lib/python3.8/site-packages/reservoirpy/nodes/readouts/ridge.py:17: LinAlgWarning: Ill-conditioned matrix (rcond=2.18117e-18): result may not be accurate.\n",
      "  return linalg.solve(XXT + ridge, YXT.T, assume_a=\"sym\")\n",
      "\n",
      "/Users/manqueenmannequin/miniforge3/envs/python38gen2/lib/python3.8/site-packages/reservoirpy/nodes/readouts/ridge.py:17: LinAlgWarning: Ill-conditioned matrix (rcond=2.23892e-18): result may not be accurate.\n",
      "  return linalg.solve(XXT + ridge, YXT.T, assume_a=\"sym\")\n",
      "\n",
      "/Users/manqueenmannequin/miniforge3/envs/python38gen2/lib/python3.8/site-packages/reservoirpy/nodes/readouts/ridge.py:17: LinAlgWarning: Ill-conditioned matrix (rcond=2.06756e-18): result may not be accurate.\n",
      "  return linalg.solve(XXT + ridge, YXT.T, assume_a=\"sym\")\n",
      "\n"
     ]
    },
    {
     "name": "stdout",
     "output_type": "stream",
     "text": [
      " 52%|█████▏    | 157/300 [5:46:29<7:19:21, 184.34s/trial, best loss: 6.038071516914533e-08]"
     ]
    },
    {
     "name": "stderr",
     "output_type": "stream",
     "text": [
      "/Users/manqueenmannequin/miniforge3/envs/python38gen2/lib/python3.8/site-packages/reservoirpy/nodes/readouts/ridge.py:17: LinAlgWarning: Ill-conditioned matrix (rcond=6.21826e-18): result may not be accurate.\n",
      "  return linalg.solve(XXT + ridge, YXT.T, assume_a=\"sym\")\n",
      "\n",
      "/Users/manqueenmannequin/miniforge3/envs/python38gen2/lib/python3.8/site-packages/reservoirpy/nodes/readouts/ridge.py:17: LinAlgWarning: Ill-conditioned matrix (rcond=6.0493e-18): result may not be accurate.\n",
      "  return linalg.solve(XXT + ridge, YXT.T, assume_a=\"sym\")\n",
      "\n",
      "/Users/manqueenmannequin/miniforge3/envs/python38gen2/lib/python3.8/site-packages/reservoirpy/nodes/readouts/ridge.py:17: LinAlgWarning: Ill-conditioned matrix (rcond=6.22504e-18): result may not be accurate.\n",
      "  return linalg.solve(XXT + ridge, YXT.T, assume_a=\"sym\")\n",
      "\n"
     ]
    },
    {
     "name": "stdout",
     "output_type": "stream",
     "text": [
      " 53%|█████▎    | 158/300 [5:49:54<7:30:41, 190.43s/trial, best loss: 6.038071516914533e-08]"
     ]
    },
    {
     "name": "stderr",
     "output_type": "stream",
     "text": [
      "/Users/manqueenmannequin/miniforge3/envs/python38gen2/lib/python3.8/site-packages/reservoirpy/nodes/readouts/ridge.py:17: LinAlgWarning: Ill-conditioned matrix (rcond=1.28101e-17): result may not be accurate.\n",
      "  return linalg.solve(XXT + ridge, YXT.T, assume_a=\"sym\")\n",
      "\n",
      "/Users/manqueenmannequin/miniforge3/envs/python38gen2/lib/python3.8/site-packages/reservoirpy/nodes/readouts/ridge.py:17: LinAlgWarning: Ill-conditioned matrix (rcond=1.68792e-17): result may not be accurate.\n",
      "  return linalg.solve(XXT + ridge, YXT.T, assume_a=\"sym\")\n",
      "\n",
      "/Users/manqueenmannequin/miniforge3/envs/python38gen2/lib/python3.8/site-packages/reservoirpy/nodes/readouts/ridge.py:17: LinAlgWarning: Ill-conditioned matrix (rcond=1.97411e-17): result may not be accurate.\n",
      "  return linalg.solve(XXT + ridge, YXT.T, assume_a=\"sym\")\n",
      "\n"
     ]
    },
    {
     "name": "stdout",
     "output_type": "stream",
     "text": [
      " 54%|█████▎    | 161/300 [6:00:02<7:32:20, 195.26s/trial, best loss: 6.038071516914533e-08]"
     ]
    },
    {
     "name": "stderr",
     "output_type": "stream",
     "text": [
      "/Users/manqueenmannequin/miniforge3/envs/python38gen2/lib/python3.8/site-packages/reservoirpy/nodes/readouts/ridge.py:17: LinAlgWarning: Ill-conditioned matrix (rcond=3.70257e-17): result may not be accurate.\n",
      "  return linalg.solve(XXT + ridge, YXT.T, assume_a=\"sym\")\n",
      "\n",
      "/Users/manqueenmannequin/miniforge3/envs/python38gen2/lib/python3.8/site-packages/reservoirpy/nodes/readouts/ridge.py:17: LinAlgWarning: Ill-conditioned matrix (rcond=3.89034e-17): result may not be accurate.\n",
      "  return linalg.solve(XXT + ridge, YXT.T, assume_a=\"sym\")\n",
      "\n",
      "/Users/manqueenmannequin/miniforge3/envs/python38gen2/lib/python3.8/site-packages/reservoirpy/nodes/readouts/ridge.py:17: LinAlgWarning: Ill-conditioned matrix (rcond=3.64291e-17): result may not be accurate.\n",
      "  return linalg.solve(XXT + ridge, YXT.T, assume_a=\"sym\")\n",
      "\n"
     ]
    },
    {
     "name": "stdout",
     "output_type": "stream",
     "text": [
      " 55%|█████▌    | 166/300 [6:11:43<5:26:14, 146.08s/trial, best loss: 6.038071516914533e-08]"
     ]
    },
    {
     "name": "stderr",
     "output_type": "stream",
     "text": [
      "/Users/manqueenmannequin/miniforge3/envs/python38gen2/lib/python3.8/site-packages/reservoirpy/nodes/readouts/ridge.py:17: LinAlgWarning: Ill-conditioned matrix (rcond=1.60552e-17): result may not be accurate.\n",
      "  return linalg.solve(XXT + ridge, YXT.T, assume_a=\"sym\")\n",
      "\n",
      "/Users/manqueenmannequin/miniforge3/envs/python38gen2/lib/python3.8/site-packages/reservoirpy/nodes/readouts/ridge.py:17: LinAlgWarning: Ill-conditioned matrix (rcond=2.02368e-17): result may not be accurate.\n",
      "  return linalg.solve(XXT + ridge, YXT.T, assume_a=\"sym\")\n",
      "\n",
      "/Users/manqueenmannequin/miniforge3/envs/python38gen2/lib/python3.8/site-packages/reservoirpy/nodes/readouts/ridge.py:17: LinAlgWarning: Ill-conditioned matrix (rcond=1.6433e-17): result may not be accurate.\n",
      "  return linalg.solve(XXT + ridge, YXT.T, assume_a=\"sym\")\n",
      "\n"
     ]
    },
    {
     "name": "stdout",
     "output_type": "stream",
     "text": [
      " 57%|█████▋    | 172/300 [6:25:41<5:03:28, 142.25s/trial, best loss: 6.038071516914533e-08]"
     ]
    },
    {
     "name": "stderr",
     "output_type": "stream",
     "text": [
      "/Users/manqueenmannequin/miniforge3/envs/python38gen2/lib/python3.8/site-packages/reservoirpy/nodes/readouts/ridge.py:17: LinAlgWarning: Ill-conditioned matrix (rcond=1.59238e-17): result may not be accurate.\n",
      "  return linalg.solve(XXT + ridge, YXT.T, assume_a=\"sym\")\n",
      "\n",
      "/Users/manqueenmannequin/miniforge3/envs/python38gen2/lib/python3.8/site-packages/reservoirpy/nodes/readouts/ridge.py:17: LinAlgWarning: Ill-conditioned matrix (rcond=2.24274e-17): result may not be accurate.\n",
      "  return linalg.solve(XXT + ridge, YXT.T, assume_a=\"sym\")\n",
      "\n",
      "/Users/manqueenmannequin/miniforge3/envs/python38gen2/lib/python3.8/site-packages/reservoirpy/nodes/readouts/ridge.py:17: LinAlgWarning: Ill-conditioned matrix (rcond=1.68052e-17): result may not be accurate.\n",
      "  return linalg.solve(XXT + ridge, YXT.T, assume_a=\"sym\")\n",
      "\n"
     ]
    },
    {
     "name": "stdout",
     "output_type": "stream",
     "text": [
      " 58%|█████▊    | 175/300 [6:34:39<5:53:19, 169.60s/trial, best loss: 6.038071516914533e-08]"
     ]
    },
    {
     "name": "stderr",
     "output_type": "stream",
     "text": [
      "/Users/manqueenmannequin/miniforge3/envs/python38gen2/lib/python3.8/site-packages/reservoirpy/nodes/readouts/ridge.py:17: LinAlgWarning: Ill-conditioned matrix (rcond=6.33396e-17): result may not be accurate.\n",
      "  return linalg.solve(XXT + ridge, YXT.T, assume_a=\"sym\")\n",
      "\n",
      "/Users/manqueenmannequin/miniforge3/envs/python38gen2/lib/python3.8/site-packages/reservoirpy/nodes/readouts/ridge.py:17: LinAlgWarning: Ill-conditioned matrix (rcond=5.79049e-17): result may not be accurate.\n",
      "  return linalg.solve(XXT + ridge, YXT.T, assume_a=\"sym\")\n",
      "\n",
      "/Users/manqueenmannequin/miniforge3/envs/python38gen2/lib/python3.8/site-packages/reservoirpy/nodes/readouts/ridge.py:17: LinAlgWarning: Ill-conditioned matrix (rcond=6.18535e-17): result may not be accurate.\n",
      "  return linalg.solve(XXT + ridge, YXT.T, assume_a=\"sym\")\n",
      "\n"
     ]
    },
    {
     "name": "stdout",
     "output_type": "stream",
     "text": [
      " 59%|█████▉    | 177/300 [6:39:52<5:28:21, 160.17s/trial, best loss: 6.038071516914533e-08]"
     ]
    },
    {
     "name": "stderr",
     "output_type": "stream",
     "text": [
      "/Users/manqueenmannequin/miniforge3/envs/python38gen2/lib/python3.8/site-packages/reservoirpy/nodes/readouts/ridge.py:17: LinAlgWarning: Ill-conditioned matrix (rcond=4.00413e-18): result may not be accurate.\n",
      "  return linalg.solve(XXT + ridge, YXT.T, assume_a=\"sym\")\n",
      "\n",
      "/Users/manqueenmannequin/miniforge3/envs/python38gen2/lib/python3.8/site-packages/reservoirpy/nodes/readouts/ridge.py:17: LinAlgWarning: Ill-conditioned matrix (rcond=4.19795e-18): result may not be accurate.\n",
      "  return linalg.solve(XXT + ridge, YXT.T, assume_a=\"sym\")\n",
      "\n",
      "/Users/manqueenmannequin/miniforge3/envs/python38gen2/lib/python3.8/site-packages/reservoirpy/nodes/readouts/ridge.py:17: LinAlgWarning: Ill-conditioned matrix (rcond=4.51043e-18): result may not be accurate.\n",
      "  return linalg.solve(XXT + ridge, YXT.T, assume_a=\"sym\")\n",
      "\n"
     ]
    },
    {
     "name": "stdout",
     "output_type": "stream",
     "text": [
      " 59%|█████▉    | 178/300 [6:43:28<6:00:16, 177.19s/trial, best loss: 6.038071516914533e-08]"
     ]
    },
    {
     "name": "stderr",
     "output_type": "stream",
     "text": [
      "/Users/manqueenmannequin/miniforge3/envs/python38gen2/lib/python3.8/site-packages/reservoirpy/nodes/readouts/ridge.py:17: LinAlgWarning: Ill-conditioned matrix (rcond=1.7382e-18): result may not be accurate.\n",
      "  return linalg.solve(XXT + ridge, YXT.T, assume_a=\"sym\")\n",
      "\n",
      "/Users/manqueenmannequin/miniforge3/envs/python38gen2/lib/python3.8/site-packages/reservoirpy/nodes/readouts/ridge.py:17: LinAlgWarning: Ill-conditioned matrix (rcond=1.7653e-18): result may not be accurate.\n",
      "  return linalg.solve(XXT + ridge, YXT.T, assume_a=\"sym\")\n",
      "\n",
      "/Users/manqueenmannequin/miniforge3/envs/python38gen2/lib/python3.8/site-packages/reservoirpy/nodes/readouts/ridge.py:17: LinAlgWarning: Ill-conditioned matrix (rcond=1.78491e-18): result may not be accurate.\n",
      "  return linalg.solve(XXT + ridge, YXT.T, assume_a=\"sym\")\n",
      "\n"
     ]
    },
    {
     "name": "stdout",
     "output_type": "stream",
     "text": [
      " 60%|█████▉    | 179/300 [6:47:04<6:20:50, 188.84s/trial, best loss: 6.038071516914533e-08]"
     ]
    },
    {
     "name": "stderr",
     "output_type": "stream",
     "text": [
      "/Users/manqueenmannequin/miniforge3/envs/python38gen2/lib/python3.8/site-packages/reservoirpy/nodes/readouts/ridge.py:17: LinAlgWarning: Ill-conditioned matrix (rcond=8.80955e-17): result may not be accurate.\n",
      "  return linalg.solve(XXT + ridge, YXT.T, assume_a=\"sym\")\n",
      "\n",
      "/Users/manqueenmannequin/miniforge3/envs/python38gen2/lib/python3.8/site-packages/reservoirpy/nodes/readouts/ridge.py:17: LinAlgWarning: Ill-conditioned matrix (rcond=9.68027e-17): result may not be accurate.\n",
      "  return linalg.solve(XXT + ridge, YXT.T, assume_a=\"sym\")\n",
      "\n",
      "/Users/manqueenmannequin/miniforge3/envs/python38gen2/lib/python3.8/site-packages/reservoirpy/nodes/readouts/ridge.py:17: LinAlgWarning: Ill-conditioned matrix (rcond=9.00481e-17): result may not be accurate.\n",
      "  return linalg.solve(XXT + ridge, YXT.T, assume_a=\"sym\")\n",
      "\n"
     ]
    },
    {
     "name": "stdout",
     "output_type": "stream",
     "text": [
      " 61%|██████    | 182/300 [6:55:55<5:54:13, 180.11s/trial, best loss: 6.038071516914533e-08]"
     ]
    },
    {
     "name": "stderr",
     "output_type": "stream",
     "text": [
      "/Users/manqueenmannequin/miniforge3/envs/python38gen2/lib/python3.8/site-packages/reservoirpy/nodes/readouts/ridge.py:17: LinAlgWarning: Ill-conditioned matrix (rcond=1.06724e-17): result may not be accurate.\n",
      "  return linalg.solve(XXT + ridge, YXT.T, assume_a=\"sym\")\n",
      "\n",
      "/Users/manqueenmannequin/miniforge3/envs/python38gen2/lib/python3.8/site-packages/reservoirpy/nodes/readouts/ridge.py:17: LinAlgWarning: Ill-conditioned matrix (rcond=1.02274e-17): result may not be accurate.\n",
      "  return linalg.solve(XXT + ridge, YXT.T, assume_a=\"sym\")\n",
      "\n",
      "/Users/manqueenmannequin/miniforge3/envs/python38gen2/lib/python3.8/site-packages/reservoirpy/nodes/readouts/ridge.py:17: LinAlgWarning: Ill-conditioned matrix (rcond=1.06028e-17): result may not be accurate.\n",
      "  return linalg.solve(XXT + ridge, YXT.T, assume_a=\"sym\")\n",
      "\n"
     ]
    },
    {
     "name": "stdout",
     "output_type": "stream",
     "text": [
      " 61%|██████    | 183/300 [6:58:45<5:45:21, 177.11s/trial, best loss: 6.038071516914533e-08]"
     ]
    },
    {
     "name": "stderr",
     "output_type": "stream",
     "text": [
      "/Users/manqueenmannequin/miniforge3/envs/python38gen2/lib/python3.8/site-packages/reservoirpy/nodes/readouts/ridge.py:17: LinAlgWarning: Ill-conditioned matrix (rcond=8.61352e-17): result may not be accurate.\n",
      "  return linalg.solve(XXT + ridge, YXT.T, assume_a=\"sym\")\n",
      "\n"
     ]
    },
    {
     "name": "stdout",
     "output_type": "stream",
     "text": [
      " 63%|██████▎   | 188/300 [7:10:06<4:57:22, 159.31s/trial, best loss: 6.038071516914533e-08]"
     ]
    },
    {
     "name": "stderr",
     "output_type": "stream",
     "text": [
      "/Users/manqueenmannequin/miniforge3/envs/python38gen2/lib/python3.8/site-packages/reservoirpy/nodes/readouts/ridge.py:17: LinAlgWarning: Ill-conditioned matrix (rcond=2.39807e-17): result may not be accurate.\n",
      "  return linalg.solve(XXT + ridge, YXT.T, assume_a=\"sym\")\n",
      "\n",
      "/Users/manqueenmannequin/miniforge3/envs/python38gen2/lib/python3.8/site-packages/reservoirpy/nodes/readouts/ridge.py:17: LinAlgWarning: Ill-conditioned matrix (rcond=2.77616e-17): result may not be accurate.\n",
      "  return linalg.solve(XXT + ridge, YXT.T, assume_a=\"sym\")\n",
      "\n",
      "/Users/manqueenmannequin/miniforge3/envs/python38gen2/lib/python3.8/site-packages/reservoirpy/nodes/readouts/ridge.py:17: LinAlgWarning: Ill-conditioned matrix (rcond=2.67543e-17): result may not be accurate.\n",
      "  return linalg.solve(XXT + ridge, YXT.T, assume_a=\"sym\")\n",
      "\n"
     ]
    },
    {
     "name": "stdout",
     "output_type": "stream",
     "text": [
      " 63%|██████▎   | 190/300 [7:15:36<4:50:54, 158.68s/trial, best loss: 6.038071516914533e-08]"
     ]
    },
    {
     "name": "stderr",
     "output_type": "stream",
     "text": [
      "/Users/manqueenmannequin/miniforge3/envs/python38gen2/lib/python3.8/site-packages/reservoirpy/nodes/readouts/ridge.py:17: LinAlgWarning: Ill-conditioned matrix (rcond=2.15161e-17): result may not be accurate.\n",
      "  return linalg.solve(XXT + ridge, YXT.T, assume_a=\"sym\")\n",
      "\n",
      "/Users/manqueenmannequin/miniforge3/envs/python38gen2/lib/python3.8/site-packages/reservoirpy/nodes/readouts/ridge.py:17: LinAlgWarning: Ill-conditioned matrix (rcond=2.43919e-17): result may not be accurate.\n",
      "  return linalg.solve(XXT + ridge, YXT.T, assume_a=\"sym\")\n",
      "\n",
      "/Users/manqueenmannequin/miniforge3/envs/python38gen2/lib/python3.8/site-packages/reservoirpy/nodes/readouts/ridge.py:17: LinAlgWarning: Ill-conditioned matrix (rcond=2.70602e-17): result may not be accurate.\n",
      "  return linalg.solve(XXT + ridge, YXT.T, assume_a=\"sym\")\n",
      "\n"
     ]
    },
    {
     "name": "stdout",
     "output_type": "stream",
     "text": [
      " 64%|██████▍   | 192/300 [7:20:55<4:36:11, 153.44s/trial, best loss: 6.038071516914533e-08]"
     ]
    },
    {
     "name": "stderr",
     "output_type": "stream",
     "text": [
      "/Users/manqueenmannequin/miniforge3/envs/python38gen2/lib/python3.8/site-packages/reservoirpy/nodes/readouts/ridge.py:17: LinAlgWarning: Ill-conditioned matrix (rcond=5.10193e-18): result may not be accurate.\n",
      "  return linalg.solve(XXT + ridge, YXT.T, assume_a=\"sym\")\n",
      "\n",
      "/Users/manqueenmannequin/miniforge3/envs/python38gen2/lib/python3.8/site-packages/reservoirpy/nodes/readouts/ridge.py:17: LinAlgWarning: Ill-conditioned matrix (rcond=5.23099e-18): result may not be accurate.\n",
      "  return linalg.solve(XXT + ridge, YXT.T, assume_a=\"sym\")\n",
      "\n",
      "/Users/manqueenmannequin/miniforge3/envs/python38gen2/lib/python3.8/site-packages/reservoirpy/nodes/readouts/ridge.py:17: LinAlgWarning: Ill-conditioned matrix (rcond=4.99954e-18): result may not be accurate.\n",
      "  return linalg.solve(XXT + ridge, YXT.T, assume_a=\"sym\")\n",
      "\n"
     ]
    },
    {
     "name": "stdout",
     "output_type": "stream",
     "text": [
      " 66%|██████▌   | 198/300 [7:33:03<3:51:55, 136.42s/trial, best loss: 6.038071516914533e-08]"
     ]
    },
    {
     "name": "stderr",
     "output_type": "stream",
     "text": [
      "/Users/manqueenmannequin/miniforge3/envs/python38gen2/lib/python3.8/site-packages/reservoirpy/nodes/readouts/ridge.py:17: LinAlgWarning: Ill-conditioned matrix (rcond=9.72006e-18): result may not be accurate.\n",
      "  return linalg.solve(XXT + ridge, YXT.T, assume_a=\"sym\")\n",
      "\n",
      "/Users/manqueenmannequin/miniforge3/envs/python38gen2/lib/python3.8/site-packages/reservoirpy/nodes/readouts/ridge.py:17: LinAlgWarning: Ill-conditioned matrix (rcond=7.94434e-18): result may not be accurate.\n",
      "  return linalg.solve(XXT + ridge, YXT.T, assume_a=\"sym\")\n",
      "\n",
      "/Users/manqueenmannequin/miniforge3/envs/python38gen2/lib/python3.8/site-packages/reservoirpy/nodes/readouts/ridge.py:17: LinAlgWarning: Ill-conditioned matrix (rcond=8.21783e-18): result may not be accurate.\n",
      "  return linalg.solve(XXT + ridge, YXT.T, assume_a=\"sym\")\n",
      "\n"
     ]
    },
    {
     "name": "stdout",
     "output_type": "stream",
     "text": [
      " 66%|██████▋   | 199/300 [7:35:47<4:03:48, 144.84s/trial, best loss: 6.038071516914533e-08]"
     ]
    },
    {
     "name": "stderr",
     "output_type": "stream",
     "text": [
      "/Users/manqueenmannequin/miniforge3/envs/python38gen2/lib/python3.8/site-packages/reservoirpy/nodes/readouts/ridge.py:17: LinAlgWarning: Ill-conditioned matrix (rcond=4.0231e-18): result may not be accurate.\n",
      "  return linalg.solve(XXT + ridge, YXT.T, assume_a=\"sym\")\n",
      "\n",
      "/Users/manqueenmannequin/miniforge3/envs/python38gen2/lib/python3.8/site-packages/reservoirpy/nodes/readouts/ridge.py:17: LinAlgWarning: Ill-conditioned matrix (rcond=4.28794e-18): result may not be accurate.\n",
      "  return linalg.solve(XXT + ridge, YXT.T, assume_a=\"sym\")\n",
      "\n",
      "/Users/manqueenmannequin/miniforge3/envs/python38gen2/lib/python3.8/site-packages/reservoirpy/nodes/readouts/ridge.py:17: LinAlgWarning: Ill-conditioned matrix (rcond=4.06562e-18): result may not be accurate.\n",
      "  return linalg.solve(XXT + ridge, YXT.T, assume_a=\"sym\")\n",
      "\n"
     ]
    },
    {
     "name": "stdout",
     "output_type": "stream",
     "text": [
      " 67%|██████▋   | 202/300 [7:41:26<3:19:53, 122.38s/trial, best loss: 6.038071516914533e-08]"
     ]
    },
    {
     "name": "stderr",
     "output_type": "stream",
     "text": [
      "/Users/manqueenmannequin/miniforge3/envs/python38gen2/lib/python3.8/site-packages/reservoirpy/nodes/readouts/ridge.py:17: LinAlgWarning: Ill-conditioned matrix (rcond=1.9649e-18): result may not be accurate.\n",
      "  return linalg.solve(XXT + ridge, YXT.T, assume_a=\"sym\")\n",
      "\n",
      "/Users/manqueenmannequin/miniforge3/envs/python38gen2/lib/python3.8/site-packages/reservoirpy/nodes/readouts/ridge.py:17: LinAlgWarning: Ill-conditioned matrix (rcond=2.06507e-18): result may not be accurate.\n",
      "  return linalg.solve(XXT + ridge, YXT.T, assume_a=\"sym\")\n",
      "\n",
      "/Users/manqueenmannequin/miniforge3/envs/python38gen2/lib/python3.8/site-packages/reservoirpy/nodes/readouts/ridge.py:17: LinAlgWarning: Ill-conditioned matrix (rcond=1.94999e-18): result may not be accurate.\n",
      "  return linalg.solve(XXT + ridge, YXT.T, assume_a=\"sym\")\n",
      "\n"
     ]
    },
    {
     "name": "stdout",
     "output_type": "stream",
     "text": [
      " 69%|██████▊   | 206/300 [7:55:36<4:15:57, 163.38s/trial, best loss: 6.038071516914533e-08]"
     ]
    },
    {
     "name": "stderr",
     "output_type": "stream",
     "text": [
      "/Users/manqueenmannequin/miniforge3/envs/python38gen2/lib/python3.8/site-packages/reservoirpy/nodes/readouts/ridge.py:17: LinAlgWarning: Ill-conditioned matrix (rcond=1.31188e-17): result may not be accurate.\n",
      "  return linalg.solve(XXT + ridge, YXT.T, assume_a=\"sym\")\n",
      "\n",
      "/Users/manqueenmannequin/miniforge3/envs/python38gen2/lib/python3.8/site-packages/reservoirpy/nodes/readouts/ridge.py:17: LinAlgWarning: Ill-conditioned matrix (rcond=1.46563e-17): result may not be accurate.\n",
      "  return linalg.solve(XXT + ridge, YXT.T, assume_a=\"sym\")\n",
      "\n",
      "/Users/manqueenmannequin/miniforge3/envs/python38gen2/lib/python3.8/site-packages/reservoirpy/nodes/readouts/ridge.py:17: LinAlgWarning: Ill-conditioned matrix (rcond=2.105e-17): result may not be accurate.\n",
      "  return linalg.solve(XXT + ridge, YXT.T, assume_a=\"sym\")\n",
      "\n"
     ]
    },
    {
     "name": "stdout",
     "output_type": "stream",
     "text": [
      " 69%|██████▉   | 207/300 [7:59:42<4:51:51, 188.30s/trial, best loss: 6.038071516914533e-08]"
     ]
    },
    {
     "name": "stderr",
     "output_type": "stream",
     "text": [
      "/Users/manqueenmannequin/miniforge3/envs/python38gen2/lib/python3.8/site-packages/reservoirpy/nodes/readouts/ridge.py:17: LinAlgWarning: Ill-conditioned matrix (rcond=7.83915e-17): result may not be accurate.\n",
      "  return linalg.solve(XXT + ridge, YXT.T, assume_a=\"sym\")\n",
      "\n",
      "/Users/manqueenmannequin/miniforge3/envs/python38gen2/lib/python3.8/site-packages/reservoirpy/nodes/readouts/ridge.py:17: LinAlgWarning: Ill-conditioned matrix (rcond=8.34754e-17): result may not be accurate.\n",
      "  return linalg.solve(XXT + ridge, YXT.T, assume_a=\"sym\")\n",
      "\n",
      "/Users/manqueenmannequin/miniforge3/envs/python38gen2/lib/python3.8/site-packages/reservoirpy/nodes/readouts/ridge.py:17: LinAlgWarning: Ill-conditioned matrix (rcond=7.15253e-17): result may not be accurate.\n",
      "  return linalg.solve(XXT + ridge, YXT.T, assume_a=\"sym\")\n",
      "\n"
     ]
    },
    {
     "name": "stdout",
     "output_type": "stream",
     "text": [
      " 70%|███████   | 210/300 [8:12:59<6:15:51, 250.58s/trial, best loss: 6.038071516914533e-08]"
     ]
    },
    {
     "name": "stderr",
     "output_type": "stream",
     "text": [
      "/Users/manqueenmannequin/miniforge3/envs/python38gen2/lib/python3.8/site-packages/reservoirpy/nodes/readouts/ridge.py:17: LinAlgWarning: Ill-conditioned matrix (rcond=1.07867e-16): result may not be accurate.\n",
      "  return linalg.solve(XXT + ridge, YXT.T, assume_a=\"sym\")\n",
      "\n",
      "/Users/manqueenmannequin/miniforge3/envs/python38gen2/lib/python3.8/site-packages/reservoirpy/nodes/readouts/ridge.py:17: LinAlgWarning: Ill-conditioned matrix (rcond=9.33706e-17): result may not be accurate.\n",
      "  return linalg.solve(XXT + ridge, YXT.T, assume_a=\"sym\")\n",
      "\n"
     ]
    },
    {
     "name": "stdout",
     "output_type": "stream",
     "text": [
      " 70%|███████   | 211/300 [8:13:42<4:39:21, 188.33s/trial, best loss: 6.038071516914533e-08]"
     ]
    },
    {
     "name": "stderr",
     "output_type": "stream",
     "text": [
      "/Users/manqueenmannequin/miniforge3/envs/python38gen2/lib/python3.8/site-packages/reservoirpy/nodes/readouts/ridge.py:17: LinAlgWarning: Ill-conditioned matrix (rcond=2.93567e-18): result may not be accurate.\n",
      "  return linalg.solve(XXT + ridge, YXT.T, assume_a=\"sym\")\n",
      "\n",
      "/Users/manqueenmannequin/miniforge3/envs/python38gen2/lib/python3.8/site-packages/reservoirpy/nodes/readouts/ridge.py:17: LinAlgWarning: Ill-conditioned matrix (rcond=2.60208e-18): result may not be accurate.\n",
      "  return linalg.solve(XXT + ridge, YXT.T, assume_a=\"sym\")\n",
      "\n",
      "/Users/manqueenmannequin/miniforge3/envs/python38gen2/lib/python3.8/site-packages/reservoirpy/nodes/readouts/ridge.py:17: LinAlgWarning: Ill-conditioned matrix (rcond=2.73635e-18): result may not be accurate.\n",
      "  return linalg.solve(XXT + ridge, YXT.T, assume_a=\"sym\")\n",
      "\n"
     ]
    },
    {
     "name": "stdout",
     "output_type": "stream",
     "text": [
      " 71%|███████   | 212/300 [8:15:55<4:12:00, 171.83s/trial, best loss: 4.3860433537990236e-08]"
     ]
    },
    {
     "name": "stderr",
     "output_type": "stream",
     "text": [
      "/Users/manqueenmannequin/miniforge3/envs/python38gen2/lib/python3.8/site-packages/reservoirpy/nodes/readouts/ridge.py:17: LinAlgWarning: Ill-conditioned matrix (rcond=6.71954e-18): result may not be accurate.\n",
      "  return linalg.solve(XXT + ridge, YXT.T, assume_a=\"sym\")\n",
      "\n",
      "/Users/manqueenmannequin/miniforge3/envs/python38gen2/lib/python3.8/site-packages/reservoirpy/nodes/readouts/ridge.py:17: LinAlgWarning: Ill-conditioned matrix (rcond=1.0168e-17): result may not be accurate.\n",
      "  return linalg.solve(XXT + ridge, YXT.T, assume_a=\"sym\")\n",
      "\n",
      "/Users/manqueenmannequin/miniforge3/envs/python38gen2/lib/python3.8/site-packages/reservoirpy/nodes/readouts/ridge.py:17: LinAlgWarning: Ill-conditioned matrix (rcond=7.6868e-18): result may not be accurate.\n",
      "  return linalg.solve(XXT + ridge, YXT.T, assume_a=\"sym\")\n",
      "\n"
     ]
    },
    {
     "name": "stdout",
     "output_type": "stream",
     "text": [
      " 71%|███████   | 213/300 [8:18:15<3:55:20, 162.31s/trial, best loss: 4.3860433537990236e-08]"
     ]
    },
    {
     "name": "stderr",
     "output_type": "stream",
     "text": [
      "/Users/manqueenmannequin/miniforge3/envs/python38gen2/lib/python3.8/site-packages/reservoirpy/nodes/readouts/ridge.py:17: LinAlgWarning: Ill-conditioned matrix (rcond=1.02569e-17): result may not be accurate.\n",
      "  return linalg.solve(XXT + ridge, YXT.T, assume_a=\"sym\")\n",
      "\n",
      "/Users/manqueenmannequin/miniforge3/envs/python38gen2/lib/python3.8/site-packages/reservoirpy/nodes/readouts/ridge.py:17: LinAlgWarning: Ill-conditioned matrix (rcond=1.23532e-17): result may not be accurate.\n",
      "  return linalg.solve(XXT + ridge, YXT.T, assume_a=\"sym\")\n",
      "\n",
      "/Users/manqueenmannequin/miniforge3/envs/python38gen2/lib/python3.8/site-packages/reservoirpy/nodes/readouts/ridge.py:17: LinAlgWarning: Ill-conditioned matrix (rcond=1.4571e-17): result may not be accurate.\n",
      "  return linalg.solve(XXT + ridge, YXT.T, assume_a=\"sym\")\n",
      "\n"
     ]
    },
    {
     "name": "stdout",
     "output_type": "stream",
     "text": [
      " 71%|███████▏  | 214/300 [8:20:08<3:31:30, 147.57s/trial, best loss: 4.3860433537990236e-08]"
     ]
    },
    {
     "name": "stderr",
     "output_type": "stream",
     "text": [
      "/Users/manqueenmannequin/miniforge3/envs/python38gen2/lib/python3.8/site-packages/reservoirpy/nodes/readouts/ridge.py:17: LinAlgWarning: Ill-conditioned matrix (rcond=3.72193e-18): result may not be accurate.\n",
      "  return linalg.solve(XXT + ridge, YXT.T, assume_a=\"sym\")\n",
      "\n",
      "/Users/manqueenmannequin/miniforge3/envs/python38gen2/lib/python3.8/site-packages/reservoirpy/nodes/readouts/ridge.py:17: LinAlgWarning: Ill-conditioned matrix (rcond=3.70988e-18): result may not be accurate.\n",
      "  return linalg.solve(XXT + ridge, YXT.T, assume_a=\"sym\")\n",
      "\n",
      "/Users/manqueenmannequin/miniforge3/envs/python38gen2/lib/python3.8/site-packages/reservoirpy/nodes/readouts/ridge.py:17: LinAlgWarning: Ill-conditioned matrix (rcond=3.68888e-18): result may not be accurate.\n",
      "  return linalg.solve(XXT + ridge, YXT.T, assume_a=\"sym\")\n",
      "\n"
     ]
    },
    {
     "name": "stdout",
     "output_type": "stream",
     "text": [
      " 72%|███████▏  | 217/300 [8:30:45<4:28:02, 193.76s/trial, best loss: 1.4156957446503661e-08]"
     ]
    },
    {
     "name": "stderr",
     "output_type": "stream",
     "text": [
      "/Users/manqueenmannequin/miniforge3/envs/python38gen2/lib/python3.8/site-packages/reservoirpy/nodes/readouts/ridge.py:17: LinAlgWarning: Ill-conditioned matrix (rcond=3.86015e-18): result may not be accurate.\n",
      "  return linalg.solve(XXT + ridge, YXT.T, assume_a=\"sym\")\n",
      "\n",
      "/Users/manqueenmannequin/miniforge3/envs/python38gen2/lib/python3.8/site-packages/reservoirpy/nodes/readouts/ridge.py:17: LinAlgWarning: Ill-conditioned matrix (rcond=4.2771e-18): result may not be accurate.\n",
      "  return linalg.solve(XXT + ridge, YXT.T, assume_a=\"sym\")\n",
      "\n",
      "/Users/manqueenmannequin/miniforge3/envs/python38gen2/lib/python3.8/site-packages/reservoirpy/nodes/readouts/ridge.py:17: LinAlgWarning: Ill-conditioned matrix (rcond=3.87919e-18): result may not be accurate.\n",
      "  return linalg.solve(XXT + ridge, YXT.T, assume_a=\"sym\")\n",
      "\n"
     ]
    },
    {
     "name": "stdout",
     "output_type": "stream",
     "text": [
      " 73%|███████▎  | 219/300 [8:39:32<5:14:48, 233.19s/trial, best loss: 1.4156957446503661e-08]"
     ]
    },
    {
     "name": "stderr",
     "output_type": "stream",
     "text": [
      "/Users/manqueenmannequin/miniforge3/envs/python38gen2/lib/python3.8/site-packages/reservoirpy/nodes/readouts/ridge.py:17: LinAlgWarning: Ill-conditioned matrix (rcond=6.96938e-18): result may not be accurate.\n",
      "  return linalg.solve(XXT + ridge, YXT.T, assume_a=\"sym\")\n",
      "\n",
      "/Users/manqueenmannequin/miniforge3/envs/python38gen2/lib/python3.8/site-packages/reservoirpy/nodes/readouts/ridge.py:17: LinAlgWarning: Ill-conditioned matrix (rcond=6.45545e-18): result may not be accurate.\n",
      "  return linalg.solve(XXT + ridge, YXT.T, assume_a=\"sym\")\n",
      "\n",
      "/Users/manqueenmannequin/miniforge3/envs/python38gen2/lib/python3.8/site-packages/reservoirpy/nodes/readouts/ridge.py:17: LinAlgWarning: Ill-conditioned matrix (rcond=6.87982e-18): result may not be accurate.\n",
      "  return linalg.solve(XXT + ridge, YXT.T, assume_a=\"sym\")\n",
      "\n"
     ]
    },
    {
     "name": "stdout",
     "output_type": "stream",
     "text": [
      " 74%|███████▎  | 221/300 [8:46:27<4:49:06, 219.58s/trial, best loss: 1.4156957446503661e-08]"
     ]
    },
    {
     "name": "stderr",
     "output_type": "stream",
     "text": [
      "/Users/manqueenmannequin/miniforge3/envs/python38gen2/lib/python3.8/site-packages/reservoirpy/nodes/readouts/ridge.py:17: LinAlgWarning: Ill-conditioned matrix (rcond=3.97419e-18): result may not be accurate.\n",
      "  return linalg.solve(XXT + ridge, YXT.T, assume_a=\"sym\")\n",
      "\n",
      "/Users/manqueenmannequin/miniforge3/envs/python38gen2/lib/python3.8/site-packages/reservoirpy/nodes/readouts/ridge.py:17: LinAlgWarning: Ill-conditioned matrix (rcond=3.89821e-18): result may not be accurate.\n",
      "  return linalg.solve(XXT + ridge, YXT.T, assume_a=\"sym\")\n",
      "\n",
      "/Users/manqueenmannequin/miniforge3/envs/python38gen2/lib/python3.8/site-packages/reservoirpy/nodes/readouts/ridge.py:17: LinAlgWarning: Ill-conditioned matrix (rcond=4.10552e-18): result may not be accurate.\n",
      "  return linalg.solve(XXT + ridge, YXT.T, assume_a=\"sym\")\n",
      "\n"
     ]
    },
    {
     "name": "stdout",
     "output_type": "stream",
     "text": [
      " 75%|███████▌  | 226/300 [8:58:14<3:18:58, 161.33s/trial, best loss: 1.4156957446503661e-08]"
     ]
    },
    {
     "name": "stderr",
     "output_type": "stream",
     "text": [
      "/Users/manqueenmannequin/miniforge3/envs/python38gen2/lib/python3.8/site-packages/reservoirpy/nodes/readouts/ridge.py:17: LinAlgWarning: Ill-conditioned matrix (rcond=2.62559e-17): result may not be accurate.\n",
      "  return linalg.solve(XXT + ridge, YXT.T, assume_a=\"sym\")\n",
      "\n",
      "/Users/manqueenmannequin/miniforge3/envs/python38gen2/lib/python3.8/site-packages/reservoirpy/nodes/readouts/ridge.py:17: LinAlgWarning: Ill-conditioned matrix (rcond=1.57664e-17): result may not be accurate.\n",
      "  return linalg.solve(XXT + ridge, YXT.T, assume_a=\"sym\")\n",
      "\n",
      "/Users/manqueenmannequin/miniforge3/envs/python38gen2/lib/python3.8/site-packages/reservoirpy/nodes/readouts/ridge.py:17: LinAlgWarning: Ill-conditioned matrix (rcond=2.41821e-17): result may not be accurate.\n",
      "  return linalg.solve(XXT + ridge, YXT.T, assume_a=\"sym\")\n",
      "\n"
     ]
    },
    {
     "name": "stdout",
     "output_type": "stream",
     "text": [
      " 76%|███████▌  | 227/300 [9:01:33<3:30:11, 172.77s/trial, best loss: 1.4156957446503661e-08]"
     ]
    },
    {
     "name": "stderr",
     "output_type": "stream",
     "text": [
      "/Users/manqueenmannequin/miniforge3/envs/python38gen2/lib/python3.8/site-packages/reservoirpy/nodes/readouts/ridge.py:17: LinAlgWarning: Ill-conditioned matrix (rcond=7.40636e-17): result may not be accurate.\n",
      "  return linalg.solve(XXT + ridge, YXT.T, assume_a=\"sym\")\n",
      "\n",
      "/Users/manqueenmannequin/miniforge3/envs/python38gen2/lib/python3.8/site-packages/reservoirpy/nodes/readouts/ridge.py:17: LinAlgWarning: Ill-conditioned matrix (rcond=5.62665e-17): result may not be accurate.\n",
      "  return linalg.solve(XXT + ridge, YXT.T, assume_a=\"sym\")\n",
      "\n",
      "/Users/manqueenmannequin/miniforge3/envs/python38gen2/lib/python3.8/site-packages/reservoirpy/nodes/readouts/ridge.py:17: LinAlgWarning: Ill-conditioned matrix (rcond=6.12022e-17): result may not be accurate.\n",
      "  return linalg.solve(XXT + ridge, YXT.T, assume_a=\"sym\")\n",
      "\n"
     ]
    },
    {
     "name": "stdout",
     "output_type": "stream",
     "text": [
      " 77%|███████▋  | 230/300 [9:12:34<3:50:50, 197.86s/trial, best loss: 1.4156957446503661e-08]"
     ]
    },
    {
     "name": "stderr",
     "output_type": "stream",
     "text": [
      "/Users/manqueenmannequin/miniforge3/envs/python38gen2/lib/python3.8/site-packages/reservoirpy/nodes/readouts/ridge.py:17: LinAlgWarning: Ill-conditioned matrix (rcond=2.06569e-17): result may not be accurate.\n",
      "  return linalg.solve(XXT + ridge, YXT.T, assume_a=\"sym\")\n",
      "\n",
      "/Users/manqueenmannequin/miniforge3/envs/python38gen2/lib/python3.8/site-packages/reservoirpy/nodes/readouts/ridge.py:17: LinAlgWarning: Ill-conditioned matrix (rcond=2.4976e-17): result may not be accurate.\n",
      "  return linalg.solve(XXT + ridge, YXT.T, assume_a=\"sym\")\n",
      "\n",
      "/Users/manqueenmannequin/miniforge3/envs/python38gen2/lib/python3.8/site-packages/reservoirpy/nodes/readouts/ridge.py:17: LinAlgWarning: Ill-conditioned matrix (rcond=1.99962e-17): result may not be accurate.\n",
      "  return linalg.solve(XXT + ridge, YXT.T, assume_a=\"sym\")\n",
      "\n"
     ]
    },
    {
     "name": "stdout",
     "output_type": "stream",
     "text": [
      " 77%|███████▋  | 231/300 [9:15:46<3:45:40, 196.24s/trial, best loss: 1.4156957446503661e-08]"
     ]
    },
    {
     "name": "stderr",
     "output_type": "stream",
     "text": [
      "/Users/manqueenmannequin/miniforge3/envs/python38gen2/lib/python3.8/site-packages/reservoirpy/nodes/readouts/ridge.py:17: LinAlgWarning: Ill-conditioned matrix (rcond=7.71713e-17): result may not be accurate.\n",
      "  return linalg.solve(XXT + ridge, YXT.T, assume_a=\"sym\")\n",
      "\n",
      "/Users/manqueenmannequin/miniforge3/envs/python38gen2/lib/python3.8/site-packages/reservoirpy/nodes/readouts/ridge.py:17: LinAlgWarning: Ill-conditioned matrix (rcond=7.72152e-17): result may not be accurate.\n",
      "  return linalg.solve(XXT + ridge, YXT.T, assume_a=\"sym\")\n",
      "\n",
      "/Users/manqueenmannequin/miniforge3/envs/python38gen2/lib/python3.8/site-packages/reservoirpy/nodes/readouts/ridge.py:17: LinAlgWarning: Ill-conditioned matrix (rcond=7.98022e-17): result may not be accurate.\n",
      "  return linalg.solve(XXT + ridge, YXT.T, assume_a=\"sym\")\n",
      "\n"
     ]
    },
    {
     "name": "stdout",
     "output_type": "stream",
     "text": [
      " 79%|███████▉  | 238/300 [9:34:44<3:19:25, 192.99s/trial, best loss: 1.4156957446503661e-08]"
     ]
    },
    {
     "name": "stderr",
     "output_type": "stream",
     "text": [
      "/Users/manqueenmannequin/miniforge3/envs/python38gen2/lib/python3.8/site-packages/reservoirpy/nodes/readouts/ridge.py:17: LinAlgWarning: Ill-conditioned matrix (rcond=6.6436e-18): result may not be accurate.\n",
      "  return linalg.solve(XXT + ridge, YXT.T, assume_a=\"sym\")\n",
      "\n",
      "/Users/manqueenmannequin/miniforge3/envs/python38gen2/lib/python3.8/site-packages/reservoirpy/nodes/readouts/ridge.py:17: LinAlgWarning: Ill-conditioned matrix (rcond=6.57328e-18): result may not be accurate.\n",
      "  return linalg.solve(XXT + ridge, YXT.T, assume_a=\"sym\")\n",
      "\n",
      "/Users/manqueenmannequin/miniforge3/envs/python38gen2/lib/python3.8/site-packages/reservoirpy/nodes/readouts/ridge.py:17: LinAlgWarning: Ill-conditioned matrix (rcond=6.38565e-18): result may not be accurate.\n",
      "  return linalg.solve(XXT + ridge, YXT.T, assume_a=\"sym\")\n",
      "\n"
     ]
    },
    {
     "name": "stdout",
     "output_type": "stream",
     "text": [
      " 80%|███████▉  | 239/300 [9:37:03<2:59:41, 176.75s/trial, best loss: 1.4156957446503661e-08]"
     ]
    },
    {
     "name": "stderr",
     "output_type": "stream",
     "text": [
      "/Users/manqueenmannequin/miniforge3/envs/python38gen2/lib/python3.8/site-packages/reservoirpy/nodes/readouts/ridge.py:17: LinAlgWarning: Ill-conditioned matrix (rcond=5.02109e-17): result may not be accurate.\n",
      "  return linalg.solve(XXT + ridge, YXT.T, assume_a=\"sym\")\n",
      "\n",
      "/Users/manqueenmannequin/miniforge3/envs/python38gen2/lib/python3.8/site-packages/reservoirpy/nodes/readouts/ridge.py:17: LinAlgWarning: Ill-conditioned matrix (rcond=5.20788e-17): result may not be accurate.\n",
      "  return linalg.solve(XXT + ridge, YXT.T, assume_a=\"sym\")\n",
      "\n",
      "/Users/manqueenmannequin/miniforge3/envs/python38gen2/lib/python3.8/site-packages/reservoirpy/nodes/readouts/ridge.py:17: LinAlgWarning: Ill-conditioned matrix (rcond=4.79832e-17): result may not be accurate.\n",
      "  return linalg.solve(XXT + ridge, YXT.T, assume_a=\"sym\")\n",
      "\n"
     ]
    },
    {
     "name": "stdout",
     "output_type": "stream",
     "text": [
      " 82%|████████▏ | 245/300 [9:49:57<2:28:12, 161.67s/trial, best loss: 1.4156957446503661e-08]"
     ]
    },
    {
     "name": "stderr",
     "output_type": "stream",
     "text": [
      "/Users/manqueenmannequin/miniforge3/envs/python38gen2/lib/python3.8/site-packages/reservoirpy/nodes/readouts/ridge.py:17: LinAlgWarning: Ill-conditioned matrix (rcond=4.82473e-17): result may not be accurate.\n",
      "  return linalg.solve(XXT + ridge, YXT.T, assume_a=\"sym\")\n",
      "\n",
      "/Users/manqueenmannequin/miniforge3/envs/python38gen2/lib/python3.8/site-packages/reservoirpy/nodes/readouts/ridge.py:17: LinAlgWarning: Ill-conditioned matrix (rcond=5.72045e-17): result may not be accurate.\n",
      "  return linalg.solve(XXT + ridge, YXT.T, assume_a=\"sym\")\n",
      "\n",
      "/Users/manqueenmannequin/miniforge3/envs/python38gen2/lib/python3.8/site-packages/reservoirpy/nodes/readouts/ridge.py:17: LinAlgWarning: Ill-conditioned matrix (rcond=5.51852e-17): result may not be accurate.\n",
      "  return linalg.solve(XXT + ridge, YXT.T, assume_a=\"sym\")\n",
      "\n"
     ]
    },
    {
     "name": "stdout",
     "output_type": "stream",
     "text": [
      " 82%|████████▏ | 246/300 [9:51:38<2:09:20, 143.71s/trial, best loss: 1.4156957446503661e-08]"
     ]
    },
    {
     "name": "stderr",
     "output_type": "stream",
     "text": [
      "/Users/manqueenmannequin/miniforge3/envs/python38gen2/lib/python3.8/site-packages/reservoirpy/nodes/readouts/ridge.py:17: LinAlgWarning: Ill-conditioned matrix (rcond=1.85962e-17): result may not be accurate.\n",
      "  return linalg.solve(XXT + ridge, YXT.T, assume_a=\"sym\")\n",
      "\n",
      "/Users/manqueenmannequin/miniforge3/envs/python38gen2/lib/python3.8/site-packages/reservoirpy/nodes/readouts/ridge.py:17: LinAlgWarning: Ill-conditioned matrix (rcond=1.89823e-17): result may not be accurate.\n",
      "  return linalg.solve(XXT + ridge, YXT.T, assume_a=\"sym\")\n",
      "\n",
      "/Users/manqueenmannequin/miniforge3/envs/python38gen2/lib/python3.8/site-packages/reservoirpy/nodes/readouts/ridge.py:17: LinAlgWarning: Ill-conditioned matrix (rcond=1.63713e-17): result may not be accurate.\n",
      "  return linalg.solve(XXT + ridge, YXT.T, assume_a=\"sym\")\n",
      "\n"
     ]
    },
    {
     "name": "stdout",
     "output_type": "stream",
     "text": [
      " 84%|████████▎ | 251/300 [10:08:57<3:28:26, 255.24s/trial, best loss: 1.4156957446503661e-08]"
     ]
    },
    {
     "name": "stderr",
     "output_type": "stream",
     "text": [
      "/Users/manqueenmannequin/miniforge3/envs/python38gen2/lib/python3.8/site-packages/reservoirpy/nodes/readouts/ridge.py:17: LinAlgWarning: Ill-conditioned matrix (rcond=1.17766e-17): result may not be accurate.\n",
      "  return linalg.solve(XXT + ridge, YXT.T, assume_a=\"sym\")\n",
      "\n",
      "/Users/manqueenmannequin/miniforge3/envs/python38gen2/lib/python3.8/site-packages/reservoirpy/nodes/readouts/ridge.py:17: LinAlgWarning: Ill-conditioned matrix (rcond=9.58606e-18): result may not be accurate.\n",
      "  return linalg.solve(XXT + ridge, YXT.T, assume_a=\"sym\")\n",
      "\n",
      "/Users/manqueenmannequin/miniforge3/envs/python38gen2/lib/python3.8/site-packages/reservoirpy/nodes/readouts/ridge.py:17: LinAlgWarning: Ill-conditioned matrix (rcond=1.15225e-17): result may not be accurate.\n",
      "  return linalg.solve(XXT + ridge, YXT.T, assume_a=\"sym\")\n",
      "\n"
     ]
    },
    {
     "name": "stdout",
     "output_type": "stream",
     "text": [
      " 84%|████████▍ | 253/300 [10:12:40<2:20:14, 179.02s/trial, best loss: 1.4156957446503661e-08]"
     ]
    },
    {
     "name": "stderr",
     "output_type": "stream",
     "text": [
      "/Users/manqueenmannequin/miniforge3/envs/python38gen2/lib/python3.8/site-packages/reservoirpy/nodes/readouts/ridge.py:17: LinAlgWarning: Ill-conditioned matrix (rcond=6.80753e-18): result may not be accurate.\n",
      "  return linalg.solve(XXT + ridge, YXT.T, assume_a=\"sym\")\n",
      "\n",
      "/Users/manqueenmannequin/miniforge3/envs/python38gen2/lib/python3.8/site-packages/reservoirpy/nodes/readouts/ridge.py:17: LinAlgWarning: Ill-conditioned matrix (rcond=7.96417e-18): result may not be accurate.\n",
      "  return linalg.solve(XXT + ridge, YXT.T, assume_a=\"sym\")\n",
      "\n",
      "/Users/manqueenmannequin/miniforge3/envs/python38gen2/lib/python3.8/site-packages/reservoirpy/nodes/readouts/ridge.py:17: LinAlgWarning: Ill-conditioned matrix (rcond=6.99653e-18): result may not be accurate.\n",
      "  return linalg.solve(XXT + ridge, YXT.T, assume_a=\"sym\")\n",
      "\n"
     ]
    },
    {
     "name": "stdout",
     "output_type": "stream",
     "text": [
      " 86%|████████▌ | 257/300 [10:21:27<1:50:31, 154.21s/trial, best loss: 1.4156957446503661e-08]"
     ]
    },
    {
     "name": "stderr",
     "output_type": "stream",
     "text": [
      "/Users/manqueenmannequin/miniforge3/envs/python38gen2/lib/python3.8/site-packages/reservoirpy/nodes/readouts/ridge.py:17: LinAlgWarning: Ill-conditioned matrix (rcond=3.05065e-18): result may not be accurate.\n",
      "  return linalg.solve(XXT + ridge, YXT.T, assume_a=\"sym\")\n",
      "\n",
      "/Users/manqueenmannequin/miniforge3/envs/python38gen2/lib/python3.8/site-packages/reservoirpy/nodes/readouts/ridge.py:17: LinAlgWarning: Ill-conditioned matrix (rcond=3.05215e-18): result may not be accurate.\n",
      "  return linalg.solve(XXT + ridge, YXT.T, assume_a=\"sym\")\n",
      "\n",
      "/Users/manqueenmannequin/miniforge3/envs/python38gen2/lib/python3.8/site-packages/reservoirpy/nodes/readouts/ridge.py:17: LinAlgWarning: Ill-conditioned matrix (rcond=3.14035e-18): result may not be accurate.\n",
      "  return linalg.solve(XXT + ridge, YXT.T, assume_a=\"sym\")\n",
      "\n"
     ]
    },
    {
     "name": "stdout",
     "output_type": "stream",
     "text": [
      " 86%|████████▌ | 258/300 [10:25:27<2:06:00, 180.00s/trial, best loss: 1.4156957446503661e-08]"
     ]
    },
    {
     "name": "stderr",
     "output_type": "stream",
     "text": [
      "/Users/manqueenmannequin/miniforge3/envs/python38gen2/lib/python3.8/site-packages/reservoirpy/nodes/readouts/ridge.py:17: LinAlgWarning: Ill-conditioned matrix (rcond=3.21441e-18): result may not be accurate.\n",
      "  return linalg.solve(XXT + ridge, YXT.T, assume_a=\"sym\")\n",
      "\n",
      "/Users/manqueenmannequin/miniforge3/envs/python38gen2/lib/python3.8/site-packages/reservoirpy/nodes/readouts/ridge.py:17: LinAlgWarning: Ill-conditioned matrix (rcond=2.95419e-18): result may not be accurate.\n",
      "  return linalg.solve(XXT + ridge, YXT.T, assume_a=\"sym\")\n",
      "\n",
      "/Users/manqueenmannequin/miniforge3/envs/python38gen2/lib/python3.8/site-packages/reservoirpy/nodes/readouts/ridge.py:17: LinAlgWarning: Ill-conditioned matrix (rcond=3.62802e-18): result may not be accurate.\n",
      "  return linalg.solve(XXT + ridge, YXT.T, assume_a=\"sym\")\n",
      "\n"
     ]
    },
    {
     "name": "stdout",
     "output_type": "stream",
     "text": [
      " 86%|████████▋ | 259/300 [10:28:31<2:03:41, 181.01s/trial, best loss: 1.4156957446503661e-08]"
     ]
    },
    {
     "name": "stderr",
     "output_type": "stream",
     "text": [
      "/Users/manqueenmannequin/miniforge3/envs/python38gen2/lib/python3.8/site-packages/reservoirpy/nodes/readouts/ridge.py:17: LinAlgWarning: Ill-conditioned matrix (rcond=1.81088e-17): result may not be accurate.\n",
      "  return linalg.solve(XXT + ridge, YXT.T, assume_a=\"sym\")\n",
      "\n",
      "/Users/manqueenmannequin/miniforge3/envs/python38gen2/lib/python3.8/site-packages/reservoirpy/nodes/readouts/ridge.py:17: LinAlgWarning: Ill-conditioned matrix (rcond=5.17721e-17): result may not be accurate.\n",
      "  return linalg.solve(XXT + ridge, YXT.T, assume_a=\"sym\")\n",
      "\n",
      "/Users/manqueenmannequin/miniforge3/envs/python38gen2/lib/python3.8/site-packages/reservoirpy/nodes/readouts/ridge.py:17: LinAlgWarning: Ill-conditioned matrix (rcond=3.06857e-17): result may not be accurate.\n",
      "  return linalg.solve(XXT + ridge, YXT.T, assume_a=\"sym\")\n",
      "\n"
     ]
    },
    {
     "name": "stdout",
     "output_type": "stream",
     "text": [
      " 87%|████████▋ | 261/300 [10:34:59<2:05:22, 192.90s/trial, best loss: 1.4156957446503661e-08]"
     ]
    },
    {
     "name": "stderr",
     "output_type": "stream",
     "text": [
      "/Users/manqueenmannequin/miniforge3/envs/python38gen2/lib/python3.8/site-packages/reservoirpy/nodes/readouts/ridge.py:17: LinAlgWarning: Ill-conditioned matrix (rcond=3.75056e-18): result may not be accurate.\n",
      "  return linalg.solve(XXT + ridge, YXT.T, assume_a=\"sym\")\n",
      "\n",
      "/Users/manqueenmannequin/miniforge3/envs/python38gen2/lib/python3.8/site-packages/reservoirpy/nodes/readouts/ridge.py:17: LinAlgWarning: Ill-conditioned matrix (rcond=3.36689e-18): result may not be accurate.\n",
      "  return linalg.solve(XXT + ridge, YXT.T, assume_a=\"sym\")\n",
      "\n",
      "/Users/manqueenmannequin/miniforge3/envs/python38gen2/lib/python3.8/site-packages/reservoirpy/nodes/readouts/ridge.py:17: LinAlgWarning: Ill-conditioned matrix (rcond=3.12523e-18): result may not be accurate.\n",
      "  return linalg.solve(XXT + ridge, YXT.T, assume_a=\"sym\")\n",
      "\n"
     ]
    },
    {
     "name": "stdout",
     "output_type": "stream",
     "text": [
      " 87%|████████▋ | 262/300 [10:37:50<1:58:07, 186.52s/trial, best loss: 1.4156957446503661e-08]"
     ]
    },
    {
     "name": "stderr",
     "output_type": "stream",
     "text": [
      "/Users/manqueenmannequin/miniforge3/envs/python38gen2/lib/python3.8/site-packages/reservoirpy/nodes/readouts/ridge.py:17: LinAlgWarning: Ill-conditioned matrix (rcond=1.97292e-17): result may not be accurate.\n",
      "  return linalg.solve(XXT + ridge, YXT.T, assume_a=\"sym\")\n",
      "\n",
      "/Users/manqueenmannequin/miniforge3/envs/python38gen2/lib/python3.8/site-packages/reservoirpy/nodes/readouts/ridge.py:17: LinAlgWarning: Ill-conditioned matrix (rcond=2.00499e-17): result may not be accurate.\n",
      "  return linalg.solve(XXT + ridge, YXT.T, assume_a=\"sym\")\n",
      "\n",
      "/Users/manqueenmannequin/miniforge3/envs/python38gen2/lib/python3.8/site-packages/reservoirpy/nodes/readouts/ridge.py:17: LinAlgWarning: Ill-conditioned matrix (rcond=1.94851e-17): result may not be accurate.\n",
      "  return linalg.solve(XXT + ridge, YXT.T, assume_a=\"sym\")\n",
      "\n"
     ]
    },
    {
     "name": "stdout",
     "output_type": "stream",
     "text": [
      " 88%|████████▊ | 263/300 [10:40:38<1:51:34, 180.94s/trial, best loss: 1.4156957446503661e-08]"
     ]
    },
    {
     "name": "stderr",
     "output_type": "stream",
     "text": [
      "/Users/manqueenmannequin/miniforge3/envs/python38gen2/lib/python3.8/site-packages/reservoirpy/nodes/readouts/ridge.py:17: LinAlgWarning: Ill-conditioned matrix (rcond=4.10306e-18): result may not be accurate.\n",
      "  return linalg.solve(XXT + ridge, YXT.T, assume_a=\"sym\")\n",
      "\n",
      "/Users/manqueenmannequin/miniforge3/envs/python38gen2/lib/python3.8/site-packages/reservoirpy/nodes/readouts/ridge.py:17: LinAlgWarning: Ill-conditioned matrix (rcond=3.9412e-18): result may not be accurate.\n",
      "  return linalg.solve(XXT + ridge, YXT.T, assume_a=\"sym\")\n",
      "\n",
      "/Users/manqueenmannequin/miniforge3/envs/python38gen2/lib/python3.8/site-packages/reservoirpy/nodes/readouts/ridge.py:17: LinAlgWarning: Ill-conditioned matrix (rcond=4.0345e-18): result may not be accurate.\n",
      "  return linalg.solve(XXT + ridge, YXT.T, assume_a=\"sym\")\n",
      "\n"
     ]
    },
    {
     "name": "stdout",
     "output_type": "stream",
     "text": [
      " 89%|████████▊ | 266/300 [10:48:58<1:39:20, 175.31s/trial, best loss: 1.4156957446503661e-08]"
     ]
    },
    {
     "name": "stderr",
     "output_type": "stream",
     "text": [
      "/Users/manqueenmannequin/miniforge3/envs/python38gen2/lib/python3.8/site-packages/reservoirpy/nodes/readouts/ridge.py:17: LinAlgWarning: Ill-conditioned matrix (rcond=3.94155e-17): result may not be accurate.\n",
      "  return linalg.solve(XXT + ridge, YXT.T, assume_a=\"sym\")\n",
      "\n",
      "/Users/manqueenmannequin/miniforge3/envs/python38gen2/lib/python3.8/site-packages/reservoirpy/nodes/readouts/ridge.py:17: LinAlgWarning: Ill-conditioned matrix (rcond=3.60374e-17): result may not be accurate.\n",
      "  return linalg.solve(XXT + ridge, YXT.T, assume_a=\"sym\")\n",
      "\n",
      "/Users/manqueenmannequin/miniforge3/envs/python38gen2/lib/python3.8/site-packages/reservoirpy/nodes/readouts/ridge.py:17: LinAlgWarning: Ill-conditioned matrix (rcond=3.72733e-17): result may not be accurate.\n",
      "  return linalg.solve(XXT + ridge, YXT.T, assume_a=\"sym\")\n",
      "\n"
     ]
    },
    {
     "name": "stdout",
     "output_type": "stream",
     "text": [
      " 89%|████████▉ | 267/300 [10:50:53<1:26:30, 157.27s/trial, best loss: 1.4156957446503661e-08]"
     ]
    },
    {
     "name": "stderr",
     "output_type": "stream",
     "text": [
      "/Users/manqueenmannequin/miniforge3/envs/python38gen2/lib/python3.8/site-packages/reservoirpy/nodes/readouts/ridge.py:17: LinAlgWarning: Ill-conditioned matrix (rcond=3.77166e-17): result may not be accurate.\n",
      "  return linalg.solve(XXT + ridge, YXT.T, assume_a=\"sym\")\n",
      "\n",
      "/Users/manqueenmannequin/miniforge3/envs/python38gen2/lib/python3.8/site-packages/reservoirpy/nodes/readouts/ridge.py:17: LinAlgWarning: Ill-conditioned matrix (rcond=3.5799e-17): result may not be accurate.\n",
      "  return linalg.solve(XXT + ridge, YXT.T, assume_a=\"sym\")\n",
      "\n",
      "/Users/manqueenmannequin/miniforge3/envs/python38gen2/lib/python3.8/site-packages/reservoirpy/nodes/readouts/ridge.py:17: LinAlgWarning: Ill-conditioned matrix (rcond=3.80261e-17): result may not be accurate.\n",
      "  return linalg.solve(XXT + ridge, YXT.T, assume_a=\"sym\")\n",
      "\n"
     ]
    },
    {
     "name": "stdout",
     "output_type": "stream",
     "text": [
      " 90%|████████▉ | 269/300 [10:53:36<1:03:34, 123.03s/trial, best loss: 1.4156957446503661e-08]"
     ]
    },
    {
     "name": "stderr",
     "output_type": "stream",
     "text": [
      "/Users/manqueenmannequin/miniforge3/envs/python38gen2/lib/python3.8/site-packages/reservoirpy/nodes/readouts/ridge.py:17: LinAlgWarning: Ill-conditioned matrix (rcond=1.68796e-17): result may not be accurate.\n",
      "  return linalg.solve(XXT + ridge, YXT.T, assume_a=\"sym\")\n",
      "\n",
      "/Users/manqueenmannequin/miniforge3/envs/python38gen2/lib/python3.8/site-packages/reservoirpy/nodes/readouts/ridge.py:17: LinAlgWarning: Ill-conditioned matrix (rcond=1.99994e-17): result may not be accurate.\n",
      "  return linalg.solve(XXT + ridge, YXT.T, assume_a=\"sym\")\n",
      "\n",
      "/Users/manqueenmannequin/miniforge3/envs/python38gen2/lib/python3.8/site-packages/reservoirpy/nodes/readouts/ridge.py:17: LinAlgWarning: Ill-conditioned matrix (rcond=2.1683e-17): result may not be accurate.\n",
      "  return linalg.solve(XXT + ridge, YXT.T, assume_a=\"sym\")\n",
      "\n"
     ]
    },
    {
     "name": "stdout",
     "output_type": "stream",
     "text": [
      " 90%|█████████ | 270/300 [10:56:44<1:11:18, 142.61s/trial, best loss: 1.4156957446503661e-08]"
     ]
    },
    {
     "name": "stderr",
     "output_type": "stream",
     "text": [
      "/Users/manqueenmannequin/miniforge3/envs/python38gen2/lib/python3.8/site-packages/reservoirpy/nodes/readouts/ridge.py:17: LinAlgWarning: Ill-conditioned matrix (rcond=7.67151e-18): result may not be accurate.\n",
      "  return linalg.solve(XXT + ridge, YXT.T, assume_a=\"sym\")\n",
      "\n",
      "/Users/manqueenmannequin/miniforge3/envs/python38gen2/lib/python3.8/site-packages/reservoirpy/nodes/readouts/ridge.py:17: LinAlgWarning: Ill-conditioned matrix (rcond=7.603e-18): result may not be accurate.\n",
      "  return linalg.solve(XXT + ridge, YXT.T, assume_a=\"sym\")\n",
      "\n",
      "/Users/manqueenmannequin/miniforge3/envs/python38gen2/lib/python3.8/site-packages/reservoirpy/nodes/readouts/ridge.py:17: LinAlgWarning: Ill-conditioned matrix (rcond=8.70309e-18): result may not be accurate.\n",
      "  return linalg.solve(XXT + ridge, YXT.T, assume_a=\"sym\")\n",
      "\n"
     ]
    },
    {
     "name": "stdout",
     "output_type": "stream",
     "text": [
      " 90%|█████████ | 271/300 [11:00:14<1:18:39, 162.75s/trial, best loss: 1.4156957446503661e-08]"
     ]
    },
    {
     "name": "stderr",
     "output_type": "stream",
     "text": [
      "/Users/manqueenmannequin/miniforge3/envs/python38gen2/lib/python3.8/site-packages/reservoirpy/nodes/readouts/ridge.py:17: LinAlgWarning: Ill-conditioned matrix (rcond=7.18669e-18): result may not be accurate.\n",
      "  return linalg.solve(XXT + ridge, YXT.T, assume_a=\"sym\")\n",
      "\n",
      "/Users/manqueenmannequin/miniforge3/envs/python38gen2/lib/python3.8/site-packages/reservoirpy/nodes/readouts/ridge.py:17: LinAlgWarning: Ill-conditioned matrix (rcond=7.69436e-18): result may not be accurate.\n",
      "  return linalg.solve(XXT + ridge, YXT.T, assume_a=\"sym\")\n",
      "\n",
      "/Users/manqueenmannequin/miniforge3/envs/python38gen2/lib/python3.8/site-packages/reservoirpy/nodes/readouts/ridge.py:17: LinAlgWarning: Ill-conditioned matrix (rcond=6.11137e-18): result may not be accurate.\n",
      "  return linalg.solve(XXT + ridge, YXT.T, assume_a=\"sym\")\n",
      "\n"
     ]
    },
    {
     "name": "stdout",
     "output_type": "stream",
     "text": [
      " 91%|█████████ | 273/300 [11:07:32<1:23:57, 186.58s/trial, best loss: 1.4156957446503661e-08]"
     ]
    },
    {
     "name": "stderr",
     "output_type": "stream",
     "text": [
      "/Users/manqueenmannequin/miniforge3/envs/python38gen2/lib/python3.8/site-packages/reservoirpy/nodes/readouts/ridge.py:17: LinAlgWarning: Ill-conditioned matrix (rcond=1.2841e-17): result may not be accurate.\n",
      "  return linalg.solve(XXT + ridge, YXT.T, assume_a=\"sym\")\n",
      "\n",
      "/Users/manqueenmannequin/miniforge3/envs/python38gen2/lib/python3.8/site-packages/reservoirpy/nodes/readouts/ridge.py:17: LinAlgWarning: Ill-conditioned matrix (rcond=1.12747e-17): result may not be accurate.\n",
      "  return linalg.solve(XXT + ridge, YXT.T, assume_a=\"sym\")\n",
      "\n",
      "/Users/manqueenmannequin/miniforge3/envs/python38gen2/lib/python3.8/site-packages/reservoirpy/nodes/readouts/ridge.py:17: LinAlgWarning: Ill-conditioned matrix (rcond=9.71015e-18): result may not be accurate.\n",
      "  return linalg.solve(XXT + ridge, YXT.T, assume_a=\"sym\")\n",
      "\n"
     ]
    },
    {
     "name": "stdout",
     "output_type": "stream",
     "text": [
      " 92%|█████████▏| 276/300 [11:14:18<59:09, 147.89s/trial, best loss: 1.4156957446503661e-08]  "
     ]
    },
    {
     "name": "stderr",
     "output_type": "stream",
     "text": [
      "/Users/manqueenmannequin/miniforge3/envs/python38gen2/lib/python3.8/site-packages/reservoirpy/nodes/readouts/ridge.py:17: LinAlgWarning: Ill-conditioned matrix (rcond=1.85421e-18): result may not be accurate.\n",
      "  return linalg.solve(XXT + ridge, YXT.T, assume_a=\"sym\")\n",
      "\n",
      "/Users/manqueenmannequin/miniforge3/envs/python38gen2/lib/python3.8/site-packages/reservoirpy/nodes/readouts/ridge.py:17: LinAlgWarning: Ill-conditioned matrix (rcond=1.84129e-18): result may not be accurate.\n",
      "  return linalg.solve(XXT + ridge, YXT.T, assume_a=\"sym\")\n",
      "\n",
      "/Users/manqueenmannequin/miniforge3/envs/python38gen2/lib/python3.8/site-packages/reservoirpy/nodes/readouts/ridge.py:17: LinAlgWarning: Ill-conditioned matrix (rcond=1.89234e-18): result may not be accurate.\n",
      "  return linalg.solve(XXT + ridge, YXT.T, assume_a=\"sym\")\n",
      "\n"
     ]
    },
    {
     "name": "stdout",
     "output_type": "stream",
     "text": [
      " 92%|█████████▏| 277/300 [11:17:54<1:04:26, 168.11s/trial, best loss: 1.4156957446503661e-08]"
     ]
    },
    {
     "name": "stderr",
     "output_type": "stream",
     "text": [
      "/Users/manqueenmannequin/miniforge3/envs/python38gen2/lib/python3.8/site-packages/reservoirpy/nodes/readouts/ridge.py:17: LinAlgWarning: Ill-conditioned matrix (rcond=2.11619e-17): result may not be accurate.\n",
      "  return linalg.solve(XXT + ridge, YXT.T, assume_a=\"sym\")\n",
      "\n",
      "/Users/manqueenmannequin/miniforge3/envs/python38gen2/lib/python3.8/site-packages/reservoirpy/nodes/readouts/ridge.py:17: LinAlgWarning: Ill-conditioned matrix (rcond=2.28883e-17): result may not be accurate.\n",
      "  return linalg.solve(XXT + ridge, YXT.T, assume_a=\"sym\")\n",
      "\n",
      "/Users/manqueenmannequin/miniforge3/envs/python38gen2/lib/python3.8/site-packages/reservoirpy/nodes/readouts/ridge.py:17: LinAlgWarning: Ill-conditioned matrix (rcond=2.02563e-17): result may not be accurate.\n",
      "  return linalg.solve(XXT + ridge, YXT.T, assume_a=\"sym\")\n",
      "\n"
     ]
    },
    {
     "name": "stdout",
     "output_type": "stream",
     "text": [
      " 93%|█████████▎| 278/300 [11:20:02<57:12, 156.01s/trial, best loss: 1.4156957446503661e-08]  "
     ]
    },
    {
     "name": "stderr",
     "output_type": "stream",
     "text": [
      "/Users/manqueenmannequin/miniforge3/envs/python38gen2/lib/python3.8/site-packages/reservoirpy/nodes/readouts/ridge.py:17: LinAlgWarning: Ill-conditioned matrix (rcond=2.58756e-17): result may not be accurate.\n",
      "  return linalg.solve(XXT + ridge, YXT.T, assume_a=\"sym\")\n",
      "\n",
      "/Users/manqueenmannequin/miniforge3/envs/python38gen2/lib/python3.8/site-packages/reservoirpy/nodes/readouts/ridge.py:17: LinAlgWarning: Ill-conditioned matrix (rcond=2.81363e-17): result may not be accurate.\n",
      "  return linalg.solve(XXT + ridge, YXT.T, assume_a=\"sym\")\n",
      "\n",
      "/Users/manqueenmannequin/miniforge3/envs/python38gen2/lib/python3.8/site-packages/reservoirpy/nodes/readouts/ridge.py:17: LinAlgWarning: Ill-conditioned matrix (rcond=3.21538e-17): result may not be accurate.\n",
      "  return linalg.solve(XXT + ridge, YXT.T, assume_a=\"sym\")\n",
      "\n"
     ]
    },
    {
     "name": "stdout",
     "output_type": "stream",
     "text": [
      " 93%|█████████▎| 280/300 [11:28:08<1:07:37, 202.86s/trial, best loss: 1.4156957446503661e-08]"
     ]
    },
    {
     "name": "stderr",
     "output_type": "stream",
     "text": [
      "/Users/manqueenmannequin/miniforge3/envs/python38gen2/lib/python3.8/site-packages/reservoirpy/nodes/readouts/ridge.py:17: LinAlgWarning: Ill-conditioned matrix (rcond=4.49325e-17): result may not be accurate.\n",
      "  return linalg.solve(XXT + ridge, YXT.T, assume_a=\"sym\")\n",
      "\n",
      "/Users/manqueenmannequin/miniforge3/envs/python38gen2/lib/python3.8/site-packages/reservoirpy/nodes/readouts/ridge.py:17: LinAlgWarning: Ill-conditioned matrix (rcond=5.61555e-17): result may not be accurate.\n",
      "  return linalg.solve(XXT + ridge, YXT.T, assume_a=\"sym\")\n",
      "\n",
      "/Users/manqueenmannequin/miniforge3/envs/python38gen2/lib/python3.8/site-packages/reservoirpy/nodes/readouts/ridge.py:17: LinAlgWarning: Ill-conditioned matrix (rcond=4.40743e-17): result may not be accurate.\n",
      "  return linalg.solve(XXT + ridge, YXT.T, assume_a=\"sym\")\n",
      "\n"
     ]
    },
    {
     "name": "stdout",
     "output_type": "stream",
     "text": [
      " 94%|█████████▍| 283/300 [11:37:19<50:19, 177.62s/trial, best loss: 1.4156957446503661e-08]  "
     ]
    },
    {
     "name": "stderr",
     "output_type": "stream",
     "text": [
      "/Users/manqueenmannequin/miniforge3/envs/python38gen2/lib/python3.8/site-packages/reservoirpy/nodes/readouts/ridge.py:17: LinAlgWarning: Ill-conditioned matrix (rcond=4.4762e-18): result may not be accurate.\n",
      "  return linalg.solve(XXT + ridge, YXT.T, assume_a=\"sym\")\n",
      "\n",
      "/Users/manqueenmannequin/miniforge3/envs/python38gen2/lib/python3.8/site-packages/reservoirpy/nodes/readouts/ridge.py:17: LinAlgWarning: Ill-conditioned matrix (rcond=5.81358e-18): result may not be accurate.\n",
      "  return linalg.solve(XXT + ridge, YXT.T, assume_a=\"sym\")\n",
      "\n",
      "/Users/manqueenmannequin/miniforge3/envs/python38gen2/lib/python3.8/site-packages/reservoirpy/nodes/readouts/ridge.py:17: LinAlgWarning: Ill-conditioned matrix (rcond=5.01477e-18): result may not be accurate.\n",
      "  return linalg.solve(XXT + ridge, YXT.T, assume_a=\"sym\")\n",
      "\n"
     ]
    },
    {
     "name": "stdout",
     "output_type": "stream",
     "text": [
      " 95%|█████████▌| 286/300 [11:47:12<43:05, 184.70s/trial, best loss: 1.4156957446503661e-08]"
     ]
    },
    {
     "name": "stderr",
     "output_type": "stream",
     "text": [
      "/Users/manqueenmannequin/miniforge3/envs/python38gen2/lib/python3.8/site-packages/reservoirpy/nodes/readouts/ridge.py:17: LinAlgWarning: Ill-conditioned matrix (rcond=5.31956e-18): result may not be accurate.\n",
      "  return linalg.solve(XXT + ridge, YXT.T, assume_a=\"sym\")\n",
      "\n",
      "/Users/manqueenmannequin/miniforge3/envs/python38gen2/lib/python3.8/site-packages/reservoirpy/nodes/readouts/ridge.py:17: LinAlgWarning: Ill-conditioned matrix (rcond=5.37918e-18): result may not be accurate.\n",
      "  return linalg.solve(XXT + ridge, YXT.T, assume_a=\"sym\")\n",
      "\n",
      "/Users/manqueenmannequin/miniforge3/envs/python38gen2/lib/python3.8/site-packages/reservoirpy/nodes/readouts/ridge.py:17: LinAlgWarning: Ill-conditioned matrix (rcond=5.4884e-18): result may not be accurate.\n",
      "  return linalg.solve(XXT + ridge, YXT.T, assume_a=\"sym\")\n",
      "\n"
     ]
    },
    {
     "name": "stdout",
     "output_type": "stream",
     "text": [
      " 96%|█████████▌| 287/300 [11:49:40<37:35, 173.53s/trial, best loss: 1.4156957446503661e-08]"
     ]
    },
    {
     "name": "stderr",
     "output_type": "stream",
     "text": [
      "/Users/manqueenmannequin/miniforge3/envs/python38gen2/lib/python3.8/site-packages/reservoirpy/nodes/readouts/ridge.py:17: LinAlgWarning: Ill-conditioned matrix (rcond=2.81744e-17): result may not be accurate.\n",
      "  return linalg.solve(XXT + ridge, YXT.T, assume_a=\"sym\")\n",
      "\n",
      "/Users/manqueenmannequin/miniforge3/envs/python38gen2/lib/python3.8/site-packages/reservoirpy/nodes/readouts/ridge.py:17: LinAlgWarning: Ill-conditioned matrix (rcond=3.2294e-17): result may not be accurate.\n",
      "  return linalg.solve(XXT + ridge, YXT.T, assume_a=\"sym\")\n",
      "\n",
      "/Users/manqueenmannequin/miniforge3/envs/python38gen2/lib/python3.8/site-packages/reservoirpy/nodes/readouts/ridge.py:17: LinAlgWarning: Ill-conditioned matrix (rcond=2.94107e-17): result may not be accurate.\n",
      "  return linalg.solve(XXT + ridge, YXT.T, assume_a=\"sym\")\n",
      "\n"
     ]
    },
    {
     "name": "stdout",
     "output_type": "stream",
     "text": [
      " 96%|█████████▋| 289/300 [11:54:17<28:47, 157.04s/trial, best loss: 1.4156957446503661e-08]"
     ]
    },
    {
     "name": "stderr",
     "output_type": "stream",
     "text": [
      "/Users/manqueenmannequin/miniforge3/envs/python38gen2/lib/python3.8/site-packages/reservoirpy/nodes/readouts/ridge.py:17: LinAlgWarning: Ill-conditioned matrix (rcond=8.66258e-18): result may not be accurate.\n",
      "  return linalg.solve(XXT + ridge, YXT.T, assume_a=\"sym\")\n",
      "\n",
      "/Users/manqueenmannequin/miniforge3/envs/python38gen2/lib/python3.8/site-packages/reservoirpy/nodes/readouts/ridge.py:17: LinAlgWarning: Ill-conditioned matrix (rcond=6.99005e-18): result may not be accurate.\n",
      "  return linalg.solve(XXT + ridge, YXT.T, assume_a=\"sym\")\n",
      "\n",
      "/Users/manqueenmannequin/miniforge3/envs/python38gen2/lib/python3.8/site-packages/reservoirpy/nodes/readouts/ridge.py:17: LinAlgWarning: Ill-conditioned matrix (rcond=7.60467e-18): result may not be accurate.\n",
      "  return linalg.solve(XXT + ridge, YXT.T, assume_a=\"sym\")\n",
      "\n"
     ]
    },
    {
     "name": "stdout",
     "output_type": "stream",
     "text": [
      " 97%|█████████▋| 290/300 [12:00:35<37:11, 223.19s/trial, best loss: 1.4156957446503661e-08]"
     ]
    },
    {
     "name": "stderr",
     "output_type": "stream",
     "text": [
      "/Users/manqueenmannequin/miniforge3/envs/python38gen2/lib/python3.8/site-packages/reservoirpy/nodes/readouts/ridge.py:17: LinAlgWarning: Ill-conditioned matrix (rcond=3.98062e-17): result may not be accurate.\n",
      "  return linalg.solve(XXT + ridge, YXT.T, assume_a=\"sym\")\n",
      "\n",
      "/Users/manqueenmannequin/miniforge3/envs/python38gen2/lib/python3.8/site-packages/reservoirpy/nodes/readouts/ridge.py:17: LinAlgWarning: Ill-conditioned matrix (rcond=3.82058e-17): result may not be accurate.\n",
      "  return linalg.solve(XXT + ridge, YXT.T, assume_a=\"sym\")\n",
      "\n",
      "/Users/manqueenmannequin/miniforge3/envs/python38gen2/lib/python3.8/site-packages/reservoirpy/nodes/readouts/ridge.py:17: LinAlgWarning: Ill-conditioned matrix (rcond=4.20991e-17): result may not be accurate.\n",
      "  return linalg.solve(XXT + ridge, YXT.T, assume_a=\"sym\")\n",
      "\n"
     ]
    },
    {
     "name": "stdout",
     "output_type": "stream",
     "text": [
      " 97%|█████████▋| 291/300 [12:03:22<30:58, 206.46s/trial, best loss: 1.4156957446503661e-08]"
     ]
    },
    {
     "name": "stderr",
     "output_type": "stream",
     "text": [
      "/Users/manqueenmannequin/miniforge3/envs/python38gen2/lib/python3.8/site-packages/reservoirpy/nodes/readouts/ridge.py:17: LinAlgWarning: Ill-conditioned matrix (rcond=6.41871e-18): result may not be accurate.\n",
      "  return linalg.solve(XXT + ridge, YXT.T, assume_a=\"sym\")\n",
      "\n",
      "/Users/manqueenmannequin/miniforge3/envs/python38gen2/lib/python3.8/site-packages/reservoirpy/nodes/readouts/ridge.py:17: LinAlgWarning: Ill-conditioned matrix (rcond=6.33895e-18): result may not be accurate.\n",
      "  return linalg.solve(XXT + ridge, YXT.T, assume_a=\"sym\")\n",
      "\n",
      "/Users/manqueenmannequin/miniforge3/envs/python38gen2/lib/python3.8/site-packages/reservoirpy/nodes/readouts/ridge.py:17: LinAlgWarning: Ill-conditioned matrix (rcond=6.71536e-18): result may not be accurate.\n",
      "  return linalg.solve(XXT + ridge, YXT.T, assume_a=\"sym\")\n",
      "\n"
     ]
    },
    {
     "name": "stdout",
     "output_type": "stream",
     "text": [
      " 98%|█████████▊| 294/300 [12:11:04<17:07, 171.28s/trial, best loss: 1.4156957446503661e-08]"
     ]
    },
    {
     "name": "stderr",
     "output_type": "stream",
     "text": [
      "/Users/manqueenmannequin/miniforge3/envs/python38gen2/lib/python3.8/site-packages/reservoirpy/nodes/readouts/ridge.py:17: LinAlgWarning: Ill-conditioned matrix (rcond=3.21739e-17): result may not be accurate.\n",
      "  return linalg.solve(XXT + ridge, YXT.T, assume_a=\"sym\")\n",
      "\n",
      "/Users/manqueenmannequin/miniforge3/envs/python38gen2/lib/python3.8/site-packages/reservoirpy/nodes/readouts/ridge.py:17: LinAlgWarning: Ill-conditioned matrix (rcond=4.35839e-17): result may not be accurate.\n",
      "  return linalg.solve(XXT + ridge, YXT.T, assume_a=\"sym\")\n",
      "\n",
      "/Users/manqueenmannequin/miniforge3/envs/python38gen2/lib/python3.8/site-packages/reservoirpy/nodes/readouts/ridge.py:17: LinAlgWarning: Ill-conditioned matrix (rcond=3.29557e-17): result may not be accurate.\n",
      "  return linalg.solve(XXT + ridge, YXT.T, assume_a=\"sym\")\n",
      "\n"
     ]
    },
    {
     "name": "stdout",
     "output_type": "stream",
     "text": [
      " 98%|█████████▊| 295/300 [12:15:18<16:20, 196.08s/trial, best loss: 1.4156957446503661e-08]"
     ]
    },
    {
     "name": "stderr",
     "output_type": "stream",
     "text": [
      "/Users/manqueenmannequin/miniforge3/envs/python38gen2/lib/python3.8/site-packages/reservoirpy/nodes/readouts/ridge.py:17: LinAlgWarning: Ill-conditioned matrix (rcond=7.87318e-17): result may not be accurate.\n",
      "  return linalg.solve(XXT + ridge, YXT.T, assume_a=\"sym\")\n",
      "\n"
     ]
    }
   ],
   "source": [
    "from reservoirpy.hyper import research\n",
    "\n",
    "best = research(objective, dataset, f\"{hyperopt_config['exp']}.config.json\", \".\")"
   ]
  },
  {
   "cell_type": "code",
   "execution_count": null,
   "metadata": {},
   "outputs": [
    {
     "data": {
      "text/plain": [
       "({'N': 0,\n",
       "  'iss': 0.08953586004134119,\n",
       "  'lr': 0.9765528770413411,\n",
       "  'ridge': 4.665293050641528e-09,\n",
       "  'seed': 0,\n",
       "  'sr': 0.6321052521221111},\n",
       " <hyperopt.base.Trials at 0x107c83c40>)"
      ]
     },
     "execution_count": 21,
     "metadata": {},
     "output_type": "execute_result"
    }
   ],
   "source": [
    "best"
   ]
  },
  {
   "cell_type": "code",
   "execution_count": null,
   "metadata": {},
   "outputs": [],
   "source": [
    "# `best`タプルの最初の要素には最適化されたハイパーパラメータが直接含まれています\n",
    "best_params = best[0]\n",
    "\n",
    "# numpy int64型をPythonのint型に変換するための関数\n",
    "def convert(o):\n",
    "    if isinstance(o, np.int64): return int(o)\n",
    "    raise TypeError\n",
    "\n",
    "# 最適なハイパーパラメータをJSONファイルに保存\n",
    "with open(f\"{hyperopt_config['exp']}_best_params.json\", 'w') as f:\n",
    "    json.dump(best_params, f, default=convert)"
   ]
  }
 ],
 "metadata": {
  "kernelspec": {
   "display_name": "python38gen2",
   "language": "python",
   "name": "python3"
  },
  "language_info": {
   "codemirror_mode": {
    "name": "ipython",
    "version": 3
   },
   "file_extension": ".py",
   "mimetype": "text/x-python",
   "name": "python",
   "nbconvert_exporter": "python",
   "pygments_lexer": "ipython3",
   "version": "3.8.17"
  }
 },
 "nbformat": 4,
 "nbformat_minor": 2
}
