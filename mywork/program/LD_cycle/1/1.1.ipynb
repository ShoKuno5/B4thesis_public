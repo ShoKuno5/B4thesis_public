{
 "cells": [
  {
   "cell_type": "code",
   "execution_count": 12,
   "metadata": {},
   "outputs": [
    {
     "name": "stdout",
     "output_type": "stream",
     "text": [
      "CPU times: user 2 µs, sys: 1 µs, total: 3 µs\n",
      "Wall time: 4.05 µs\n"
     ]
    }
   ],
   "source": [
    "#必要なパッケージのインポート\n",
    "\n",
    "import numpy as np\n",
    "\n",
    "import matplotlib\n",
    "import matplotlib.pyplot as plt\n",
    "\n",
    "import reservoirpy as rpy\n",
    "\n",
    "from scipy.integrate import solve_ivp\n",
    "import pandas as pd\n",
    "from reservoirpy.observables import nrmse, rsquare\n",
    "\n",
    "import matplotlib.pyplot as plt\n",
    "from mpl_toolkits.mplot3d import Axes3D\n",
    "\n",
    "\n",
    "rpy.verbosity(0)\n",
    "\n",
    "from reservoirpy.nodes import Reservoir, Ridge\n",
    "from reservoirpy.datasets import mackey_glass\n",
    "\n",
    "# just a little tweak to center the plots, nothing to worry about\n",
    "from IPython.core.display import HTML\n",
    "HTML(\"\"\"\n",
    "<style>\n",
    ".img-center {\n",
    "    display: block;\n",
    "    margin-left: auto;\n",
    "    margin-right: auto;\n",
    "    }\n",
    ".output_png {\n",
    "    display: table-cell;\n",
    "    text-align: center;\n",
    "    vertical-align: middle;\n",
    "    }\n",
    "</style>\n",
    "\"\"\")\n",
    "\n",
    "rpy.set_seed(42)\n",
    "\n",
    "%time"
   ]
  },
  {
   "cell_type": "code",
   "execution_count": 13,
   "metadata": {},
   "outputs": [],
   "source": [
    "import numpy as np\n",
    "from scipy.integrate import solve_ivp\n",
    "import matplotlib.pyplot as plt\n",
    "\n",
    "# パラメータ\n",
    "n = 4\n",
    "vm = 0.505\n",
    "vd = 1.4\n",
    "ks = 0.5\n",
    "k1 = 0.5\n",
    "k2 = 0.6\n",
    "Km = 0.5\n",
    "Kd = 0.13\n",
    "KI = 1\n",
    "vs_min = 1.6\n",
    "\n",
    "# vs_max の値とそれに対応する A の計算\n",
    "vs_max_values = [1.6, 2.25, 3.1, 4.2]\n",
    "A_values = [(vs_max / vs_min) - 1 for vs_max in vs_max_values]\n",
    "\n",
    "# vs を時間 t に対する関数として計算する関数\n",
    "def vs_function(t, A):\n",
    "    return vs_min * (1 + A * np.sin(t))\n",
    "\n",
    "# 微分方程式\n",
    "def model(t, y, A):\n",
    "    M, FC, FN = y\n",
    "    vs = vs_function(t, A)  # vs の値を時間 t に応じて計算\n",
    "    dMdt = vs * (KI**n / (KI**n + FN**n)) - vm * (M / (Km + M))\n",
    "    dFCdt = ks * M - vd * (FC / (Kd + FC)) - k1 * FC + k2 * FN\n",
    "    dFNdt = k1 * FC - k2 * FN\n",
    "    return [dMdt, dFCdt, dFNdt]\n",
    "\n",
    "# 初期値と時間設定\n",
    "y0 = [0.5, 0.5, 0.5]\n",
    "t_span = [0, 2510]\n",
    "t_eval = np.linspace(t_span[0], t_span[1], 25100)\n",
    "\n",
    "# 最初の vs_max の値についてのみシミュレーションとプロット\n",
    "i = 2\n",
    "A = A_values[i]\n",
    "sol = solve_ivp(model, t_span, y0, t_eval=t_eval, args=(A,), max_step=0.01)"
   ]
  },
  {
   "cell_type": "code",
   "execution_count": 14,
   "metadata": {},
   "outputs": [],
   "source": [
    "# CSVファイルにデータを保存するためのDataFrameを作成\n",
    "vs_values = vs_function(sol.t, A)  # 外力Ap(t)としてvsを計算\n",
    "data_frame = pd.DataFrame({\n",
    "    'time': sol.t,\n",
    "    'M': sol.y[0],\n",
    "    'FC': sol.y[1],\n",
    "    'FN': sol.y[2],\n",
    "    'vs': vs_values  # 外力Ap(t)としての列\n",
    "})\n",
    "\n",
    "# CSVファイルにデータを保存\n",
    "filename = 'LD_cycle1.1.csv'\n",
    "data_frame.to_csv(filename, index=False)\n",
    "\n",
    "# CSVファイルを読み込む\n",
    "data_loaded = pd.read_csv(filename)\n",
    "\n",
    "# CSVから値を抽出してNumpy配列に格納\n",
    "X = data_loaded[['M', 'FC', 'vs']].values  "
   ]
  },
  {
   "cell_type": "code",
   "execution_count": 15,
   "metadata": {},
   "outputs": [
    {
     "data": {
      "text/plain": [
       "(25100, 3)"
      ]
     },
     "execution_count": 15,
     "metadata": {},
     "output_type": "execute_result"
    }
   ],
   "source": [
    "X.shape"
   ]
  },
  {
   "cell_type": "code",
   "execution_count": 16,
   "metadata": {},
   "outputs": [],
   "source": [
    "from hyperopt import hp, tpe, Trials, fmin"
   ]
  },
  {
   "cell_type": "code",
   "execution_count": 17,
   "metadata": {},
   "outputs": [],
   "source": [
    "# Objective functions accepted by ReservoirPy must respect some conventions:\n",
    "#  - dataset and config arguments are mandatory, like the empty '*' expression.\n",
    "#  - all parameters that will be used during the search must be placed after the *.\n",
    "#  - the function must return a dict with at least a 'loss' key containing the result\n",
    "# of the loss function. You can add any additional metrics or information with other \n",
    "# keys in the dict. See hyperopt documentation for more informations.\n",
    "def objective(dataset, config, *, iss, N, sr, lr, ridge, seed):\n",
    "    \n",
    "    # This step may vary depending on what you put inside 'dataset'\n",
    "    train_data, validation_data = dataset\n",
    "    X_train, y_train = train_data\n",
    "    X_val, y_val = validation_data\n",
    "    \n",
    "    # You can access anything you put in the config \n",
    "    # file from the 'config' parameter.\n",
    "    instances = config[\"instances_per_trial\"]\n",
    "    \n",
    "    # The seed should be changed across the instances, \n",
    "    # to be sure there is no bias in the results \n",
    "    # due to initialization.\n",
    "    variable_seed = seed \n",
    "    \n",
    "    losses = []; r2s = [];\n",
    "    for n in range(instances):\n",
    "        # Build your model given the input parameters\n",
    "        reservoir = Reservoir(N, \n",
    "                              sr=sr, \n",
    "                              lr=lr, \n",
    "                              input_scaling=iss, \n",
    "                              seed=variable_seed)\n",
    "        \n",
    "        readout = Ridge(ridge=ridge)\n",
    "\n",
    "        model = reservoir >> readout\n",
    "\n",
    "\n",
    "        # Train your model and test your model.\n",
    "        prediction = model.fit(X_train, y_train) \\\n",
    "                           .run(X_test)\n",
    "        \n",
    "        loss = nrmse(y_test, prediction, norm_value=np.ptp(X_train))\n",
    "        r2 = rsquare(y_test, prediction)\n",
    "        \n",
    "        # Change the seed between instances\n",
    "        variable_seed += 1\n",
    "        \n",
    "        losses.append(loss)\n",
    "        r2s.append(r2)\n",
    "\n",
    "    # Return a dictionnary of metrics. The 'loss' key is mandatory when\n",
    "    # using hyperopt.\n",
    "    return {'loss': np.mean(losses),\n",
    "            'r2': np.mean(r2s)}"
   ]
  },
  {
   "cell_type": "code",
   "execution_count": 18,
   "metadata": {},
   "outputs": [],
   "source": [
    "hyperopt_config = {\n",
    "    \"exp\": f\"hyperopt-LD_cycle1.1\", # the experimentation name\n",
    "    \"hp_max_evals\": 300,             # the number of differents sets of parameters hyperopt has to try\n",
    "    \"hp_method\": \"tpe\",           # the method used by hyperopt to chose those sets (see below)\n",
    "    \"seed\": 42,                      # the random state seed, to ensure reproducibility\n",
    "    \"instances_per_trial\": 3,        # how many random ESN will be tried with each sets of parameters\n",
    "    \"hp_space\": {                    # what are the ranges of parameters explored\n",
    "        \"N\": [\"choice\", 500],             # the number of neurons is fixed to 500\n",
    "        \"sr\": [\"loguniform\", 1e-2, 10],   # the spectral radius is log-uniformly distributed between 1e-2 and 10\n",
    "        \"lr\": [\"loguniform\", 1e-3, 1],  # idem with the leaking rate, from 1e-3 to 1\n",
    "        \"iss\": [\"uniform\", 0, 1],           # the input scaling uniformly distributed between 0 and 1\n",
    "        \"ridge\": [\"loguniform\", 1e-9, 1e-2],        # and so is the regularization parameter.\n",
    "        \"seed\": [\"choice\", 5555]          # an other random seed for the ESN initialization\n",
    "    }\n",
    "}\n",
    "\n",
    "\n",
    "import json\n",
    "\n",
    "# we precautionously save the configuration in a JSON file\n",
    "# each file will begin with a number corresponding to the current experimentation run number.\n",
    "with open(f\"{hyperopt_config['exp']}.config.json\", \"w+\") as f:\n",
    "    json.dump(hyperopt_config, f)\n"
   ]
  },
  {
   "cell_type": "code",
   "execution_count": 19,
   "metadata": {},
   "outputs": [],
   "source": [
    "from reservoirpy.datasets import to_forecasting\n",
    "\n",
    "train_len = 10000\n",
    "test_len = 10000\n",
    "\n",
    "x, y = to_forecasting(X, forecast=1)\n",
    "X_train, y_train = x[:train_len], y[:train_len]\n",
    "X_test, y_test = x[train_len:train_len+test_len], y[train_len:train_len+test_len]\n",
    "\n",
    "dataset = ((X_train, y_train), (X_test, y_test))"
   ]
  },
  {
   "cell_type": "code",
   "execution_count": 20,
   "metadata": {},
   "outputs": [
    {
     "name": "stdout",
     "output_type": "stream",
     "text": [
      "  8%|▊         | 25/300 [01:57<21:39,  4.72s/trial, best loss: 8.208373576580987e-05] "
     ]
    },
    {
     "name": "stderr",
     "output_type": "stream",
     "text": [
      "/Users/manqueenmannequin/miniforge3/envs/python38gen2/lib/python3.8/site-packages/reservoirpy/nodes/readouts/ridge.py:17: LinAlgWarning: Ill-conditioned matrix (rcond=8.67402e-17): result may not be accurate.\n",
      "  return linalg.solve(XXT + ridge, YXT.T, assume_a=\"sym\")\n",
      "\n",
      "/Users/manqueenmannequin/miniforge3/envs/python38gen2/lib/python3.8/site-packages/reservoirpy/nodes/readouts/ridge.py:17: LinAlgWarning: Ill-conditioned matrix (rcond=8.64729e-17): result may not be accurate.\n",
      "  return linalg.solve(XXT + ridge, YXT.T, assume_a=\"sym\")\n",
      "\n",
      "/Users/manqueenmannequin/miniforge3/envs/python38gen2/lib/python3.8/site-packages/reservoirpy/nodes/readouts/ridge.py:17: LinAlgWarning: Ill-conditioned matrix (rcond=8.65963e-17): result may not be accurate.\n",
      "  return linalg.solve(XXT + ridge, YXT.T, assume_a=\"sym\")\n",
      "\n"
     ]
    },
    {
     "name": "stdout",
     "output_type": "stream",
     "text": [
      "  9%|▉         | 27/300 [02:07<21:33,  4.74s/trial, best loss: 5.694398791668125e-05]"
     ]
    },
    {
     "name": "stderr",
     "output_type": "stream",
     "text": [
      "/Users/manqueenmannequin/miniforge3/envs/python38gen2/lib/python3.8/site-packages/reservoirpy/nodes/readouts/ridge.py:17: LinAlgWarning: Ill-conditioned matrix (rcond=7.17636e-17): result may not be accurate.\n",
      "  return linalg.solve(XXT + ridge, YXT.T, assume_a=\"sym\")\n",
      "\n",
      "/Users/manqueenmannequin/miniforge3/envs/python38gen2/lib/python3.8/site-packages/reservoirpy/nodes/readouts/ridge.py:17: LinAlgWarning: Ill-conditioned matrix (rcond=9.8147e-17): result may not be accurate.\n",
      "  return linalg.solve(XXT + ridge, YXT.T, assume_a=\"sym\")\n",
      "\n",
      "/Users/manqueenmannequin/miniforge3/envs/python38gen2/lib/python3.8/site-packages/reservoirpy/nodes/readouts/ridge.py:17: LinAlgWarning: Ill-conditioned matrix (rcond=7.63794e-17): result may not be accurate.\n",
      "  return linalg.solve(XXT + ridge, YXT.T, assume_a=\"sym\")\n",
      "\n"
     ]
    },
    {
     "name": "stdout",
     "output_type": "stream",
     "text": [
      " 11%|█▏        | 34/300 [02:41<21:38,  4.88s/trial, best loss: 5.694398791668125e-05]"
     ]
    },
    {
     "name": "stderr",
     "output_type": "stream",
     "text": [
      "/Users/manqueenmannequin/miniforge3/envs/python38gen2/lib/python3.8/site-packages/reservoirpy/nodes/readouts/ridge.py:17: LinAlgWarning: Ill-conditioned matrix (rcond=9.47989e-17): result may not be accurate.\n",
      "  return linalg.solve(XXT + ridge, YXT.T, assume_a=\"sym\")\n",
      "\n",
      "/Users/manqueenmannequin/miniforge3/envs/python38gen2/lib/python3.8/site-packages/reservoirpy/nodes/readouts/ridge.py:17: LinAlgWarning: Ill-conditioned matrix (rcond=9.11872e-17): result may not be accurate.\n",
      "  return linalg.solve(XXT + ridge, YXT.T, assume_a=\"sym\")\n",
      "\n",
      "/Users/manqueenmannequin/miniforge3/envs/python38gen2/lib/python3.8/site-packages/reservoirpy/nodes/readouts/ridge.py:17: LinAlgWarning: Ill-conditioned matrix (rcond=1.0283e-16): result may not be accurate.\n",
      "  return linalg.solve(XXT + ridge, YXT.T, assume_a=\"sym\")\n",
      "\n"
     ]
    },
    {
     "name": "stdout",
     "output_type": "stream",
     "text": [
      " 54%|█████▍    | 162/300 [12:29<10:32,  4.59s/trial, best loss: 6.0351490322762285e-06]"
     ]
    },
    {
     "name": "stderr",
     "output_type": "stream",
     "text": [
      "/Users/manqueenmannequin/miniforge3/envs/python38gen2/lib/python3.8/site-packages/reservoirpy/nodes/readouts/ridge.py:17: LinAlgWarning: Ill-conditioned matrix (rcond=9.8264e-17): result may not be accurate.\n",
      "  return linalg.solve(XXT + ridge, YXT.T, assume_a=\"sym\")\n",
      "\n",
      "/Users/manqueenmannequin/miniforge3/envs/python38gen2/lib/python3.8/site-packages/reservoirpy/nodes/readouts/ridge.py:17: LinAlgWarning: Ill-conditioned matrix (rcond=1.0319e-16): result may not be accurate.\n",
      "  return linalg.solve(XXT + ridge, YXT.T, assume_a=\"sym\")\n",
      "\n",
      "/Users/manqueenmannequin/miniforge3/envs/python38gen2/lib/python3.8/site-packages/reservoirpy/nodes/readouts/ridge.py:17: LinAlgWarning: Ill-conditioned matrix (rcond=9.98603e-17): result may not be accurate.\n",
      "  return linalg.solve(XXT + ridge, YXT.T, assume_a=\"sym\")\n",
      "\n"
     ]
    },
    {
     "name": "stdout",
     "output_type": "stream",
     "text": [
      " 85%|████████▌ | 256/300 [19:49<03:26,  4.69s/trial, best loss: 2.764928973212182e-06] "
     ]
    },
    {
     "name": "stderr",
     "output_type": "stream",
     "text": [
      "/Users/manqueenmannequin/miniforge3/envs/python38gen2/lib/python3.8/site-packages/reservoirpy/nodes/readouts/ridge.py:17: LinAlgWarning: Ill-conditioned matrix (rcond=1.03728e-16): result may not be accurate.\n",
      "  return linalg.solve(XXT + ridge, YXT.T, assume_a=\"sym\")\n",
      "\n",
      "/Users/manqueenmannequin/miniforge3/envs/python38gen2/lib/python3.8/site-packages/reservoirpy/nodes/readouts/ridge.py:17: LinAlgWarning: Ill-conditioned matrix (rcond=9.09749e-17): result may not be accurate.\n",
      "  return linalg.solve(XXT + ridge, YXT.T, assume_a=\"sym\")\n",
      "\n"
     ]
    },
    {
     "name": "stdout",
     "output_type": "stream",
     "text": [
      " 86%|████████▌ | 257/300 [19:53<03:20,  4.66s/trial, best loss: 2.764928973212182e-06]"
     ]
    },
    {
     "name": "stderr",
     "output_type": "stream",
     "text": [
      "/Users/manqueenmannequin/miniforge3/envs/python38gen2/lib/python3.8/site-packages/reservoirpy/nodes/readouts/ridge.py:17: LinAlgWarning: Ill-conditioned matrix (rcond=9.69913e-17): result may not be accurate.\n",
      "  return linalg.solve(XXT + ridge, YXT.T, assume_a=\"sym\")\n",
      "\n",
      "/Users/manqueenmannequin/miniforge3/envs/python38gen2/lib/python3.8/site-packages/reservoirpy/nodes/readouts/ridge.py:17: LinAlgWarning: Ill-conditioned matrix (rcond=9.32761e-17): result may not be accurate.\n",
      "  return linalg.solve(XXT + ridge, YXT.T, assume_a=\"sym\")\n",
      "\n"
     ]
    },
    {
     "name": "stdout",
     "output_type": "stream",
     "text": [
      " 96%|█████████▋| 289/300 [22:21<00:50,  4.61s/trial, best loss: 1.0529237911892798e-06]"
     ]
    },
    {
     "name": "stderr",
     "output_type": "stream",
     "text": [
      "/Users/manqueenmannequin/miniforge3/envs/python38gen2/lib/python3.8/site-packages/reservoirpy/nodes/readouts/ridge.py:17: LinAlgWarning: Ill-conditioned matrix (rcond=1.01868e-16): result may not be accurate.\n",
      "  return linalg.solve(XXT + ridge, YXT.T, assume_a=\"sym\")\n",
      "\n"
     ]
    },
    {
     "name": "stdout",
     "output_type": "stream",
     "text": [
      "100%|██████████| 300/300 [23:12<00:00,  4.64s/trial, best loss: 1.0529237911892798e-06]\n"
     ]
    }
   ],
   "source": [
    "from reservoirpy.hyper import research\n",
    "\n",
    "best = research(objective, dataset, f\"{hyperopt_config['exp']}.config.json\", \".\")"
   ]
  },
  {
   "cell_type": "code",
   "execution_count": 21,
   "metadata": {},
   "outputs": [
    {
     "data": {
      "text/plain": [
       "({'N': 0,\n",
       "  'iss': 0.08953586004134119,\n",
       "  'lr': 0.9765528770413411,\n",
       "  'ridge': 4.665293050641528e-09,\n",
       "  'seed': 0,\n",
       "  'sr': 0.6321052521221111},\n",
       " <hyperopt.base.Trials at 0x107c83c40>)"
      ]
     },
     "execution_count": 21,
     "metadata": {},
     "output_type": "execute_result"
    }
   ],
   "source": [
    "best"
   ]
  },
  {
   "cell_type": "code",
   "execution_count": 22,
   "metadata": {},
   "outputs": [],
   "source": [
    "# `best`タプルの最初の要素には最適化されたハイパーパラメータが直接含まれています\n",
    "best_params = best[0]\n",
    "\n",
    "# numpy int64型をPythonのint型に変換するための関数\n",
    "def convert(o):\n",
    "    if isinstance(o, np.int64): return int(o)\n",
    "    raise TypeError\n",
    "\n",
    "# 最適なハイパーパラメータをJSONファイルに保存\n",
    "with open(f\"{hyperopt_config['exp']}_best_params.json\", 'w') as f:\n",
    "    json.dump(best_params, f, default=convert)"
   ]
  }
 ],
 "metadata": {
  "kernelspec": {
   "display_name": "python38gen2",
   "language": "python",
   "name": "python3"
  },
  "language_info": {
   "codemirror_mode": {
    "name": "ipython",
    "version": 3
   },
   "file_extension": ".py",
   "mimetype": "text/x-python",
   "name": "python",
   "nbconvert_exporter": "python",
   "pygments_lexer": "ipython3",
   "version": "3.8.17"
  }
 },
 "nbformat": 4,
 "nbformat_minor": 2
}
