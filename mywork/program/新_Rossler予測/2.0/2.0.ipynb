{
 "cells": [
  {
   "cell_type": "markdown",
   "metadata": {},
   "source": [
    "# レスラー方程式：外力のある場合\n",
    "\n",
    "外力のない場合のレスラー方程式について，hyperoptを用いてesn_chaos_prediction関数（generative modelの関数）を用いたところ，期待通りの結果を得た．\n",
    "そこで，外力のある場合のレスラー方程式に対して同様に未来を予測してみたが，esn_chaos_prediction関数の結果は想定より予測の期間が短く，またグラフを見たところそもそもESNが正しく学習できていないようであった．おそらく，hyperoptを用いた最適化に失敗しているようである．\n",
    "\n",
    "そこでここではハイパーオプトを使って正しく最適化をできている状態を目指す。以下の具体案を試す．\n",
    "\n",
    "1. 目的関数を工夫する：実際に予測するのはX, Yのみなので，最適化の目的関数もZを除いたX, Y, P(t)（外力）に対する誤差を考える．"
   ]
  },
  {
   "cell_type": "code",
   "execution_count": null,
   "metadata": {},
   "outputs": [],
   "source": []
  }
 ],
 "metadata": {
  "language_info": {
   "name": "python"
  }
 },
 "nbformat": 4,
 "nbformat_minor": 2
}
