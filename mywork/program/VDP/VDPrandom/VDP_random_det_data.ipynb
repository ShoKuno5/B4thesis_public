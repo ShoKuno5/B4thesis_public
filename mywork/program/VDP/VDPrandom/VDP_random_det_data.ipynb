{
 "cells": [
  {
   "cell_type": "markdown",
   "metadata": {},
   "source": [
    "# レスラー方程式(ランダムなシフト付きsin外力のある状態)\n",
    "\n",
    "レスラー方程式の外力のある場合に関して，$\\sin$ 波に位相のランダムなシフトがある場合を考える．"
   ]
  },
  {
   "cell_type": "code",
   "execution_count": 21,
   "metadata": {},
   "outputs": [
    {
     "name": "stdout",
     "output_type": "stream",
     "text": [
      "CPU times: user 1e+03 ns, sys: 1 µs, total: 2 µs\n",
      "Wall time: 3.1 µs\n"
     ]
    }
   ],
   "source": [
    "#必要なパッケージのインポート\n",
    "\n",
    "import numpy as np\n",
    "\n",
    "import matplotlib\n",
    "import matplotlib.pyplot as plt\n",
    "\n",
    "import reservoirpy as rpy\n",
    "\n",
    "from scipy.integrate import solve_ivp\n",
    "import pandas as pd\n",
    "from reservoirpy.observables import nrmse, rsquare\n",
    "\n",
    "import matplotlib.pyplot as plt\n",
    "from mpl_toolkits.mplot3d import Axes3D\n",
    "\n",
    "import os\n",
    "\n",
    "rpy.verbosity(0)\n",
    "\n",
    "from reservoirpy.nodes import Reservoir, Ridge\n",
    "from reservoirpy.datasets import mackey_glass\n",
    "\n",
    "# just a little tweak to center the plots, nothing to worry about\n",
    "from IPython.core.display import HTML\n",
    "HTML(\"\"\"\n",
    "<style>\n",
    ".img-center {\n",
    "    display: block;\n",
    "    margin-left: auto;\n",
    "    margin-right: auto;\n",
    "    }\n",
    ".output_png {\n",
    "    display: table-cell;\n",
    "    text-align: center;\n",
    "    vertical-align: middle;\n",
    "    }\n",
    "</style>\n",
    "\"\"\")\n",
    "\n",
    "rpy.set_seed(42)\n",
    "\n",
    "%time\n"
   ]
  },
  {
   "cell_type": "code",
   "execution_count": 22,
   "metadata": {},
   "outputs": [],
   "source": [
    "def phase_shift(t, shift_hour):\n",
    "    # 2πは1日に対応します。8時間は(8/24)*2πに対応します。\n",
    "    shift_value = (shift_hour/24)*2*np.pi\n",
    "    # 4日ごとに位相をシフトします。\n",
    "    number_of_shifts = int(t / (4*2*np.pi))\n",
    "    return number_of_shifts * shift_value\n"
   ]
  },
  {
   "cell_type": "code",
   "execution_count": 23,
   "metadata": {},
   "outputs": [],
   "source": [
    "# 位相のシフトする時間を定める．\n",
    "shift_hours = range(-12, 13)\n"
   ]
  },
  {
   "cell_type": "code",
   "execution_count": 24,
   "metadata": {},
   "outputs": [],
   "source": [
    "import numpy as np\n",
    "from scipy.integrate import solve_ivp\n",
    "import matplotlib.pyplot as plt\n",
    "\n",
    "def coupled_system(t, state, mu, sigma, rho, beta, A, shift_hour):\n",
    "    X, Y= state\n",
    "\n",
    "    dXdt = Y\n",
    "    dYdt = mu * (1 - X**2) * Y - X +  A * np.sin(t + phase_shift(t, shift_hour)) \n",
    "    \n",
    "    return [dXdt, dYdt]\n"
   ]
  },
  {
   "cell_type": "code",
   "execution_count": 25,
   "metadata": {},
   "outputs": [],
   "source": [
    "\n",
    "mu = 5.0\n",
    "sigma = -0.1\n",
    "rho = 28.0\n",
    "beta = 8/3\n",
    "A = 5.0\n",
    "initial_state = [1.0, 0.0]  # Initial states for [X, Y, x_lorenz, y_lorenz, z_lorenz]\n",
    "\n",
    "# 時間の設定\n",
    "t_span = [0, 10000]  # 開始時刻と終了時刻\n",
    "t_eval = np.linspace(t_span[0], t_span[1], 100000)  # 評価する時間点"
   ]
  },
  {
   "cell_type": "code",
   "execution_count": 26,
   "metadata": {},
   "outputs": [],
   "source": [
    "for shift_hour in shift_hours:\n",
    "    # 新しいディレクトリを作成\n",
    "    dir_name = f\"data_definite\"\n",
    "    os.makedirs(dir_name, exist_ok=True)\n",
    "    \n",
    "    sol = solve_ivp(coupled_system, t_span, initial_state, args=(mu, sigma, rho, beta, A, shift_hour), t_eval=t_eval, max_step = 0.01)\n",
    "\n",
    "    # 外力P(t)の計算（位相シフト付き）\n",
    "    P_shifted = A * np.sin(sol.t + np.array([phase_shift(ti, shift_hour) for ti in sol.t]))\n",
    "\n",
    "    # DataFrameの作成\n",
    "    data_frame_with_shifted_force = pd.DataFrame({\n",
    "        'time': sol.t,\n",
    "        'x': sol.y[0],\n",
    "        'y': sol.y[1],\n",
    "        'P_shifted': P_shifted# 位相シフトされた外力P(t)の列を追加\n",
    "    })\n",
    "\n",
    "    filename_with_force = f\"{dir_name}/VDP_{shift_hour}.csv\"\n",
    "\n",
    "    # CSVファイルにデータを保存\n",
    "    data_frame_with_shifted_force.to_csv(filename_with_force, index=False)"
   ]
  }
 ],
 "metadata": {
  "kernelspec": {
   "display_name": "python38gen2",
   "language": "python",
   "name": "python3"
  },
  "language_info": {
   "codemirror_mode": {
    "name": "ipython",
    "version": 3
   },
   "file_extension": ".py",
   "mimetype": "text/x-python",
   "name": "python",
   "nbconvert_exporter": "python",
   "pygments_lexer": "ipython3",
   "version": "3.8.17"
  }
 },
 "nbformat": 4,
 "nbformat_minor": 2
}
