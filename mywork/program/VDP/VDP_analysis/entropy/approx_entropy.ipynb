{
 "cells": [
  {
   "cell_type": "code",
   "execution_count": 69,
   "metadata": {},
   "outputs": [
    {
     "name": "stdout",
     "output_type": "stream",
     "text": [
      "CPU times: user 1 µs, sys: 0 ns, total: 1 µs\n",
      "Wall time: 2.86 µs\n"
     ]
    }
   ],
   "source": [
    "#必要なパッケージのインポート\n",
    "\n",
    "import numpy as np\n",
    "\n",
    "import matplotlib\n",
    "import matplotlib.pyplot as plt\n",
    "\n",
    "import reservoirpy as rpy\n",
    "\n",
    "from scipy.integrate import solve_ivp\n",
    "import pandas as pd\n",
    "from reservoirpy.observables import nrmse, rsquare\n",
    "\n",
    "import matplotlib.pyplot as plt\n",
    "from mpl_toolkits.mplot3d import Axes3D\n",
    "\n",
    "import os\n",
    "\n",
    "rpy.verbosity(0)\n",
    "\n",
    "from reservoirpy.nodes import Reservoir, Ridge\n",
    "from reservoirpy.datasets import mackey_glass\n",
    "\n",
    "# just a little tweak to center the plots, nothing to worry about\n",
    "from IPython.core.display import HTML\n",
    "HTML(\"\"\"\n",
    "<style>\n",
    ".img-center {\n",
    "    display: block;\n",
    "    margin-left: auto;\n",
    "    margin-right: auto;\n",
    "    }\n",
    ".output_png {\n",
    "    display: table-cell;\n",
    "    text-align: center;\n",
    "    vertical-align: middle;\n",
    "    }\n",
    "</style>\n",
    "\"\"\")\n",
    "\n",
    "rpy.set_seed(42)\n",
    "\n",
    "%time\n"
   ]
  },
  {
   "cell_type": "code",
   "execution_count": 70,
   "metadata": {},
   "outputs": [
    {
     "name": "stdout",
     "output_type": "stream",
     "text": [
      "(1000, 3)\n"
     ]
    }
   ],
   "source": [
    "import numpy as np\n",
    "import pandas as pd\n",
    "\n",
    "# CSVファイルにデータを保存\n",
    "filename_with_force = f'/Users/manqueenmannequin/mygit/B4thesis_public/mywork/program/VDP/VDP_analysis/generate_data/data/VDP_-7.csv'\n",
    "\n",
    "# CSVファイルを読み込む\n",
    "data_loaded_with_force = pd.read_csv(filename_with_force)\n",
    "\n",
    "# CSVから値を抽出してNumpy配列に格納\n",
    "X = data_loaded_with_force[['x', 'y', 'P_shifted']].values\n",
    "\n",
    "time_series = X[:1000]\n",
    "print(time_series.shape)\n"
   ]
  },
  {
   "cell_type": "code",
   "execution_count": 71,
   "metadata": {},
   "outputs": [],
   "source": [
    "m = 2\n",
    "tau = 1\n",
    "R = 0.5"
   ]
  },
  {
   "cell_type": "code",
   "execution_count": 72,
   "metadata": {},
   "outputs": [],
   "source": [
    "def delay_reconstruction_multi(time_series, m, tau):\n",
    "    N = len(time_series)\n",
    "    Y = np.array([time_series[i:i + m * tau:tau] for i in range(N - (m - 1) * tau)])\n",
    "    return N, Y.reshape(-1, m * time_series.shape[1])"
   ]
  },
  {
   "cell_type": "code",
   "execution_count": 73,
   "metadata": {},
   "outputs": [],
   "source": [
    "def count_similar_points(Y, R):\n",
    "    N = len(Y)\n",
    "    Ni = np.zeros(N)\n",
    "\n",
    "    for i in range(N):\n",
    "        distances = np.linalg.norm(Y - Y[i], ord=np.inf, axis=1)\n",
    "        Ni[i] = np.sum(distances < R) - 1  # 自分自身を除く\n",
    "    \n",
    "    return Ni"
   ]
  },
  {
   "cell_type": "code",
   "execution_count": 74,
   "metadata": {},
   "outputs": [],
   "source": [
    "def compute_phi(Ni, N, m):\n",
    "    return np.mean(np.log(Ni[Ni > 0])) / (N - m + 1)"
   ]
  },
  {
   "cell_type": "code",
   "execution_count": 75,
   "metadata": {},
   "outputs": [],
   "source": [
    "def approximate_entropy(time_series, m, tau, R):\n",
    "    N, Y = delay_reconstruction_multi(time_series, m, tau)\n",
    "    Ni_m = count_similar_points(Y, R)\n",
    "    phi_m = compute_phi(Ni_m, N, m)\n",
    "\n",
    "    N, Y = delay_reconstruction_multi(time_series, m + 1, tau)\n",
    "    Ni_m1 = count_similar_points(Y, R)\n",
    "    phi_m1 = compute_phi(Ni_m1, N, m + 1)\n",
    "\n",
    "    return phi_m - phi_m1\n"
   ]
  },
  {
   "cell_type": "code",
   "execution_count": 76,
   "metadata": {},
   "outputs": [
    {
     "data": {
      "text/plain": [
       "4.493005862714339e-05"
      ]
     },
     "execution_count": 76,
     "metadata": {},
     "output_type": "execute_result"
    }
   ],
   "source": [
    "approximate_entropy(time_series, m, tau, R)"
   ]
  }
 ],
 "metadata": {
  "kernelspec": {
   "display_name": "python38gen2",
   "language": "python",
   "name": "python3"
  },
  "language_info": {
   "codemirror_mode": {
    "name": "ipython",
    "version": 3
   },
   "file_extension": ".py",
   "mimetype": "text/x-python",
   "name": "python",
   "nbconvert_exporter": "python",
   "pygments_lexer": "ipython3",
   "version": "3.8.17"
  }
 },
 "nbformat": 4,
 "nbformat_minor": 2
}
