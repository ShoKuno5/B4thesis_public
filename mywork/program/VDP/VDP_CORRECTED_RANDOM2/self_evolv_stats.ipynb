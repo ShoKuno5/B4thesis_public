{
 "cells": [
  {
   "cell_type": "markdown",
   "metadata": {},
   "source": [
    "#### 各パッケージのインストール，データ，hyperparametersの読み込み"
   ]
  },
  {
   "cell_type": "code",
   "execution_count": 1,
   "metadata": {},
   "outputs": [
    {
     "name": "stderr",
     "output_type": "stream",
     "text": [
      "<frozen importlib._bootstrap>:219: RuntimeWarning: scipy._lib.messagestream.MessageStream size changed, may indicate binary incompatibility. Expected 56 from C header, got 64 from PyObject\n"
     ]
    },
    {
     "name": "stdout",
     "output_type": "stream",
     "text": [
      "CPU times: user 1e+03 ns, sys: 0 ns, total: 1e+03 ns\n",
      "Wall time: 3.1 µs\n"
     ]
    }
   ],
   "source": [
    "\n",
    "#必要なパッケージのインポート\n",
    "\n",
    "import numpy as np\n",
    "\n",
    "import matplotlib\n",
    "import matplotlib.pyplot as plt\n",
    "\n",
    "import reservoirpy as rpy\n",
    "\n",
    "from scipy.integrate import solve_ivp\n",
    "import pandas as pd\n",
    "from reservoirpy.observables import nrmse, rsquare\n",
    "\n",
    "import matplotlib.pyplot as plt\n",
    "from mpl_toolkits.mplot3d import Axes3D\n",
    "\n",
    "from reservoirpy.datasets import to_forecasting\n",
    "\n",
    "rpy.verbosity(0)\n",
    "\n",
    "import os\n",
    "\n",
    "from reservoirpy.nodes import Reservoir, Ridge\n",
    "from reservoirpy.datasets import mackey_glass\n",
    "\n",
    "import joblib\n",
    "\n",
    "\n",
    "# just a little tweak to center the plots, nothing to worry about\n",
    "from IPython.core.display import HTML\n",
    "HTML(\"\"\"\n",
    "<style>\n",
    ".img-center {\n",
    "    display: block;\n",
    "    margin-left: auto;\n",
    "    margin-right: auto;\n",
    "    }\n",
    ".output_png {\n",
    "    display: table-cell;\n",
    "    text-align: center;\n",
    "    vertical-align: middle;\n",
    "    }\n",
    "</style>\n",
    "\"\"\")\n",
    "\n",
    "rpy.set_seed(42)\n",
    "\n",
    "%time\n"
   ]
  },
  {
   "cell_type": "markdown",
   "metadata": {},
   "source": [
    "### 7. Generative Modelのうち，外力のデータのみ実データで更新し続ける．\n",
    "\n",
    "期待としては，X, Yの精度も上がるということである．"
   ]
  },
  {
   "cell_type": "code",
   "execution_count": 2,
   "metadata": {},
   "outputs": [],
   "source": [
    "def plot_generation(X_gen, X_t, nb_generations, warming_out=None, warming_inputs=None, seed_timesteps=0):\n",
    "    plt.figure(figsize=(15, 5))\n",
    "    if warming_out is not None:\n",
    "        plt.plot(np.vstack([warming_out, X_gen]), label=\"Generated timeseries\")\n",
    "    else:\n",
    "        plt.plot(X_gen, label=\"Generated timeseries\")\n",
    "\n",
    "    plt.plot(np.arange(nb_generations) + seed_timesteps, X_t, linestyle=\"--\", label=\"Real timeseries\")\n",
    "\n",
    "    # `warming_inputs`のサイズを検証して調整します。\n",
    "    if warming_inputs is not None and len(warming_inputs) > seed_timesteps:\n",
    "        # `seed_timesteps`に合わせてサイズを調整\n",
    "        warming_inputs = warming_inputs[:seed_timesteps]\n",
    "        plt.plot(warming_inputs, linestyle=\"--\", label=\"Warmup\")\n",
    "\n",
    "    plt.plot(np.arange(nb_generations) + seed_timesteps, np.abs(X_t - X_gen), label=\"Absolute deviation\")\n",
    "\n",
    "    if seed_timesteps > 0:\n",
    "        plt.fill_between([0, seed_timesteps], *plt.ylim(), facecolor='lightgray', alpha=0.5, label=\"Warmup period\")\n",
    "\n",
    "    plt.legend()\n",
    "    plt.show()\n"
   ]
  },
  {
   "cell_type": "code",
   "execution_count": 3,
   "metadata": {},
   "outputs": [],
   "source": [
    "N = 10000\n",
    "iss = 0.08827385538440446\n",
    "lr = 0.33989147591891816\n",
    "ridge =  1.30084237042553e-08\n",
    "seed = 3\n",
    "sr = 0.568437354122632\n",
    "forecast = 1"
   ]
  },
  {
   "cell_type": "code",
   "execution_count": 4,
   "metadata": {},
   "outputs": [],
   "source": [
    "def reset_esn():\n",
    "    from reservoirpy.nodes import Reservoir, Ridge\n",
    "\n",
    "    reservoir = Reservoir(N, \n",
    "                      sr=sr, \n",
    "                      lr=lr, \n",
    "                      input_scaling=iss, \n",
    "                      seed=seed)\n",
    "    readout = Ridge(ridge=ridge)\n",
    "\n",
    "    return reservoir >> readout\n"
   ]
  },
  {
   "cell_type": "code",
   "execution_count": 5,
   "metadata": {},
   "outputs": [],
   "source": [
    "# 時系列データの比較を行う関数\n",
    "def compare_timeseries_multidimensional(X_gen, X_t):\n",
    "    num_dimensions = X_gen.shape[1]  # 次元数を取得\n",
    "    for dim in range(num_dimensions):\n",
    "        plt.figure(figsize=(15, 5))\n",
    "        plt.plot(X_gen[:, dim][:1000], label=\"Generated timeseries\", linewidth=2)\n",
    "        plt.plot(X_t[:, dim][:1000], label=\"Real timeseries\", linewidth=2)\n",
    "        plt.plot(np.abs(X_t[:, dim][:1000] - X_gen[:, dim][:1000]), label=\"Absolute deviation\", linestyle='--')\n",
    "        plt.plot(nrmse(X_gen[:, dim][:1000], X_t[:, dim][:1000]), label=f\"nrmse:{nrmse(X_gen[:, dim][:1000], X_t[:, dim][:1000])}\", linewidth=2)\n",
    "        plt.plot(rsquare(X_gen[:, dim][:1000], X_t[:, dim][:1000]), label=f\"rsquare:{rsquare(X_gen[:, dim][:1000], X_t[:, dim][:1000])}\", linewidth=2)\n",
    "\n",
    "        plt.title(f'Comparison of Generated and Real Timeseries (Dimension {dim+1})')\n",
    "        plt.xlabel('Time Steps')\n",
    "        plt.ylabel('Values')\n",
    "        plt.legend()        \n",
    "        plt.show()"
   ]
  },
  {
   "cell_type": "markdown",
   "metadata": {},
   "source": [
    "3~4周期先までの予測．"
   ]
  },
  {
   "cell_type": "markdown",
   "metadata": {},
   "source": [
    "### 外力の形が異なるものに対して予測が可能なのかを調べよう"
   ]
  },
  {
   "cell_type": "code",
   "execution_count": 6,
   "metadata": {},
   "outputs": [],
   "source": [
    "dir_name_1 = f\"SE_result\"\n",
    "os.makedirs(dir_name_1, exist_ok=True)\n",
    "\n",
    "dir_name_2 = f\"SE_val\"\n",
    "os.makedirs(dir_name_2, exist_ok=True)"
   ]
  },
  {
   "cell_type": "code",
   "execution_count": 7,
   "metadata": {},
   "outputs": [],
   "source": [
    "for i in range(-12, 13):\n",
    "# CSVファイルにデータを保存\n",
    "    filename_with_force = f\"data_def/VDP_{i}.csv\"\n",
    "\n",
    "    # CSVファイルを読み込む\n",
    "    data_loaded_with_force = pd.read_csv(filename_with_force)\n",
    "\n",
    "    # CSVから値を抽出してNumpy配列に格納\n",
    "    X = data_loaded_with_force[['x', 'y', 'P_shifted']].values\n",
    "\n",
    "    X.shape\n",
    "\n",
    "    n,m = X.shape\n",
    "\n",
    "    N = 10000\n",
    "    iss = 0.5768591838727728\n",
    "    lr = 0.4304317721067772\n",
    "    ridge = 0.00041298826582042474\n",
    "    seed = 3\n",
    "    sr = 0.866615511675912\n",
    "    forecast = 1\n",
    "\n",
    "    train_len = 40000\n",
    "    start_time = 0\n",
    "    test_length = 20000\n",
    "    nb_generations = 10000\n",
    "\n",
    "    seed_timesteps = test_length \n",
    "\n",
    "    nb_generations = len(X) - (train_len + test_length)\n",
    "\n",
    "    seed_timesteps = test_length \n",
    "\n",
    "    esn = reset_esn()\n",
    "\n",
    "    X_train = X[start_time:start_time+train_len]\n",
    "    y_train = X[start_time+1 :start_time+train_len + 1]\n",
    "\n",
    "    X_test = X[start_time+train_len : start_time+train_len + seed_timesteps]\n",
    "    y_test = X[start_time+train_len + 1: start_time+train_len + seed_timesteps + 1]\n",
    "\n",
    "    X_evolve = X[start_time+train_len + seed_timesteps:]\n",
    "\n",
    "    esn = esn.fit(X_train, y_train)\n",
    "\n",
    "    warming_inputs = X_test\n",
    "\n",
    "    warming_out = esn.run(warming_inputs, reset=True)  # warmup\n",
    "    #warming_outはX_test[seed_timesteps]を近似する．\n",
    "\n",
    "    X_gen = np.zeros((nb_generations, m))\n",
    "    y = warming_out[-1] \n",
    "    y = y.reshape(1, -1) \n",
    "\n",
    "    for t in range(nb_generations):  \n",
    "        y[:, 2:3] = X_evolve[t, 2:3] #外力にあたる[:, 2:3]に実測値を代入する．\n",
    "        y = esn(y) #ESNで1回=0.1ステップ先を予測する．\n",
    "        X_gen[t, :] = y #配列に記録していく\n",
    "                \n",
    "    X_t = X_evolve[: nb_generations]\n",
    "\n",
    "    import numpy as np\n",
    "\n",
    "    # X_genを適当なファイル名で保存する場合\n",
    "    file_name_1 = f\"{dir_name_1}/CmaEs_shift{i}.csv\"\n",
    "\n",
    "    # X_tをCSVファイルに書き出す\n",
    "    np.savetxt(file_name_1, X_t, delimiter=',')\n",
    "\n",
    "    # X_tを適当なファイル名で保存する場合\n",
    "    file_name_2 = f\"{dir_name_2}/CmaEs_shift{i}.csv\"\n",
    "\n",
    "    # X_tをCSVファイルに書き出す\n",
    "    np.savetxt(file_name_2, X_gen, delimiter=',')"
   ]
  }
 ],
 "metadata": {
  "kernelspec": {
   "display_name": "python38gen2",
   "language": "python",
   "name": "python3"
  },
  "language_info": {
   "codemirror_mode": {
    "name": "ipython",
    "version": 3
   },
   "file_extension": ".py",
   "mimetype": "text/x-python",
   "name": "python",
   "nbconvert_exporter": "python",
   "pygments_lexer": "ipython3",
   "version": "3.8.17"
  }
 },
 "nbformat": 4,
 "nbformat_minor": 2
}
