{
 "cells": [
  {
   "cell_type": "code",
   "execution_count": 1,
   "metadata": {},
   "outputs": [
    {
     "name": "stderr",
     "output_type": "stream",
     "text": [
      "<frozen importlib._bootstrap>:219: RuntimeWarning: scipy._lib.messagestream.MessageStream size changed, may indicate binary incompatibility. Expected 56 from C header, got 64 from PyObject\n"
     ]
    },
    {
     "name": "stdout",
     "output_type": "stream",
     "text": [
      "CPU times: user 0 ns, sys: 1 µs, total: 1 µs\n",
      "Wall time: 2.15 µs\n"
     ]
    }
   ],
   "source": [
    "#必要なパッケージのインポート\n",
    "\n",
    "import numpy as np\n",
    "\n",
    "import matplotlib\n",
    "import matplotlib.pyplot as plt\n",
    "\n",
    "import reservoirpy as rpy\n",
    "\n",
    "from scipy.integrate import solve_ivp\n",
    "import pandas as pd\n",
    "from reservoirpy.observables import nrmse, rsquare\n",
    "\n",
    "import matplotlib.pyplot as plt\n",
    "from mpl_toolkits.mplot3d import Axes3D\n",
    "\n",
    "import os\n",
    "\n",
    "rpy.verbosity(0)\n",
    "\n",
    "from reservoirpy.nodes import Reservoir, Ridge\n",
    "from reservoirpy.datasets import mackey_glass\n",
    "\n",
    "# just a little tweak to center the plots, nothing to worry about\n",
    "from IPython.core.display import HTML\n",
    "HTML(\"\"\"\n",
    "<style>\n",
    ".img-center {\n",
    "    display: block;\n",
    "    margin-left: auto;\n",
    "    margin-right: auto;\n",
    "    }\n",
    ".output_png {\n",
    "    display: table-cell;\n",
    "    text-align: center;\n",
    "    vertical-align: middle;\n",
    "    }\n",
    "</style>\n",
    "\"\"\")\n",
    "\n",
    "rpy.set_seed(42)\n",
    "\n",
    "%time\n"
   ]
  },
  {
   "cell_type": "code",
   "execution_count": 2,
   "metadata": {},
   "outputs": [],
   "source": [
    "def phase_shift(t, shift_hour):\n",
    "    # 2πは1日に対応します。8時間は(8/24)*2πに対応します。\n",
    "    shift_value = (shift_hour/24)*2*np.pi\n",
    "    # 4日ごとに位相をシフトします。\n",
    "    number_of_shifts = int(t / (4*2*np.pi))\n",
    "    return number_of_shifts * shift_value\n"
   ]
  },
  {
   "cell_type": "code",
   "execution_count": 3,
   "metadata": {},
   "outputs": [],
   "source": [
    "def rossler_system_with_shifted_force(t, state, a, b, c, A, shift_hour):\n",
    "    x, y, z = state\n",
    "    dxdt = -y - z + A * np.sin(t + phase_shift(t, shift_hour))  # X項に外力P(t)を加える（位相シフト付き）\n",
    "    dydt = x + a * y\n",
    "    dzdt = b + z * (x - c)\n",
    "    return [dxdt, dydt, dzdt]\n"
   ]
  },
  {
   "cell_type": "code",
   "execution_count": 4,
   "metadata": {},
   "outputs": [],
   "source": [
    "# 外力P(t)の振幅Aをパラメータとして追加します。\n",
    "A = 1.0  # 外力の振幅を設定します。この値を変更することで、外力の強さを変えられます。\n",
    "\n",
    "# パラメータ\n",
    "a = 0.2\n",
    "b = 0.2\n",
    "c = 5.7\n",
    "\n",
    "# 初期条件\n",
    "initial_state = [1.0, 1.0, 1.0]\n",
    "\n",
    "# 時間の設定\n",
    "t_span = [0, 10000]  # 開始時刻と終了時刻\n",
    "t_eval = np.linspace(t_span[0], t_span[1], 100000)  # 評価する時間点"
   ]
  },
  {
   "cell_type": "code",
   "execution_count": 5,
   "metadata": {},
   "outputs": [],
   "source": [
    "# 位相のシフトする時間を定める．\n",
    "shift_hours = range(-12, 13)\n"
   ]
  },
  {
   "cell_type": "code",
   "execution_count": 6,
   "metadata": {},
   "outputs": [],
   "source": [
    "for shift_hour in shift_hours:\n",
    "    # 新しいディレクトリを作成\n",
    "    dir_name = f\"data\"\n",
    "    os.makedirs(dir_name, exist_ok=True)\n",
    "    \n",
    "    # 微分方程式の数値解を求める\n",
    "    solution_with_shifted_force = solve_ivp(\n",
    "        rossler_system_with_shifted_force, t_span, initial_state,\n",
    "        args=(a, b, c, A, shift_hour), t_eval=t_eval, max_step=0.01\n",
    "    )\n",
    "\n",
    "    # 外力P(t)の計算（位相シフト付き）\n",
    "    P_shifted = A * np.sin(solution_with_shifted_force.t + np.array([phase_shift(ti, shift_hour) for ti in solution_with_shifted_force.t]))\n",
    "\n",
    "    # DataFrameの作成\n",
    "    data_frame_with_shifted_force = pd.DataFrame({\n",
    "        'time': solution_with_shifted_force.t,\n",
    "        'x': solution_with_shifted_force.y[0],\n",
    "        'y': solution_with_shifted_force.y[1],\n",
    "        'z': solution_with_shifted_force.y[2],\n",
    "        'P_shifted': P_shifted  # 位相シフトされた外力P(t)の列を追加\n",
    "    })\n",
    "\n",
    "    # CSVファイル名の設定\n",
    "    filename_with_force = f\"{dir_name}/rossler_data_with_shifted_force_{shift_hour}.csv\"\n",
    "\n",
    "    # CSVファイルにデータを保存\n",
    "    data_frame_with_shifted_force.to_csv(filename_with_force, index=False)\n"
   ]
  }
 ],
 "metadata": {
  "kernelspec": {
   "display_name": "python38gen2",
   "language": "python",
   "name": "python3"
  },
  "language_info": {
   "codemirror_mode": {
    "name": "ipython",
    "version": 3
   },
   "file_extension": ".py",
   "mimetype": "text/x-python",
   "name": "python",
   "nbconvert_exporter": "python",
   "pygments_lexer": "ipython3",
   "version": "3.8.17"
  }
 },
 "nbformat": 4,
 "nbformat_minor": 2
}
