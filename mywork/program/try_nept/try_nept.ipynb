{
 "cells": [
  {
   "cell_type": "code",
   "execution_count": 1,
   "metadata": {},
   "outputs": [],
   "source": [
    "import neptune\n",
    "import os\n"
   ]
  },
  {
   "cell_type": "code",
   "execution_count": 2,
   "metadata": {},
   "outputs": [],
   "source": [
    "api_token = os.getenv('NEPTUNE_API_TOKEN')\n"
   ]
  },
  {
   "cell_type": "code",
   "execution_count": 3,
   "metadata": {},
   "outputs": [
    {
     "name": "stdout",
     "output_type": "stream",
     "text": [
      "APIトークンが設定されていません。\n"
     ]
    }
   ],
   "source": [
    "if api_token is not None:\n",
    "    print(\"APIトークンは正しく設定されています。\")\n",
    "else:\n",
    "    print(\"APIトークンが設定されていません。\")\n"
   ]
  },
  {
   "cell_type": "code",
   "execution_count": 4,
   "metadata": {},
   "outputs": [
    {
     "name": "stderr",
     "output_type": "stream",
     "text": [
      "/var/folders/y4/6674dz116775fry8d67k82wm0000gn/T/ipykernel_5328/1904298965.py:3: NeptuneWarning: The following monitoring options are disabled by default in interactive sessions: 'capture_stdout', 'capture_stderr', 'capture_traceback', and 'capture_hardware_metrics'. To enable them, set each parameter to 'True' when initializing the run. The monitoring will continue until you call run.stop() or the kernel stops. Also note: Your source files can only be tracked if you pass the path(s) to the 'source_code' argument. For help, see the Neptune docs: https://docs.neptune.ai/logging/source_code/\n",
      "  run = neptune.init_run(\n"
     ]
    },
    {
     "ename": "NeptuneMissingApiTokenException",
     "evalue": "\n\u001b[95m\n----NeptuneMissingApiTokenException-------------------------------------------\n\u001b[0m\nThe Neptune client couldn't find your API token.\n\nYou can get it here:\n    - https://app.neptune.ai/get_my_api_token\n\nThere are two options to add it:\n    - specify it in your code\n    - set an environment variable in your operating system.\n\n\u001b[94mCODE\u001b[0m\nPass the token to the \u001b[1minit_run()\u001b[0m function via the \u001b[1mapi_token\u001b[0m argument:\n    \u001b[96mneptune.init_run(project='WORKSPACE_NAME/PROJECT_NAME', api_token='YOUR_API_TOKEN')\u001b[0m\n\n\u001b[94mENVIRONMENT VARIABLE\u001b[0m \u001b[92m(Recommended option)\u001b[0m\nor export or set an environment variable depending on your operating system:\n\n    \u001b[92mLinux/Unix\u001b[0m\n    In your terminal run:\n        \u001b[95mexport NEPTUNE_API_TOKEN=\"YOUR_API_TOKEN\"\u001b[0m\n\n    \u001b[92mWindows\u001b[0m\n    In your CMD run:\n        \u001b[95mset NEPTUNE_API_TOKEN=\"YOUR_API_TOKEN\"\u001b[0m\n\nand skip the \u001b[1mapi_token\u001b[0m argument of the \u001b[1minit_run()\u001b[0m function:\n    \u001b[96mneptune.init_run(project='WORKSPACE_NAME/PROJECT_NAME')\u001b[0m\n\nYou may also want to check the following docs pages:\n    - https://docs.neptune.ai/setup/setting_api_token/\n\n\u001b[92mNeed help?\u001b[0m-> https://docs.neptune.ai/getting_help\n",
     "output_type": "error",
     "traceback": [
      "\u001b[0;31m---------------------------------------------------------------------------\u001b[0m",
      "\u001b[0;31mNeptuneMissingApiTokenException\u001b[0m           Traceback (most recent call last)",
      "\u001b[1;32m/Users/manqueenmannequin/mygit/B4thesis_public/mywork/program/try_nept/try_nept.ipynb セル 4\u001b[0m line \u001b[0;36m3\n\u001b[1;32m      <a href='vscode-notebook-cell:/Users/manqueenmannequin/mygit/B4thesis_public/mywork/program/try_nept/try_nept.ipynb#W3sZmlsZQ%3D%3D?line=0'>1</a>\u001b[0m \u001b[39mimport\u001b[39;00m \u001b[39mneptune\u001b[39;00m\n\u001b[0;32m----> <a href='vscode-notebook-cell:/Users/manqueenmannequin/mygit/B4thesis_public/mywork/program/try_nept/try_nept.ipynb#W3sZmlsZQ%3D%3D?line=2'>3</a>\u001b[0m run \u001b[39m=\u001b[39m neptune\u001b[39m.\u001b[39;49minit_run(\n\u001b[1;32m      <a href='vscode-notebook-cell:/Users/manqueenmannequin/mygit/B4thesis_public/mywork/program/try_nept/try_nept.ipynb#W3sZmlsZQ%3D%3D?line=3'>4</a>\u001b[0m     project\u001b[39m=\u001b[39;49m\u001b[39m\"\u001b[39;49m\u001b[39mshokuno55/B4thesis\u001b[39;49m\u001b[39m\"\u001b[39;49m,\n\u001b[1;32m      <a href='vscode-notebook-cell:/Users/manqueenmannequin/mygit/B4thesis_public/mywork/program/try_nept/try_nept.ipynb#W3sZmlsZQ%3D%3D?line=4'>5</a>\u001b[0m     api_token\u001b[39m=\u001b[39;49mapi_token,\n\u001b[1;32m      <a href='vscode-notebook-cell:/Users/manqueenmannequin/mygit/B4thesis_public/mywork/program/try_nept/try_nept.ipynb#W3sZmlsZQ%3D%3D?line=5'>6</a>\u001b[0m )  \u001b[39m# your credentials\u001b[39;00m\n\u001b[1;32m      <a href='vscode-notebook-cell:/Users/manqueenmannequin/mygit/B4thesis_public/mywork/program/try_nept/try_nept.ipynb#W3sZmlsZQ%3D%3D?line=7'>8</a>\u001b[0m params \u001b[39m=\u001b[39m {\u001b[39m\"\u001b[39m\u001b[39mlearning_rate\u001b[39m\u001b[39m\"\u001b[39m: \u001b[39m0.001\u001b[39m, \u001b[39m\"\u001b[39m\u001b[39moptimizer\u001b[39m\u001b[39m\"\u001b[39m: \u001b[39m\"\u001b[39m\u001b[39mAdam\u001b[39m\u001b[39m\"\u001b[39m}\n\u001b[1;32m      <a href='vscode-notebook-cell:/Users/manqueenmannequin/mygit/B4thesis_public/mywork/program/try_nept/try_nept.ipynb#W3sZmlsZQ%3D%3D?line=8'>9</a>\u001b[0m run[\u001b[39m\"\u001b[39m\u001b[39mparameters\u001b[39m\u001b[39m\"\u001b[39m] \u001b[39m=\u001b[39m params\n",
      "File \u001b[0;32m~/miniforge3/envs/python38gen2/lib/python3.8/site-packages/neptune/metadata_containers/run.py:411\u001b[0m, in \u001b[0;36mRun.__init__\u001b[0;34m(self, with_id, project, api_token, custom_run_id, mode, name, description, tags, source_files, capture_stdout, capture_stderr, capture_hardware_metrics, fail_on_exception, monitoring_namespace, flush_period, proxies, capture_traceback, git_ref, dependencies, async_lag_callback, async_lag_threshold, async_no_progress_callback, async_no_progress_threshold, **kwargs)\u001b[0m\n\u001b[1;32m    408\u001b[0m \u001b[39mif\u001b[39;00m mode \u001b[39m==\u001b[39m Mode\u001b[39m.\u001b[39mOFFLINE \u001b[39mor\u001b[39;00m mode \u001b[39m==\u001b[39m Mode\u001b[39m.\u001b[39mDEBUG:\n\u001b[1;32m    409\u001b[0m     project \u001b[39m=\u001b[39m OFFLINE_PROJECT_QUALIFIED_NAME\n\u001b[0;32m--> 411\u001b[0m \u001b[39msuper\u001b[39;49m()\u001b[39m.\u001b[39;49m\u001b[39m__init__\u001b[39;49m(\n\u001b[1;32m    412\u001b[0m     project\u001b[39m=\u001b[39;49mproject,\n\u001b[1;32m    413\u001b[0m     api_token\u001b[39m=\u001b[39;49mapi_token,\n\u001b[1;32m    414\u001b[0m     mode\u001b[39m=\u001b[39;49mmode,\n\u001b[1;32m    415\u001b[0m     flush_period\u001b[39m=\u001b[39;49mflush_period,\n\u001b[1;32m    416\u001b[0m     proxies\u001b[39m=\u001b[39;49mproxies,\n\u001b[1;32m    417\u001b[0m     async_lag_callback\u001b[39m=\u001b[39;49masync_lag_callback,\n\u001b[1;32m    418\u001b[0m     async_lag_threshold\u001b[39m=\u001b[39;49masync_lag_threshold,\n\u001b[1;32m    419\u001b[0m     async_no_progress_callback\u001b[39m=\u001b[39;49masync_no_progress_callback,\n\u001b[1;32m    420\u001b[0m     async_no_progress_threshold\u001b[39m=\u001b[39;49masync_no_progress_threshold,\n\u001b[1;32m    421\u001b[0m )\n",
      "File \u001b[0;32m~/miniforge3/envs/python38gen2/lib/python3.8/site-packages/neptune/metadata_containers/metadata_container.py:144\u001b[0m, in \u001b[0;36mMetadataContainer.__init__\u001b[0;34m(self, project, api_token, mode, flush_period, proxies, async_lag_callback, async_lag_threshold, async_no_progress_callback, async_no_progress_threshold)\u001b[0m\n\u001b[1;32m    141\u001b[0m \u001b[39mself\u001b[39m\u001b[39m.\u001b[39m_forking_state: \u001b[39mbool\u001b[39m \u001b[39m=\u001b[39m \u001b[39mFalse\u001b[39;00m\n\u001b[1;32m    142\u001b[0m \u001b[39mself\u001b[39m\u001b[39m.\u001b[39m_state: ContainerState \u001b[39m=\u001b[39m ContainerState\u001b[39m.\u001b[39mCREATED\n\u001b[0;32m--> 144\u001b[0m \u001b[39mself\u001b[39m\u001b[39m.\u001b[39m_backend: NeptuneBackend \u001b[39m=\u001b[39m get_backend(mode\u001b[39m=\u001b[39;49mmode, api_token\u001b[39m=\u001b[39;49mapi_token, proxies\u001b[39m=\u001b[39;49mproxies)\n\u001b[1;32m    146\u001b[0m \u001b[39mself\u001b[39m\u001b[39m.\u001b[39m_project_qualified_name: Optional[\u001b[39mstr\u001b[39m] \u001b[39m=\u001b[39m conform_optional(project, QualifiedName)\n\u001b[1;32m    147\u001b[0m \u001b[39mself\u001b[39m\u001b[39m.\u001b[39m_project_api_object: Project \u001b[39m=\u001b[39m project_name_lookup(\n\u001b[1;32m    148\u001b[0m     backend\u001b[39m=\u001b[39m\u001b[39mself\u001b[39m\u001b[39m.\u001b[39m_backend, name\u001b[39m=\u001b[39m\u001b[39mself\u001b[39m\u001b[39m.\u001b[39m_project_qualified_name\n\u001b[1;32m    149\u001b[0m )\n",
      "File \u001b[0;32m~/miniforge3/envs/python38gen2/lib/python3.8/site-packages/neptune/internal/backends/factory.py:31\u001b[0m, in \u001b[0;36mget_backend\u001b[0;34m(mode, api_token, proxies)\u001b[0m\n\u001b[1;32m     29\u001b[0m \u001b[39mdef\u001b[39;00m \u001b[39mget_backend\u001b[39m(mode: Mode, api_token: Optional[\u001b[39mstr\u001b[39m] \u001b[39m=\u001b[39m \u001b[39mNone\u001b[39;00m, proxies: Optional[\u001b[39mdict\u001b[39m] \u001b[39m=\u001b[39m \u001b[39mNone\u001b[39;00m) \u001b[39m-\u001b[39m\u001b[39m>\u001b[39m NeptuneBackend:\n\u001b[1;32m     30\u001b[0m     \u001b[39mif\u001b[39;00m mode \u001b[39m==\u001b[39m Mode\u001b[39m.\u001b[39mASYNC:\n\u001b[0;32m---> 31\u001b[0m         \u001b[39mreturn\u001b[39;00m HostedNeptuneBackend(credentials\u001b[39m=\u001b[39mCredentials\u001b[39m.\u001b[39;49mfrom_token(api_token\u001b[39m=\u001b[39;49mapi_token), proxies\u001b[39m=\u001b[39mproxies)\n\u001b[1;32m     32\u001b[0m     \u001b[39melif\u001b[39;00m mode \u001b[39m==\u001b[39m Mode\u001b[39m.\u001b[39mSYNC:\n\u001b[1;32m     33\u001b[0m         \u001b[39mreturn\u001b[39;00m HostedNeptuneBackend(credentials\u001b[39m=\u001b[39mCredentials\u001b[39m.\u001b[39mfrom_token(api_token\u001b[39m=\u001b[39mapi_token), proxies\u001b[39m=\u001b[39mproxies)\n",
      "File \u001b[0;32m~/miniforge3/envs/python38gen2/lib/python3.8/site-packages/neptune/internal/credentials.py:49\u001b[0m, in \u001b[0;36mCredentials.from_token\u001b[0;34m(cls, api_token)\u001b[0m\n\u001b[1;32m     46\u001b[0m     api_token \u001b[39m=\u001b[39m ANONYMOUS_API_TOKEN_CONTENT\n\u001b[1;32m     48\u001b[0m \u001b[39mif\u001b[39;00m api_token \u001b[39mis\u001b[39;00m \u001b[39mNone\u001b[39;00m:\n\u001b[0;32m---> 49\u001b[0m     \u001b[39mraise\u001b[39;00m NeptuneMissingApiTokenException()\n\u001b[1;32m     51\u001b[0m api_token \u001b[39m=\u001b[39m api_token\u001b[39m.\u001b[39mstrip()\n\u001b[1;32m     52\u001b[0m token_dict \u001b[39m=\u001b[39m Credentials\u001b[39m.\u001b[39m_api_token_to_dict(api_token)\n",
      "\u001b[0;31mNeptuneMissingApiTokenException\u001b[0m: \n\u001b[95m\n----NeptuneMissingApiTokenException-------------------------------------------\n\u001b[0m\nThe Neptune client couldn't find your API token.\n\nYou can get it here:\n    - https://app.neptune.ai/get_my_api_token\n\nThere are two options to add it:\n    - specify it in your code\n    - set an environment variable in your operating system.\n\n\u001b[94mCODE\u001b[0m\nPass the token to the \u001b[1minit_run()\u001b[0m function via the \u001b[1mapi_token\u001b[0m argument:\n    \u001b[96mneptune.init_run(project='WORKSPACE_NAME/PROJECT_NAME', api_token='YOUR_API_TOKEN')\u001b[0m\n\n\u001b[94mENVIRONMENT VARIABLE\u001b[0m \u001b[92m(Recommended option)\u001b[0m\nor export or set an environment variable depending on your operating system:\n\n    \u001b[92mLinux/Unix\u001b[0m\n    In your terminal run:\n        \u001b[95mexport NEPTUNE_API_TOKEN=\"YOUR_API_TOKEN\"\u001b[0m\n\n    \u001b[92mWindows\u001b[0m\n    In your CMD run:\n        \u001b[95mset NEPTUNE_API_TOKEN=\"YOUR_API_TOKEN\"\u001b[0m\n\nand skip the \u001b[1mapi_token\u001b[0m argument of the \u001b[1minit_run()\u001b[0m function:\n    \u001b[96mneptune.init_run(project='WORKSPACE_NAME/PROJECT_NAME')\u001b[0m\n\nYou may also want to check the following docs pages:\n    - https://docs.neptune.ai/setup/setting_api_token/\n\n\u001b[92mNeed help?\u001b[0m-> https://docs.neptune.ai/getting_help\n"
     ]
    }
   ],
   "source": [
    "import neptune\n",
    "\n",
    "run = neptune.init_run(\n",
    "    project=\"shokuno55/B4thesis\",\n",
    "    api_token=api_token,\n",
    ")  # your credentials\n",
    "\n",
    "params = {\"learning_rate\": 0.001, \"optimizer\": \"Adam\"}\n",
    "run[\"parameters\"] = params\n",
    "\n",
    "for epoch in range(10):\n",
    "    run[\"train/loss\"].append(0.9 ** epoch)\n",
    "\n",
    "run[\"eval/f1_score\"] = 0.66\n",
    "\n",
    "run.stop()\n"
   ]
  }
 ],
 "metadata": {
  "kernelspec": {
   "display_name": "python38gen2",
   "language": "python",
   "name": "python3"
  },
  "language_info": {
   "codemirror_mode": {
    "name": "ipython",
    "version": 3
   },
   "file_extension": ".py",
   "mimetype": "text/x-python",
   "name": "python",
   "nbconvert_exporter": "python",
   "pygments_lexer": "ipython3",
   "version": "3.8.17"
  }
 },
 "nbformat": 4,
 "nbformat_minor": 2
}
