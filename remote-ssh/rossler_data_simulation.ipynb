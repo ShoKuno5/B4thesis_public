{
 "cells": [
  {
   "cell_type": "markdown",
   "metadata": {},
   "source": [
    "# レスラー方程式（外力のある場合）\n",
    "\n",
    "外力のない場合のレスラー方程式の予測はそれなりにうまく行った気がする．\n",
    "次は外力のある場合のレスラー方程式の予測を行ってみる．\n",
    "\n",
    "注．hyperoptが同じhyperparametersを返してしまう問題だが，train_lenを10000にすることによって回避できた．\n",
    "単純に学習期間が不足していたのかもしれない．"
   ]
  },
  {
   "cell_type": "code",
   "execution_count": 2,
   "metadata": {},
   "outputs": [
    {
     "name": "stdout",
     "output_type": "stream",
     "text": [
      "CPU times: user 4 µs, sys: 9 µs, total: 13 µs\n",
      "Wall time: 24.3 µs\n"
     ]
    }
   ],
   "source": [
    "#必要なパッケージのインポート\n",
    "\n",
    "import numpy as np\n",
    "\n",
    "import matplotlib\n",
    "import matplotlib.pyplot as plt\n",
    "\n",
    "import reservoirpy as rpy\n",
    "\n",
    "from scipy.integrate import solve_ivp\n",
    "import pandas as pd\n",
    "from reservoirpy.observables import nrmse, rsquare\n",
    "\n",
    "import matplotlib.pyplot as plt\n",
    "from mpl_toolkits.mplot3d import Axes3D\n",
    "\n",
    "\n",
    "rpy.verbosity(0)\n",
    "\n",
    "from reservoirpy.nodes import Reservoir, Ridge\n",
    "from reservoirpy.datasets import mackey_glass\n",
    "\n",
    "# just a little tweak to center the plots, nothing to worry about\n",
    "from IPython.core.display import HTML\n",
    "HTML(\"\"\"\n",
    "<style>\n",
    ".img-center {\n",
    "    display: block;\n",
    "    margin-left: auto;\n",
    "    margin-right: auto;\n",
    "    }\n",
    ".output_png {\n",
    "    display: table-cell;\n",
    "    text-align: center;\n",
    "    vertical-align: middle;\n",
    "    }\n",
    "</style>\n",
    "\"\"\")\n",
    "\n",
    "rpy.set_seed(42)\n",
    "\n",
    "%time\n"
   ]
  },
  {
   "cell_type": "code",
   "execution_count": 3,
   "metadata": {},
   "outputs": [
    {
     "name": "stdout",
     "output_type": "stream",
     "text": [
      "[[1.         1.         0.        ]\n",
      " [0.8143561  1.11164722 0.00998374]\n",
      " [0.64878658 1.20790655 0.01986771]\n",
      " ...\n",
      " [3.25371407 5.93023934 0.03264432]\n",
      " [2.60596253 6.34638839 0.02304443]\n",
      " [1.92641531 6.70386756 0.01321426]]\n"
     ]
    }
   ],
   "source": [
    "import numpy as np\n",
    "from scipy.integrate import solve_ivp\n",
    "import pandas as pd\n",
    "\n",
    "# 外力P(t)の振幅Aをパラメータとして追加します。\n",
    "A = 0.1  # 外力の振幅を設定します。この値を変更することで、外力の強さを変えられます。\n",
    "\n",
    "# レスラー方程式の定義を変更して、外力P(t)を加えます。\n",
    "def rossler_system_with_force(t, state, a, b, c):\n",
    "    x, y, z = state\n",
    "    dxdt = -y - z + A * np.sin(t)  # X項に外力P(t)を加える\n",
    "    dydt = x + a * y\n",
    "    dzdt = b + z * (x - c)\n",
    "    return [dxdt, dydt, dzdt]\n",
    "\n",
    "# パラメータ\n",
    "a = 0.2\n",
    "b = 0.2\n",
    "c = 5.7\n",
    "\n",
    "# 初期条件\n",
    "initial_state = [1.0, 1.0, 1.0]\n",
    "\n",
    "# 時間の設定\n",
    "t_span = [0, 2510]  # 開始時刻と終了時刻\n",
    "t_eval = np.linspace(t_span[0], t_span[1], 25100)  # 評価する時間点\n",
    "\n",
    "\n",
    "# 微分方程式の数値解を求める\n",
    "solution_with_force = solve_ivp(rossler_system_with_force, t_span, initial_state, args=(a, b, c), t_eval=t_eval, max_step=0.01)\n",
    "\n",
    "# 外力P(t)の計算\n",
    "P = A * np.sin(solution_with_force.t)\n",
    "\n",
    "# CSVファイルにデータを保存するためのDataFrameを作成\n",
    "data_frame_with_force = pd.DataFrame({\n",
    "    'time': solution_with_force.t,\n",
    "    'x': solution_with_force.y[0],\n",
    "    'y': solution_with_force.y[1],\n",
    "    'z': solution_with_force.y[2],\n",
    "    'P': P  # 外力P(t)の列を追加\n",
    "})\n",
    "\n",
    "# CSVファイルにデータを保存\n",
    "filename_with_force = 'rossler_data_with_force1.3.1.csv'\n",
    "data_frame_with_force.to_csv(filename_with_force, index=False)\n",
    "\n",
    "# CSVファイルを読み込む\n",
    "data_loaded_with_force = pd.read_csv(filename_with_force)\n",
    "\n",
    "# CSVから値を抽出してNumpy配列に格納\n",
    "X = data_loaded_with_force[['x', 'y', 'P']].values\n",
    "\n",
    "print(X)\n"
   ]
  }
 ],
 "metadata": {
  "kernelspec": {
   "display_name": "python38gen2",
   "language": "python",
   "name": "python3"
  },
  "language_info": {
   "codemirror_mode": {
    "name": "ipython",
    "version": 3
   },
   "file_extension": ".py",
   "mimetype": "text/x-python",
   "name": "python",
   "nbconvert_exporter": "python",
   "pygments_lexer": "ipython3",
   "version": "3.8.8"
  }
 },
 "nbformat": 4,
 "nbformat_minor": 2
}
